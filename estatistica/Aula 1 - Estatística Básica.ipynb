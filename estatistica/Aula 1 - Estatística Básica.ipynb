{
  "cells": [
    {
      "cell_type": "markdown",
      "id": "1a9cdf8b",
      "metadata": {
        "id": "1a9cdf8b"
      },
      "source": [
        "# Estatística Básica"
      ]
    },
    {
      "cell_type": "markdown",
      "source": [
        "## Descrição do *dataset*\n",
        "\n",
        "\n",
        "Este conjunto de dados é uma versão ligeiramente modificada do conjunto de dados fornecido na biblioteca StatLib.\n",
        "\n",
        "\"Os dados referem-se ao consumo de combustível no ciclo urbano em milhas por galão, a ser previsto em termos de 3 atributos discretos de múltiplos valores e 5 atributos contínuos.\" (Quinlan, 1993)\n",
        "\n",
        "Fonte dos dados: [Auto MPG - UCI Machine Learning Repository](https://archive.ics.uci.edu/dataset/9/auto+mpg)\n",
        "\n",
        "**Colunas**\n",
        "\n",
        "- `mpg`: consumo do veículo em milhas por galão;\n",
        "- `cylinders`: indica a quantidade de cilindradas do veículo;\n",
        "- `displacement`: ?\n",
        "- `horsepower`: potência do veículo;\n",
        "- `weight`: peso do veículo;\n",
        "- `acceleration`: aceleração do automóvel;\n",
        "- `model_year`: ano do modelo;\n",
        "- `origin`: local de origem do veículo;\n",
        "- `name`: modelo do veículo.\n"
      ],
      "metadata": {
        "id": "9ujU_nFVDlWC"
      },
      "id": "9ujU_nFVDlWC"
    },
    {
      "cell_type": "code",
      "source": [
        "# Import das bibliotecas\n",
        "\n",
        "import pandas as pd\n",
        "import numpy as np\n",
        "import matplotlib.pyplot as plt # visualização gráfica\n",
        "import seaborn as sns"
      ],
      "metadata": {
        "id": "MGc54Z-QG89s"
      },
      "id": "MGc54Z-QG89s",
      "execution_count": 117,
      "outputs": []
    },
    {
      "cell_type": "markdown",
      "source": [
        "A biblioteca **seaborn** já contém diversos *datasets* embutidos, portanto, vamos usar aquele descrito acima:"
      ],
      "metadata": {
        "id": "TSFfj9W4HMZ9"
      },
      "id": "TSFfj9W4HMZ9"
    },
    {
      "cell_type": "code",
      "source": [
        "# mpg\n",
        "\n",
        "data = sns.load_dataset('mpg')\n",
        "data"
      ],
      "metadata": {
        "id": "buybBoyVHcv-",
        "colab": {
          "base_uri": "https://localhost:8080/",
          "height": 423
        },
        "outputId": "5d588f2d-4fb1-4473-edee-5300869fad01"
      },
      "id": "buybBoyVHcv-",
      "execution_count": 118,
      "outputs": [
        {
          "output_type": "execute_result",
          "data": {
            "text/plain": [
              "      mpg  cylinders  displacement  horsepower  weight  acceleration  \\\n",
              "0    18.0          8         307.0       130.0    3504          12.0   \n",
              "1    15.0          8         350.0       165.0    3693          11.5   \n",
              "2    18.0          8         318.0       150.0    3436          11.0   \n",
              "3    16.0          8         304.0       150.0    3433          12.0   \n",
              "4    17.0          8         302.0       140.0    3449          10.5   \n",
              "..    ...        ...           ...         ...     ...           ...   \n",
              "393  27.0          4         140.0        86.0    2790          15.6   \n",
              "394  44.0          4          97.0        52.0    2130          24.6   \n",
              "395  32.0          4         135.0        84.0    2295          11.6   \n",
              "396  28.0          4         120.0        79.0    2625          18.6   \n",
              "397  31.0          4         119.0        82.0    2720          19.4   \n",
              "\n",
              "     model_year  origin                       name  \n",
              "0            70     usa  chevrolet chevelle malibu  \n",
              "1            70     usa          buick skylark 320  \n",
              "2            70     usa         plymouth satellite  \n",
              "3            70     usa              amc rebel sst  \n",
              "4            70     usa                ford torino  \n",
              "..          ...     ...                        ...  \n",
              "393          82     usa            ford mustang gl  \n",
              "394          82  europe                  vw pickup  \n",
              "395          82     usa              dodge rampage  \n",
              "396          82     usa                ford ranger  \n",
              "397          82     usa                 chevy s-10  \n",
              "\n",
              "[398 rows x 9 columns]"
            ],
            "text/html": [
              "\n",
              "  <div id=\"df-621e6448-0b5f-4863-ad35-732f08439600\" class=\"colab-df-container\">\n",
              "    <div>\n",
              "<style scoped>\n",
              "    .dataframe tbody tr th:only-of-type {\n",
              "        vertical-align: middle;\n",
              "    }\n",
              "\n",
              "    .dataframe tbody tr th {\n",
              "        vertical-align: top;\n",
              "    }\n",
              "\n",
              "    .dataframe thead th {\n",
              "        text-align: right;\n",
              "    }\n",
              "</style>\n",
              "<table border=\"1\" class=\"dataframe\">\n",
              "  <thead>\n",
              "    <tr style=\"text-align: right;\">\n",
              "      <th></th>\n",
              "      <th>mpg</th>\n",
              "      <th>cylinders</th>\n",
              "      <th>displacement</th>\n",
              "      <th>horsepower</th>\n",
              "      <th>weight</th>\n",
              "      <th>acceleration</th>\n",
              "      <th>model_year</th>\n",
              "      <th>origin</th>\n",
              "      <th>name</th>\n",
              "    </tr>\n",
              "  </thead>\n",
              "  <tbody>\n",
              "    <tr>\n",
              "      <th>0</th>\n",
              "      <td>18.0</td>\n",
              "      <td>8</td>\n",
              "      <td>307.0</td>\n",
              "      <td>130.0</td>\n",
              "      <td>3504</td>\n",
              "      <td>12.0</td>\n",
              "      <td>70</td>\n",
              "      <td>usa</td>\n",
              "      <td>chevrolet chevelle malibu</td>\n",
              "    </tr>\n",
              "    <tr>\n",
              "      <th>1</th>\n",
              "      <td>15.0</td>\n",
              "      <td>8</td>\n",
              "      <td>350.0</td>\n",
              "      <td>165.0</td>\n",
              "      <td>3693</td>\n",
              "      <td>11.5</td>\n",
              "      <td>70</td>\n",
              "      <td>usa</td>\n",
              "      <td>buick skylark 320</td>\n",
              "    </tr>\n",
              "    <tr>\n",
              "      <th>2</th>\n",
              "      <td>18.0</td>\n",
              "      <td>8</td>\n",
              "      <td>318.0</td>\n",
              "      <td>150.0</td>\n",
              "      <td>3436</td>\n",
              "      <td>11.0</td>\n",
              "      <td>70</td>\n",
              "      <td>usa</td>\n",
              "      <td>plymouth satellite</td>\n",
              "    </tr>\n",
              "    <tr>\n",
              "      <th>3</th>\n",
              "      <td>16.0</td>\n",
              "      <td>8</td>\n",
              "      <td>304.0</td>\n",
              "      <td>150.0</td>\n",
              "      <td>3433</td>\n",
              "      <td>12.0</td>\n",
              "      <td>70</td>\n",
              "      <td>usa</td>\n",
              "      <td>amc rebel sst</td>\n",
              "    </tr>\n",
              "    <tr>\n",
              "      <th>4</th>\n",
              "      <td>17.0</td>\n",
              "      <td>8</td>\n",
              "      <td>302.0</td>\n",
              "      <td>140.0</td>\n",
              "      <td>3449</td>\n",
              "      <td>10.5</td>\n",
              "      <td>70</td>\n",
              "      <td>usa</td>\n",
              "      <td>ford torino</td>\n",
              "    </tr>\n",
              "    <tr>\n",
              "      <th>...</th>\n",
              "      <td>...</td>\n",
              "      <td>...</td>\n",
              "      <td>...</td>\n",
              "      <td>...</td>\n",
              "      <td>...</td>\n",
              "      <td>...</td>\n",
              "      <td>...</td>\n",
              "      <td>...</td>\n",
              "      <td>...</td>\n",
              "    </tr>\n",
              "    <tr>\n",
              "      <th>393</th>\n",
              "      <td>27.0</td>\n",
              "      <td>4</td>\n",
              "      <td>140.0</td>\n",
              "      <td>86.0</td>\n",
              "      <td>2790</td>\n",
              "      <td>15.6</td>\n",
              "      <td>82</td>\n",
              "      <td>usa</td>\n",
              "      <td>ford mustang gl</td>\n",
              "    </tr>\n",
              "    <tr>\n",
              "      <th>394</th>\n",
              "      <td>44.0</td>\n",
              "      <td>4</td>\n",
              "      <td>97.0</td>\n",
              "      <td>52.0</td>\n",
              "      <td>2130</td>\n",
              "      <td>24.6</td>\n",
              "      <td>82</td>\n",
              "      <td>europe</td>\n",
              "      <td>vw pickup</td>\n",
              "    </tr>\n",
              "    <tr>\n",
              "      <th>395</th>\n",
              "      <td>32.0</td>\n",
              "      <td>4</td>\n",
              "      <td>135.0</td>\n",
              "      <td>84.0</td>\n",
              "      <td>2295</td>\n",
              "      <td>11.6</td>\n",
              "      <td>82</td>\n",
              "      <td>usa</td>\n",
              "      <td>dodge rampage</td>\n",
              "    </tr>\n",
              "    <tr>\n",
              "      <th>396</th>\n",
              "      <td>28.0</td>\n",
              "      <td>4</td>\n",
              "      <td>120.0</td>\n",
              "      <td>79.0</td>\n",
              "      <td>2625</td>\n",
              "      <td>18.6</td>\n",
              "      <td>82</td>\n",
              "      <td>usa</td>\n",
              "      <td>ford ranger</td>\n",
              "    </tr>\n",
              "    <tr>\n",
              "      <th>397</th>\n",
              "      <td>31.0</td>\n",
              "      <td>4</td>\n",
              "      <td>119.0</td>\n",
              "      <td>82.0</td>\n",
              "      <td>2720</td>\n",
              "      <td>19.4</td>\n",
              "      <td>82</td>\n",
              "      <td>usa</td>\n",
              "      <td>chevy s-10</td>\n",
              "    </tr>\n",
              "  </tbody>\n",
              "</table>\n",
              "<p>398 rows × 9 columns</p>\n",
              "</div>\n",
              "    <div class=\"colab-df-buttons\">\n",
              "\n",
              "  <div class=\"colab-df-container\">\n",
              "    <button class=\"colab-df-convert\" onclick=\"convertToInteractive('df-621e6448-0b5f-4863-ad35-732f08439600')\"\n",
              "            title=\"Convert this dataframe to an interactive table.\"\n",
              "            style=\"display:none;\">\n",
              "\n",
              "  <svg xmlns=\"http://www.w3.org/2000/svg\" height=\"24px\" viewBox=\"0 -960 960 960\">\n",
              "    <path d=\"M120-120v-720h720v720H120Zm60-500h600v-160H180v160Zm220 220h160v-160H400v160Zm0 220h160v-160H400v160ZM180-400h160v-160H180v160Zm440 0h160v-160H620v160ZM180-180h160v-160H180v160Zm440 0h160v-160H620v160Z\"/>\n",
              "  </svg>\n",
              "    </button>\n",
              "\n",
              "  <style>\n",
              "    .colab-df-container {\n",
              "      display:flex;\n",
              "      gap: 12px;\n",
              "    }\n",
              "\n",
              "    .colab-df-convert {\n",
              "      background-color: #E8F0FE;\n",
              "      border: none;\n",
              "      border-radius: 50%;\n",
              "      cursor: pointer;\n",
              "      display: none;\n",
              "      fill: #1967D2;\n",
              "      height: 32px;\n",
              "      padding: 0 0 0 0;\n",
              "      width: 32px;\n",
              "    }\n",
              "\n",
              "    .colab-df-convert:hover {\n",
              "      background-color: #E2EBFA;\n",
              "      box-shadow: 0px 1px 2px rgba(60, 64, 67, 0.3), 0px 1px 3px 1px rgba(60, 64, 67, 0.15);\n",
              "      fill: #174EA6;\n",
              "    }\n",
              "\n",
              "    .colab-df-buttons div {\n",
              "      margin-bottom: 4px;\n",
              "    }\n",
              "\n",
              "    [theme=dark] .colab-df-convert {\n",
              "      background-color: #3B4455;\n",
              "      fill: #D2E3FC;\n",
              "    }\n",
              "\n",
              "    [theme=dark] .colab-df-convert:hover {\n",
              "      background-color: #434B5C;\n",
              "      box-shadow: 0px 1px 3px 1px rgba(0, 0, 0, 0.15);\n",
              "      filter: drop-shadow(0px 1px 2px rgba(0, 0, 0, 0.3));\n",
              "      fill: #FFFFFF;\n",
              "    }\n",
              "  </style>\n",
              "\n",
              "    <script>\n",
              "      const buttonEl =\n",
              "        document.querySelector('#df-621e6448-0b5f-4863-ad35-732f08439600 button.colab-df-convert');\n",
              "      buttonEl.style.display =\n",
              "        google.colab.kernel.accessAllowed ? 'block' : 'none';\n",
              "\n",
              "      async function convertToInteractive(key) {\n",
              "        const element = document.querySelector('#df-621e6448-0b5f-4863-ad35-732f08439600');\n",
              "        const dataTable =\n",
              "          await google.colab.kernel.invokeFunction('convertToInteractive',\n",
              "                                                    [key], {});\n",
              "        if (!dataTable) return;\n",
              "\n",
              "        const docLinkHtml = 'Like what you see? Visit the ' +\n",
              "          '<a target=\"_blank\" href=https://colab.research.google.com/notebooks/data_table.ipynb>data table notebook</a>'\n",
              "          + ' to learn more about interactive tables.';\n",
              "        element.innerHTML = '';\n",
              "        dataTable['output_type'] = 'display_data';\n",
              "        await google.colab.output.renderOutput(dataTable, element);\n",
              "        const docLink = document.createElement('div');\n",
              "        docLink.innerHTML = docLinkHtml;\n",
              "        element.appendChild(docLink);\n",
              "      }\n",
              "    </script>\n",
              "  </div>\n",
              "\n",
              "\n",
              "<div id=\"df-2fa00c7c-0f40-493a-aa7b-f910552de452\">\n",
              "  <button class=\"colab-df-quickchart\" onclick=\"quickchart('df-2fa00c7c-0f40-493a-aa7b-f910552de452')\"\n",
              "            title=\"Suggest charts\"\n",
              "            style=\"display:none;\">\n",
              "\n",
              "<svg xmlns=\"http://www.w3.org/2000/svg\" height=\"24px\"viewBox=\"0 0 24 24\"\n",
              "     width=\"24px\">\n",
              "    <g>\n",
              "        <path d=\"M19 3H5c-1.1 0-2 .9-2 2v14c0 1.1.9 2 2 2h14c1.1 0 2-.9 2-2V5c0-1.1-.9-2-2-2zM9 17H7v-7h2v7zm4 0h-2V7h2v10zm4 0h-2v-4h2v4z\"/>\n",
              "    </g>\n",
              "</svg>\n",
              "  </button>\n",
              "\n",
              "<style>\n",
              "  .colab-df-quickchart {\n",
              "      --bg-color: #E8F0FE;\n",
              "      --fill-color: #1967D2;\n",
              "      --hover-bg-color: #E2EBFA;\n",
              "      --hover-fill-color: #174EA6;\n",
              "      --disabled-fill-color: #AAA;\n",
              "      --disabled-bg-color: #DDD;\n",
              "  }\n",
              "\n",
              "  [theme=dark] .colab-df-quickchart {\n",
              "      --bg-color: #3B4455;\n",
              "      --fill-color: #D2E3FC;\n",
              "      --hover-bg-color: #434B5C;\n",
              "      --hover-fill-color: #FFFFFF;\n",
              "      --disabled-bg-color: #3B4455;\n",
              "      --disabled-fill-color: #666;\n",
              "  }\n",
              "\n",
              "  .colab-df-quickchart {\n",
              "    background-color: var(--bg-color);\n",
              "    border: none;\n",
              "    border-radius: 50%;\n",
              "    cursor: pointer;\n",
              "    display: none;\n",
              "    fill: var(--fill-color);\n",
              "    height: 32px;\n",
              "    padding: 0;\n",
              "    width: 32px;\n",
              "  }\n",
              "\n",
              "  .colab-df-quickchart:hover {\n",
              "    background-color: var(--hover-bg-color);\n",
              "    box-shadow: 0 1px 2px rgba(60, 64, 67, 0.3), 0 1px 3px 1px rgba(60, 64, 67, 0.15);\n",
              "    fill: var(--button-hover-fill-color);\n",
              "  }\n",
              "\n",
              "  .colab-df-quickchart-complete:disabled,\n",
              "  .colab-df-quickchart-complete:disabled:hover {\n",
              "    background-color: var(--disabled-bg-color);\n",
              "    fill: var(--disabled-fill-color);\n",
              "    box-shadow: none;\n",
              "  }\n",
              "\n",
              "  .colab-df-spinner {\n",
              "    border: 2px solid var(--fill-color);\n",
              "    border-color: transparent;\n",
              "    border-bottom-color: var(--fill-color);\n",
              "    animation:\n",
              "      spin 1s steps(1) infinite;\n",
              "  }\n",
              "\n",
              "  @keyframes spin {\n",
              "    0% {\n",
              "      border-color: transparent;\n",
              "      border-bottom-color: var(--fill-color);\n",
              "      border-left-color: var(--fill-color);\n",
              "    }\n",
              "    20% {\n",
              "      border-color: transparent;\n",
              "      border-left-color: var(--fill-color);\n",
              "      border-top-color: var(--fill-color);\n",
              "    }\n",
              "    30% {\n",
              "      border-color: transparent;\n",
              "      border-left-color: var(--fill-color);\n",
              "      border-top-color: var(--fill-color);\n",
              "      border-right-color: var(--fill-color);\n",
              "    }\n",
              "    40% {\n",
              "      border-color: transparent;\n",
              "      border-right-color: var(--fill-color);\n",
              "      border-top-color: var(--fill-color);\n",
              "    }\n",
              "    60% {\n",
              "      border-color: transparent;\n",
              "      border-right-color: var(--fill-color);\n",
              "    }\n",
              "    80% {\n",
              "      border-color: transparent;\n",
              "      border-right-color: var(--fill-color);\n",
              "      border-bottom-color: var(--fill-color);\n",
              "    }\n",
              "    90% {\n",
              "      border-color: transparent;\n",
              "      border-bottom-color: var(--fill-color);\n",
              "    }\n",
              "  }\n",
              "</style>\n",
              "\n",
              "  <script>\n",
              "    async function quickchart(key) {\n",
              "      const quickchartButtonEl =\n",
              "        document.querySelector('#' + key + ' button');\n",
              "      quickchartButtonEl.disabled = true;  // To prevent multiple clicks.\n",
              "      quickchartButtonEl.classList.add('colab-df-spinner');\n",
              "      try {\n",
              "        const charts = await google.colab.kernel.invokeFunction(\n",
              "            'suggestCharts', [key], {});\n",
              "      } catch (error) {\n",
              "        console.error('Error during call to suggestCharts:', error);\n",
              "      }\n",
              "      quickchartButtonEl.classList.remove('colab-df-spinner');\n",
              "      quickchartButtonEl.classList.add('colab-df-quickchart-complete');\n",
              "    }\n",
              "    (() => {\n",
              "      let quickchartButtonEl =\n",
              "        document.querySelector('#df-2fa00c7c-0f40-493a-aa7b-f910552de452 button');\n",
              "      quickchartButtonEl.style.display =\n",
              "        google.colab.kernel.accessAllowed ? 'block' : 'none';\n",
              "    })();\n",
              "  </script>\n",
              "</div>\n",
              "\n",
              "  <div id=\"id_11322499-d71d-4078-94cd-56a2bffbd029\">\n",
              "    <style>\n",
              "      .colab-df-generate {\n",
              "        background-color: #E8F0FE;\n",
              "        border: none;\n",
              "        border-radius: 50%;\n",
              "        cursor: pointer;\n",
              "        display: none;\n",
              "        fill: #1967D2;\n",
              "        height: 32px;\n",
              "        padding: 0 0 0 0;\n",
              "        width: 32px;\n",
              "      }\n",
              "\n",
              "      .colab-df-generate:hover {\n",
              "        background-color: #E2EBFA;\n",
              "        box-shadow: 0px 1px 2px rgba(60, 64, 67, 0.3), 0px 1px 3px 1px rgba(60, 64, 67, 0.15);\n",
              "        fill: #174EA6;\n",
              "      }\n",
              "\n",
              "      [theme=dark] .colab-df-generate {\n",
              "        background-color: #3B4455;\n",
              "        fill: #D2E3FC;\n",
              "      }\n",
              "\n",
              "      [theme=dark] .colab-df-generate:hover {\n",
              "        background-color: #434B5C;\n",
              "        box-shadow: 0px 1px 3px 1px rgba(0, 0, 0, 0.15);\n",
              "        filter: drop-shadow(0px 1px 2px rgba(0, 0, 0, 0.3));\n",
              "        fill: #FFFFFF;\n",
              "      }\n",
              "    </style>\n",
              "    <button class=\"colab-df-generate\" onclick=\"generateWithVariable('data')\"\n",
              "            title=\"Generate code using this dataframe.\"\n",
              "            style=\"display:none;\">\n",
              "\n",
              "  <svg xmlns=\"http://www.w3.org/2000/svg\" height=\"24px\"viewBox=\"0 0 24 24\"\n",
              "       width=\"24px\">\n",
              "    <path d=\"M7,19H8.4L18.45,9,17,7.55,7,17.6ZM5,21V16.75L18.45,3.32a2,2,0,0,1,2.83,0l1.4,1.43a1.91,1.91,0,0,1,.58,1.4,1.91,1.91,0,0,1-.58,1.4L9.25,21ZM18.45,9,17,7.55Zm-12,3A5.31,5.31,0,0,0,4.9,8.1,5.31,5.31,0,0,0,1,6.5,5.31,5.31,0,0,0,4.9,4.9,5.31,5.31,0,0,0,6.5,1,5.31,5.31,0,0,0,8.1,4.9,5.31,5.31,0,0,0,12,6.5,5.46,5.46,0,0,0,6.5,12Z\"/>\n",
              "  </svg>\n",
              "    </button>\n",
              "    <script>\n",
              "      (() => {\n",
              "      const buttonEl =\n",
              "        document.querySelector('#id_11322499-d71d-4078-94cd-56a2bffbd029 button.colab-df-generate');\n",
              "      buttonEl.style.display =\n",
              "        google.colab.kernel.accessAllowed ? 'block' : 'none';\n",
              "\n",
              "      buttonEl.onclick = () => {\n",
              "        google.colab.notebook.generateWithVariable('data');\n",
              "      }\n",
              "      })();\n",
              "    </script>\n",
              "  </div>\n",
              "\n",
              "    </div>\n",
              "  </div>\n"
            ]
          },
          "metadata": {},
          "execution_count": 118
        }
      ]
    },
    {
      "cell_type": "code",
      "execution_count": 119,
      "id": "4e5e834c",
      "metadata": {
        "id": "4e5e834c",
        "colab": {
          "base_uri": "https://localhost:8080/",
          "height": 363
        },
        "outputId": "02b407d9-b9e7-423b-d44d-4941f8bd4c28"
      },
      "outputs": [
        {
          "output_type": "execute_result",
          "data": {
            "text/plain": [
              "    mpg  cylinders  displacement  horsepower  weight  acceleration  \\\n",
              "0  18.0          8         307.0       130.0    3504          12.0   \n",
              "1  15.0          8         350.0       165.0    3693          11.5   \n",
              "2  18.0          8         318.0       150.0    3436          11.0   \n",
              "3  16.0          8         304.0       150.0    3433          12.0   \n",
              "4  17.0          8         302.0       140.0    3449          10.5   \n",
              "5  15.0          8         429.0       198.0    4341          10.0   \n",
              "6  14.0          8         454.0       220.0    4354           9.0   \n",
              "7  14.0          8         440.0       215.0    4312           8.5   \n",
              "8  14.0          8         455.0       225.0    4425          10.0   \n",
              "9  15.0          8         390.0       190.0    3850           8.5   \n",
              "\n",
              "   model_year origin                       name  \n",
              "0          70    usa  chevrolet chevelle malibu  \n",
              "1          70    usa          buick skylark 320  \n",
              "2          70    usa         plymouth satellite  \n",
              "3          70    usa              amc rebel sst  \n",
              "4          70    usa                ford torino  \n",
              "5          70    usa           ford galaxie 500  \n",
              "6          70    usa           chevrolet impala  \n",
              "7          70    usa          plymouth fury iii  \n",
              "8          70    usa           pontiac catalina  \n",
              "9          70    usa         amc ambassador dpl  "
            ],
            "text/html": [
              "\n",
              "  <div id=\"df-b272232f-ecfe-413b-833a-411ee423cae7\" class=\"colab-df-container\">\n",
              "    <div>\n",
              "<style scoped>\n",
              "    .dataframe tbody tr th:only-of-type {\n",
              "        vertical-align: middle;\n",
              "    }\n",
              "\n",
              "    .dataframe tbody tr th {\n",
              "        vertical-align: top;\n",
              "    }\n",
              "\n",
              "    .dataframe thead th {\n",
              "        text-align: right;\n",
              "    }\n",
              "</style>\n",
              "<table border=\"1\" class=\"dataframe\">\n",
              "  <thead>\n",
              "    <tr style=\"text-align: right;\">\n",
              "      <th></th>\n",
              "      <th>mpg</th>\n",
              "      <th>cylinders</th>\n",
              "      <th>displacement</th>\n",
              "      <th>horsepower</th>\n",
              "      <th>weight</th>\n",
              "      <th>acceleration</th>\n",
              "      <th>model_year</th>\n",
              "      <th>origin</th>\n",
              "      <th>name</th>\n",
              "    </tr>\n",
              "  </thead>\n",
              "  <tbody>\n",
              "    <tr>\n",
              "      <th>0</th>\n",
              "      <td>18.0</td>\n",
              "      <td>8</td>\n",
              "      <td>307.0</td>\n",
              "      <td>130.0</td>\n",
              "      <td>3504</td>\n",
              "      <td>12.0</td>\n",
              "      <td>70</td>\n",
              "      <td>usa</td>\n",
              "      <td>chevrolet chevelle malibu</td>\n",
              "    </tr>\n",
              "    <tr>\n",
              "      <th>1</th>\n",
              "      <td>15.0</td>\n",
              "      <td>8</td>\n",
              "      <td>350.0</td>\n",
              "      <td>165.0</td>\n",
              "      <td>3693</td>\n",
              "      <td>11.5</td>\n",
              "      <td>70</td>\n",
              "      <td>usa</td>\n",
              "      <td>buick skylark 320</td>\n",
              "    </tr>\n",
              "    <tr>\n",
              "      <th>2</th>\n",
              "      <td>18.0</td>\n",
              "      <td>8</td>\n",
              "      <td>318.0</td>\n",
              "      <td>150.0</td>\n",
              "      <td>3436</td>\n",
              "      <td>11.0</td>\n",
              "      <td>70</td>\n",
              "      <td>usa</td>\n",
              "      <td>plymouth satellite</td>\n",
              "    </tr>\n",
              "    <tr>\n",
              "      <th>3</th>\n",
              "      <td>16.0</td>\n",
              "      <td>8</td>\n",
              "      <td>304.0</td>\n",
              "      <td>150.0</td>\n",
              "      <td>3433</td>\n",
              "      <td>12.0</td>\n",
              "      <td>70</td>\n",
              "      <td>usa</td>\n",
              "      <td>amc rebel sst</td>\n",
              "    </tr>\n",
              "    <tr>\n",
              "      <th>4</th>\n",
              "      <td>17.0</td>\n",
              "      <td>8</td>\n",
              "      <td>302.0</td>\n",
              "      <td>140.0</td>\n",
              "      <td>3449</td>\n",
              "      <td>10.5</td>\n",
              "      <td>70</td>\n",
              "      <td>usa</td>\n",
              "      <td>ford torino</td>\n",
              "    </tr>\n",
              "    <tr>\n",
              "      <th>5</th>\n",
              "      <td>15.0</td>\n",
              "      <td>8</td>\n",
              "      <td>429.0</td>\n",
              "      <td>198.0</td>\n",
              "      <td>4341</td>\n",
              "      <td>10.0</td>\n",
              "      <td>70</td>\n",
              "      <td>usa</td>\n",
              "      <td>ford galaxie 500</td>\n",
              "    </tr>\n",
              "    <tr>\n",
              "      <th>6</th>\n",
              "      <td>14.0</td>\n",
              "      <td>8</td>\n",
              "      <td>454.0</td>\n",
              "      <td>220.0</td>\n",
              "      <td>4354</td>\n",
              "      <td>9.0</td>\n",
              "      <td>70</td>\n",
              "      <td>usa</td>\n",
              "      <td>chevrolet impala</td>\n",
              "    </tr>\n",
              "    <tr>\n",
              "      <th>7</th>\n",
              "      <td>14.0</td>\n",
              "      <td>8</td>\n",
              "      <td>440.0</td>\n",
              "      <td>215.0</td>\n",
              "      <td>4312</td>\n",
              "      <td>8.5</td>\n",
              "      <td>70</td>\n",
              "      <td>usa</td>\n",
              "      <td>plymouth fury iii</td>\n",
              "    </tr>\n",
              "    <tr>\n",
              "      <th>8</th>\n",
              "      <td>14.0</td>\n",
              "      <td>8</td>\n",
              "      <td>455.0</td>\n",
              "      <td>225.0</td>\n",
              "      <td>4425</td>\n",
              "      <td>10.0</td>\n",
              "      <td>70</td>\n",
              "      <td>usa</td>\n",
              "      <td>pontiac catalina</td>\n",
              "    </tr>\n",
              "    <tr>\n",
              "      <th>9</th>\n",
              "      <td>15.0</td>\n",
              "      <td>8</td>\n",
              "      <td>390.0</td>\n",
              "      <td>190.0</td>\n",
              "      <td>3850</td>\n",
              "      <td>8.5</td>\n",
              "      <td>70</td>\n",
              "      <td>usa</td>\n",
              "      <td>amc ambassador dpl</td>\n",
              "    </tr>\n",
              "  </tbody>\n",
              "</table>\n",
              "</div>\n",
              "    <div class=\"colab-df-buttons\">\n",
              "\n",
              "  <div class=\"colab-df-container\">\n",
              "    <button class=\"colab-df-convert\" onclick=\"convertToInteractive('df-b272232f-ecfe-413b-833a-411ee423cae7')\"\n",
              "            title=\"Convert this dataframe to an interactive table.\"\n",
              "            style=\"display:none;\">\n",
              "\n",
              "  <svg xmlns=\"http://www.w3.org/2000/svg\" height=\"24px\" viewBox=\"0 -960 960 960\">\n",
              "    <path d=\"M120-120v-720h720v720H120Zm60-500h600v-160H180v160Zm220 220h160v-160H400v160Zm0 220h160v-160H400v160ZM180-400h160v-160H180v160Zm440 0h160v-160H620v160ZM180-180h160v-160H180v160Zm440 0h160v-160H620v160Z\"/>\n",
              "  </svg>\n",
              "    </button>\n",
              "\n",
              "  <style>\n",
              "    .colab-df-container {\n",
              "      display:flex;\n",
              "      gap: 12px;\n",
              "    }\n",
              "\n",
              "    .colab-df-convert {\n",
              "      background-color: #E8F0FE;\n",
              "      border: none;\n",
              "      border-radius: 50%;\n",
              "      cursor: pointer;\n",
              "      display: none;\n",
              "      fill: #1967D2;\n",
              "      height: 32px;\n",
              "      padding: 0 0 0 0;\n",
              "      width: 32px;\n",
              "    }\n",
              "\n",
              "    .colab-df-convert:hover {\n",
              "      background-color: #E2EBFA;\n",
              "      box-shadow: 0px 1px 2px rgba(60, 64, 67, 0.3), 0px 1px 3px 1px rgba(60, 64, 67, 0.15);\n",
              "      fill: #174EA6;\n",
              "    }\n",
              "\n",
              "    .colab-df-buttons div {\n",
              "      margin-bottom: 4px;\n",
              "    }\n",
              "\n",
              "    [theme=dark] .colab-df-convert {\n",
              "      background-color: #3B4455;\n",
              "      fill: #D2E3FC;\n",
              "    }\n",
              "\n",
              "    [theme=dark] .colab-df-convert:hover {\n",
              "      background-color: #434B5C;\n",
              "      box-shadow: 0px 1px 3px 1px rgba(0, 0, 0, 0.15);\n",
              "      filter: drop-shadow(0px 1px 2px rgba(0, 0, 0, 0.3));\n",
              "      fill: #FFFFFF;\n",
              "    }\n",
              "  </style>\n",
              "\n",
              "    <script>\n",
              "      const buttonEl =\n",
              "        document.querySelector('#df-b272232f-ecfe-413b-833a-411ee423cae7 button.colab-df-convert');\n",
              "      buttonEl.style.display =\n",
              "        google.colab.kernel.accessAllowed ? 'block' : 'none';\n",
              "\n",
              "      async function convertToInteractive(key) {\n",
              "        const element = document.querySelector('#df-b272232f-ecfe-413b-833a-411ee423cae7');\n",
              "        const dataTable =\n",
              "          await google.colab.kernel.invokeFunction('convertToInteractive',\n",
              "                                                    [key], {});\n",
              "        if (!dataTable) return;\n",
              "\n",
              "        const docLinkHtml = 'Like what you see? Visit the ' +\n",
              "          '<a target=\"_blank\" href=https://colab.research.google.com/notebooks/data_table.ipynb>data table notebook</a>'\n",
              "          + ' to learn more about interactive tables.';\n",
              "        element.innerHTML = '';\n",
              "        dataTable['output_type'] = 'display_data';\n",
              "        await google.colab.output.renderOutput(dataTable, element);\n",
              "        const docLink = document.createElement('div');\n",
              "        docLink.innerHTML = docLinkHtml;\n",
              "        element.appendChild(docLink);\n",
              "      }\n",
              "    </script>\n",
              "  </div>\n",
              "\n",
              "\n",
              "<div id=\"df-724dc26e-4803-4f2e-839d-e448abad6ead\">\n",
              "  <button class=\"colab-df-quickchart\" onclick=\"quickchart('df-724dc26e-4803-4f2e-839d-e448abad6ead')\"\n",
              "            title=\"Suggest charts\"\n",
              "            style=\"display:none;\">\n",
              "\n",
              "<svg xmlns=\"http://www.w3.org/2000/svg\" height=\"24px\"viewBox=\"0 0 24 24\"\n",
              "     width=\"24px\">\n",
              "    <g>\n",
              "        <path d=\"M19 3H5c-1.1 0-2 .9-2 2v14c0 1.1.9 2 2 2h14c1.1 0 2-.9 2-2V5c0-1.1-.9-2-2-2zM9 17H7v-7h2v7zm4 0h-2V7h2v10zm4 0h-2v-4h2v4z\"/>\n",
              "    </g>\n",
              "</svg>\n",
              "  </button>\n",
              "\n",
              "<style>\n",
              "  .colab-df-quickchart {\n",
              "      --bg-color: #E8F0FE;\n",
              "      --fill-color: #1967D2;\n",
              "      --hover-bg-color: #E2EBFA;\n",
              "      --hover-fill-color: #174EA6;\n",
              "      --disabled-fill-color: #AAA;\n",
              "      --disabled-bg-color: #DDD;\n",
              "  }\n",
              "\n",
              "  [theme=dark] .colab-df-quickchart {\n",
              "      --bg-color: #3B4455;\n",
              "      --fill-color: #D2E3FC;\n",
              "      --hover-bg-color: #434B5C;\n",
              "      --hover-fill-color: #FFFFFF;\n",
              "      --disabled-bg-color: #3B4455;\n",
              "      --disabled-fill-color: #666;\n",
              "  }\n",
              "\n",
              "  .colab-df-quickchart {\n",
              "    background-color: var(--bg-color);\n",
              "    border: none;\n",
              "    border-radius: 50%;\n",
              "    cursor: pointer;\n",
              "    display: none;\n",
              "    fill: var(--fill-color);\n",
              "    height: 32px;\n",
              "    padding: 0;\n",
              "    width: 32px;\n",
              "  }\n",
              "\n",
              "  .colab-df-quickchart:hover {\n",
              "    background-color: var(--hover-bg-color);\n",
              "    box-shadow: 0 1px 2px rgba(60, 64, 67, 0.3), 0 1px 3px 1px rgba(60, 64, 67, 0.15);\n",
              "    fill: var(--button-hover-fill-color);\n",
              "  }\n",
              "\n",
              "  .colab-df-quickchart-complete:disabled,\n",
              "  .colab-df-quickchart-complete:disabled:hover {\n",
              "    background-color: var(--disabled-bg-color);\n",
              "    fill: var(--disabled-fill-color);\n",
              "    box-shadow: none;\n",
              "  }\n",
              "\n",
              "  .colab-df-spinner {\n",
              "    border: 2px solid var(--fill-color);\n",
              "    border-color: transparent;\n",
              "    border-bottom-color: var(--fill-color);\n",
              "    animation:\n",
              "      spin 1s steps(1) infinite;\n",
              "  }\n",
              "\n",
              "  @keyframes spin {\n",
              "    0% {\n",
              "      border-color: transparent;\n",
              "      border-bottom-color: var(--fill-color);\n",
              "      border-left-color: var(--fill-color);\n",
              "    }\n",
              "    20% {\n",
              "      border-color: transparent;\n",
              "      border-left-color: var(--fill-color);\n",
              "      border-top-color: var(--fill-color);\n",
              "    }\n",
              "    30% {\n",
              "      border-color: transparent;\n",
              "      border-left-color: var(--fill-color);\n",
              "      border-top-color: var(--fill-color);\n",
              "      border-right-color: var(--fill-color);\n",
              "    }\n",
              "    40% {\n",
              "      border-color: transparent;\n",
              "      border-right-color: var(--fill-color);\n",
              "      border-top-color: var(--fill-color);\n",
              "    }\n",
              "    60% {\n",
              "      border-color: transparent;\n",
              "      border-right-color: var(--fill-color);\n",
              "    }\n",
              "    80% {\n",
              "      border-color: transparent;\n",
              "      border-right-color: var(--fill-color);\n",
              "      border-bottom-color: var(--fill-color);\n",
              "    }\n",
              "    90% {\n",
              "      border-color: transparent;\n",
              "      border-bottom-color: var(--fill-color);\n",
              "    }\n",
              "  }\n",
              "</style>\n",
              "\n",
              "  <script>\n",
              "    async function quickchart(key) {\n",
              "      const quickchartButtonEl =\n",
              "        document.querySelector('#' + key + ' button');\n",
              "      quickchartButtonEl.disabled = true;  // To prevent multiple clicks.\n",
              "      quickchartButtonEl.classList.add('colab-df-spinner');\n",
              "      try {\n",
              "        const charts = await google.colab.kernel.invokeFunction(\n",
              "            'suggestCharts', [key], {});\n",
              "      } catch (error) {\n",
              "        console.error('Error during call to suggestCharts:', error);\n",
              "      }\n",
              "      quickchartButtonEl.classList.remove('colab-df-spinner');\n",
              "      quickchartButtonEl.classList.add('colab-df-quickchart-complete');\n",
              "    }\n",
              "    (() => {\n",
              "      let quickchartButtonEl =\n",
              "        document.querySelector('#df-724dc26e-4803-4f2e-839d-e448abad6ead button');\n",
              "      quickchartButtonEl.style.display =\n",
              "        google.colab.kernel.accessAllowed ? 'block' : 'none';\n",
              "    })();\n",
              "  </script>\n",
              "</div>\n",
              "\n",
              "    </div>\n",
              "  </div>\n"
            ]
          },
          "metadata": {},
          "execution_count": 119
        }
      ],
      "source": [
        "# Caso queira observar os primeiros registros:\n",
        "\n",
        "data.head(10)"
      ]
    },
    {
      "cell_type": "code",
      "execution_count": 120,
      "id": "e85f93a0",
      "metadata": {
        "id": "e85f93a0",
        "colab": {
          "base_uri": "https://localhost:8080/",
          "height": 206
        },
        "outputId": "402c6cd5-9a46-422e-e5bb-58f4403f9cc8"
      },
      "outputs": [
        {
          "output_type": "execute_result",
          "data": {
            "text/plain": [
              "      mpg  cylinders  displacement  horsepower  weight  acceleration  \\\n",
              "393  27.0          4         140.0        86.0    2790          15.6   \n",
              "394  44.0          4          97.0        52.0    2130          24.6   \n",
              "395  32.0          4         135.0        84.0    2295          11.6   \n",
              "396  28.0          4         120.0        79.0    2625          18.6   \n",
              "397  31.0          4         119.0        82.0    2720          19.4   \n",
              "\n",
              "     model_year  origin             name  \n",
              "393          82     usa  ford mustang gl  \n",
              "394          82  europe        vw pickup  \n",
              "395          82     usa    dodge rampage  \n",
              "396          82     usa      ford ranger  \n",
              "397          82     usa       chevy s-10  "
            ],
            "text/html": [
              "\n",
              "  <div id=\"df-de6d706e-aa7a-4ce4-8ca1-c3d1228b331b\" class=\"colab-df-container\">\n",
              "    <div>\n",
              "<style scoped>\n",
              "    .dataframe tbody tr th:only-of-type {\n",
              "        vertical-align: middle;\n",
              "    }\n",
              "\n",
              "    .dataframe tbody tr th {\n",
              "        vertical-align: top;\n",
              "    }\n",
              "\n",
              "    .dataframe thead th {\n",
              "        text-align: right;\n",
              "    }\n",
              "</style>\n",
              "<table border=\"1\" class=\"dataframe\">\n",
              "  <thead>\n",
              "    <tr style=\"text-align: right;\">\n",
              "      <th></th>\n",
              "      <th>mpg</th>\n",
              "      <th>cylinders</th>\n",
              "      <th>displacement</th>\n",
              "      <th>horsepower</th>\n",
              "      <th>weight</th>\n",
              "      <th>acceleration</th>\n",
              "      <th>model_year</th>\n",
              "      <th>origin</th>\n",
              "      <th>name</th>\n",
              "    </tr>\n",
              "  </thead>\n",
              "  <tbody>\n",
              "    <tr>\n",
              "      <th>393</th>\n",
              "      <td>27.0</td>\n",
              "      <td>4</td>\n",
              "      <td>140.0</td>\n",
              "      <td>86.0</td>\n",
              "      <td>2790</td>\n",
              "      <td>15.6</td>\n",
              "      <td>82</td>\n",
              "      <td>usa</td>\n",
              "      <td>ford mustang gl</td>\n",
              "    </tr>\n",
              "    <tr>\n",
              "      <th>394</th>\n",
              "      <td>44.0</td>\n",
              "      <td>4</td>\n",
              "      <td>97.0</td>\n",
              "      <td>52.0</td>\n",
              "      <td>2130</td>\n",
              "      <td>24.6</td>\n",
              "      <td>82</td>\n",
              "      <td>europe</td>\n",
              "      <td>vw pickup</td>\n",
              "    </tr>\n",
              "    <tr>\n",
              "      <th>395</th>\n",
              "      <td>32.0</td>\n",
              "      <td>4</td>\n",
              "      <td>135.0</td>\n",
              "      <td>84.0</td>\n",
              "      <td>2295</td>\n",
              "      <td>11.6</td>\n",
              "      <td>82</td>\n",
              "      <td>usa</td>\n",
              "      <td>dodge rampage</td>\n",
              "    </tr>\n",
              "    <tr>\n",
              "      <th>396</th>\n",
              "      <td>28.0</td>\n",
              "      <td>4</td>\n",
              "      <td>120.0</td>\n",
              "      <td>79.0</td>\n",
              "      <td>2625</td>\n",
              "      <td>18.6</td>\n",
              "      <td>82</td>\n",
              "      <td>usa</td>\n",
              "      <td>ford ranger</td>\n",
              "    </tr>\n",
              "    <tr>\n",
              "      <th>397</th>\n",
              "      <td>31.0</td>\n",
              "      <td>4</td>\n",
              "      <td>119.0</td>\n",
              "      <td>82.0</td>\n",
              "      <td>2720</td>\n",
              "      <td>19.4</td>\n",
              "      <td>82</td>\n",
              "      <td>usa</td>\n",
              "      <td>chevy s-10</td>\n",
              "    </tr>\n",
              "  </tbody>\n",
              "</table>\n",
              "</div>\n",
              "    <div class=\"colab-df-buttons\">\n",
              "\n",
              "  <div class=\"colab-df-container\">\n",
              "    <button class=\"colab-df-convert\" onclick=\"convertToInteractive('df-de6d706e-aa7a-4ce4-8ca1-c3d1228b331b')\"\n",
              "            title=\"Convert this dataframe to an interactive table.\"\n",
              "            style=\"display:none;\">\n",
              "\n",
              "  <svg xmlns=\"http://www.w3.org/2000/svg\" height=\"24px\" viewBox=\"0 -960 960 960\">\n",
              "    <path d=\"M120-120v-720h720v720H120Zm60-500h600v-160H180v160Zm220 220h160v-160H400v160Zm0 220h160v-160H400v160ZM180-400h160v-160H180v160Zm440 0h160v-160H620v160ZM180-180h160v-160H180v160Zm440 0h160v-160H620v160Z\"/>\n",
              "  </svg>\n",
              "    </button>\n",
              "\n",
              "  <style>\n",
              "    .colab-df-container {\n",
              "      display:flex;\n",
              "      gap: 12px;\n",
              "    }\n",
              "\n",
              "    .colab-df-convert {\n",
              "      background-color: #E8F0FE;\n",
              "      border: none;\n",
              "      border-radius: 50%;\n",
              "      cursor: pointer;\n",
              "      display: none;\n",
              "      fill: #1967D2;\n",
              "      height: 32px;\n",
              "      padding: 0 0 0 0;\n",
              "      width: 32px;\n",
              "    }\n",
              "\n",
              "    .colab-df-convert:hover {\n",
              "      background-color: #E2EBFA;\n",
              "      box-shadow: 0px 1px 2px rgba(60, 64, 67, 0.3), 0px 1px 3px 1px rgba(60, 64, 67, 0.15);\n",
              "      fill: #174EA6;\n",
              "    }\n",
              "\n",
              "    .colab-df-buttons div {\n",
              "      margin-bottom: 4px;\n",
              "    }\n",
              "\n",
              "    [theme=dark] .colab-df-convert {\n",
              "      background-color: #3B4455;\n",
              "      fill: #D2E3FC;\n",
              "    }\n",
              "\n",
              "    [theme=dark] .colab-df-convert:hover {\n",
              "      background-color: #434B5C;\n",
              "      box-shadow: 0px 1px 3px 1px rgba(0, 0, 0, 0.15);\n",
              "      filter: drop-shadow(0px 1px 2px rgba(0, 0, 0, 0.3));\n",
              "      fill: #FFFFFF;\n",
              "    }\n",
              "  </style>\n",
              "\n",
              "    <script>\n",
              "      const buttonEl =\n",
              "        document.querySelector('#df-de6d706e-aa7a-4ce4-8ca1-c3d1228b331b button.colab-df-convert');\n",
              "      buttonEl.style.display =\n",
              "        google.colab.kernel.accessAllowed ? 'block' : 'none';\n",
              "\n",
              "      async function convertToInteractive(key) {\n",
              "        const element = document.querySelector('#df-de6d706e-aa7a-4ce4-8ca1-c3d1228b331b');\n",
              "        const dataTable =\n",
              "          await google.colab.kernel.invokeFunction('convertToInteractive',\n",
              "                                                    [key], {});\n",
              "        if (!dataTable) return;\n",
              "\n",
              "        const docLinkHtml = 'Like what you see? Visit the ' +\n",
              "          '<a target=\"_blank\" href=https://colab.research.google.com/notebooks/data_table.ipynb>data table notebook</a>'\n",
              "          + ' to learn more about interactive tables.';\n",
              "        element.innerHTML = '';\n",
              "        dataTable['output_type'] = 'display_data';\n",
              "        await google.colab.output.renderOutput(dataTable, element);\n",
              "        const docLink = document.createElement('div');\n",
              "        docLink.innerHTML = docLinkHtml;\n",
              "        element.appendChild(docLink);\n",
              "      }\n",
              "    </script>\n",
              "  </div>\n",
              "\n",
              "\n",
              "<div id=\"df-893cef6c-1ee0-4723-9a90-277bd133a110\">\n",
              "  <button class=\"colab-df-quickchart\" onclick=\"quickchart('df-893cef6c-1ee0-4723-9a90-277bd133a110')\"\n",
              "            title=\"Suggest charts\"\n",
              "            style=\"display:none;\">\n",
              "\n",
              "<svg xmlns=\"http://www.w3.org/2000/svg\" height=\"24px\"viewBox=\"0 0 24 24\"\n",
              "     width=\"24px\">\n",
              "    <g>\n",
              "        <path d=\"M19 3H5c-1.1 0-2 .9-2 2v14c0 1.1.9 2 2 2h14c1.1 0 2-.9 2-2V5c0-1.1-.9-2-2-2zM9 17H7v-7h2v7zm4 0h-2V7h2v10zm4 0h-2v-4h2v4z\"/>\n",
              "    </g>\n",
              "</svg>\n",
              "  </button>\n",
              "\n",
              "<style>\n",
              "  .colab-df-quickchart {\n",
              "      --bg-color: #E8F0FE;\n",
              "      --fill-color: #1967D2;\n",
              "      --hover-bg-color: #E2EBFA;\n",
              "      --hover-fill-color: #174EA6;\n",
              "      --disabled-fill-color: #AAA;\n",
              "      --disabled-bg-color: #DDD;\n",
              "  }\n",
              "\n",
              "  [theme=dark] .colab-df-quickchart {\n",
              "      --bg-color: #3B4455;\n",
              "      --fill-color: #D2E3FC;\n",
              "      --hover-bg-color: #434B5C;\n",
              "      --hover-fill-color: #FFFFFF;\n",
              "      --disabled-bg-color: #3B4455;\n",
              "      --disabled-fill-color: #666;\n",
              "  }\n",
              "\n",
              "  .colab-df-quickchart {\n",
              "    background-color: var(--bg-color);\n",
              "    border: none;\n",
              "    border-radius: 50%;\n",
              "    cursor: pointer;\n",
              "    display: none;\n",
              "    fill: var(--fill-color);\n",
              "    height: 32px;\n",
              "    padding: 0;\n",
              "    width: 32px;\n",
              "  }\n",
              "\n",
              "  .colab-df-quickchart:hover {\n",
              "    background-color: var(--hover-bg-color);\n",
              "    box-shadow: 0 1px 2px rgba(60, 64, 67, 0.3), 0 1px 3px 1px rgba(60, 64, 67, 0.15);\n",
              "    fill: var(--button-hover-fill-color);\n",
              "  }\n",
              "\n",
              "  .colab-df-quickchart-complete:disabled,\n",
              "  .colab-df-quickchart-complete:disabled:hover {\n",
              "    background-color: var(--disabled-bg-color);\n",
              "    fill: var(--disabled-fill-color);\n",
              "    box-shadow: none;\n",
              "  }\n",
              "\n",
              "  .colab-df-spinner {\n",
              "    border: 2px solid var(--fill-color);\n",
              "    border-color: transparent;\n",
              "    border-bottom-color: var(--fill-color);\n",
              "    animation:\n",
              "      spin 1s steps(1) infinite;\n",
              "  }\n",
              "\n",
              "  @keyframes spin {\n",
              "    0% {\n",
              "      border-color: transparent;\n",
              "      border-bottom-color: var(--fill-color);\n",
              "      border-left-color: var(--fill-color);\n",
              "    }\n",
              "    20% {\n",
              "      border-color: transparent;\n",
              "      border-left-color: var(--fill-color);\n",
              "      border-top-color: var(--fill-color);\n",
              "    }\n",
              "    30% {\n",
              "      border-color: transparent;\n",
              "      border-left-color: var(--fill-color);\n",
              "      border-top-color: var(--fill-color);\n",
              "      border-right-color: var(--fill-color);\n",
              "    }\n",
              "    40% {\n",
              "      border-color: transparent;\n",
              "      border-right-color: var(--fill-color);\n",
              "      border-top-color: var(--fill-color);\n",
              "    }\n",
              "    60% {\n",
              "      border-color: transparent;\n",
              "      border-right-color: var(--fill-color);\n",
              "    }\n",
              "    80% {\n",
              "      border-color: transparent;\n",
              "      border-right-color: var(--fill-color);\n",
              "      border-bottom-color: var(--fill-color);\n",
              "    }\n",
              "    90% {\n",
              "      border-color: transparent;\n",
              "      border-bottom-color: var(--fill-color);\n",
              "    }\n",
              "  }\n",
              "</style>\n",
              "\n",
              "  <script>\n",
              "    async function quickchart(key) {\n",
              "      const quickchartButtonEl =\n",
              "        document.querySelector('#' + key + ' button');\n",
              "      quickchartButtonEl.disabled = true;  // To prevent multiple clicks.\n",
              "      quickchartButtonEl.classList.add('colab-df-spinner');\n",
              "      try {\n",
              "        const charts = await google.colab.kernel.invokeFunction(\n",
              "            'suggestCharts', [key], {});\n",
              "      } catch (error) {\n",
              "        console.error('Error during call to suggestCharts:', error);\n",
              "      }\n",
              "      quickchartButtonEl.classList.remove('colab-df-spinner');\n",
              "      quickchartButtonEl.classList.add('colab-df-quickchart-complete');\n",
              "    }\n",
              "    (() => {\n",
              "      let quickchartButtonEl =\n",
              "        document.querySelector('#df-893cef6c-1ee0-4723-9a90-277bd133a110 button');\n",
              "      quickchartButtonEl.style.display =\n",
              "        google.colab.kernel.accessAllowed ? 'block' : 'none';\n",
              "    })();\n",
              "  </script>\n",
              "</div>\n",
              "\n",
              "    </div>\n",
              "  </div>\n"
            ]
          },
          "metadata": {},
          "execution_count": 120
        }
      ],
      "source": [
        "# Caso queira observar os últimos registros:\n",
        "\n",
        "data.tail()"
      ]
    },
    {
      "cell_type": "code",
      "source": [
        "# E uma amostra aleatória dos registros:\n",
        "\n",
        "data.sample(5)"
      ],
      "metadata": {
        "id": "r82Bu1I1Hrvp",
        "colab": {
          "base_uri": "https://localhost:8080/",
          "height": 206
        },
        "outputId": "8a64c63b-1610-48f1-d15d-38f7bd9911b0"
      },
      "id": "r82Bu1I1Hrvp",
      "execution_count": 121,
      "outputs": [
        {
          "output_type": "execute_result",
          "data": {
            "text/plain": [
              "      mpg  cylinders  displacement  horsepower  weight  acceleration  \\\n",
              "339  26.6          4         151.0        84.0    2635          16.4   \n",
              "87   13.0          8         350.0       145.0    3988          13.0   \n",
              "55   27.0          4          97.0        60.0    1834          19.0   \n",
              "64   15.0          8         318.0       150.0    4135          13.5   \n",
              "248  36.1          4          91.0        60.0    1800          16.4   \n",
              "\n",
              "     model_year  origin                  name  \n",
              "339          81     usa         buick skylark  \n",
              "87           73     usa      chevrolet malibu  \n",
              "55           71  europe  volkswagen model 111  \n",
              "64           72     usa     plymouth fury iii  \n",
              "248          78   japan      honda civic cvcc  "
            ],
            "text/html": [
              "\n",
              "  <div id=\"df-f4d48c54-d392-4d04-86bb-32d388f06208\" class=\"colab-df-container\">\n",
              "    <div>\n",
              "<style scoped>\n",
              "    .dataframe tbody tr th:only-of-type {\n",
              "        vertical-align: middle;\n",
              "    }\n",
              "\n",
              "    .dataframe tbody tr th {\n",
              "        vertical-align: top;\n",
              "    }\n",
              "\n",
              "    .dataframe thead th {\n",
              "        text-align: right;\n",
              "    }\n",
              "</style>\n",
              "<table border=\"1\" class=\"dataframe\">\n",
              "  <thead>\n",
              "    <tr style=\"text-align: right;\">\n",
              "      <th></th>\n",
              "      <th>mpg</th>\n",
              "      <th>cylinders</th>\n",
              "      <th>displacement</th>\n",
              "      <th>horsepower</th>\n",
              "      <th>weight</th>\n",
              "      <th>acceleration</th>\n",
              "      <th>model_year</th>\n",
              "      <th>origin</th>\n",
              "      <th>name</th>\n",
              "    </tr>\n",
              "  </thead>\n",
              "  <tbody>\n",
              "    <tr>\n",
              "      <th>339</th>\n",
              "      <td>26.6</td>\n",
              "      <td>4</td>\n",
              "      <td>151.0</td>\n",
              "      <td>84.0</td>\n",
              "      <td>2635</td>\n",
              "      <td>16.4</td>\n",
              "      <td>81</td>\n",
              "      <td>usa</td>\n",
              "      <td>buick skylark</td>\n",
              "    </tr>\n",
              "    <tr>\n",
              "      <th>87</th>\n",
              "      <td>13.0</td>\n",
              "      <td>8</td>\n",
              "      <td>350.0</td>\n",
              "      <td>145.0</td>\n",
              "      <td>3988</td>\n",
              "      <td>13.0</td>\n",
              "      <td>73</td>\n",
              "      <td>usa</td>\n",
              "      <td>chevrolet malibu</td>\n",
              "    </tr>\n",
              "    <tr>\n",
              "      <th>55</th>\n",
              "      <td>27.0</td>\n",
              "      <td>4</td>\n",
              "      <td>97.0</td>\n",
              "      <td>60.0</td>\n",
              "      <td>1834</td>\n",
              "      <td>19.0</td>\n",
              "      <td>71</td>\n",
              "      <td>europe</td>\n",
              "      <td>volkswagen model 111</td>\n",
              "    </tr>\n",
              "    <tr>\n",
              "      <th>64</th>\n",
              "      <td>15.0</td>\n",
              "      <td>8</td>\n",
              "      <td>318.0</td>\n",
              "      <td>150.0</td>\n",
              "      <td>4135</td>\n",
              "      <td>13.5</td>\n",
              "      <td>72</td>\n",
              "      <td>usa</td>\n",
              "      <td>plymouth fury iii</td>\n",
              "    </tr>\n",
              "    <tr>\n",
              "      <th>248</th>\n",
              "      <td>36.1</td>\n",
              "      <td>4</td>\n",
              "      <td>91.0</td>\n",
              "      <td>60.0</td>\n",
              "      <td>1800</td>\n",
              "      <td>16.4</td>\n",
              "      <td>78</td>\n",
              "      <td>japan</td>\n",
              "      <td>honda civic cvcc</td>\n",
              "    </tr>\n",
              "  </tbody>\n",
              "</table>\n",
              "</div>\n",
              "    <div class=\"colab-df-buttons\">\n",
              "\n",
              "  <div class=\"colab-df-container\">\n",
              "    <button class=\"colab-df-convert\" onclick=\"convertToInteractive('df-f4d48c54-d392-4d04-86bb-32d388f06208')\"\n",
              "            title=\"Convert this dataframe to an interactive table.\"\n",
              "            style=\"display:none;\">\n",
              "\n",
              "  <svg xmlns=\"http://www.w3.org/2000/svg\" height=\"24px\" viewBox=\"0 -960 960 960\">\n",
              "    <path d=\"M120-120v-720h720v720H120Zm60-500h600v-160H180v160Zm220 220h160v-160H400v160Zm0 220h160v-160H400v160ZM180-400h160v-160H180v160Zm440 0h160v-160H620v160ZM180-180h160v-160H180v160Zm440 0h160v-160H620v160Z\"/>\n",
              "  </svg>\n",
              "    </button>\n",
              "\n",
              "  <style>\n",
              "    .colab-df-container {\n",
              "      display:flex;\n",
              "      gap: 12px;\n",
              "    }\n",
              "\n",
              "    .colab-df-convert {\n",
              "      background-color: #E8F0FE;\n",
              "      border: none;\n",
              "      border-radius: 50%;\n",
              "      cursor: pointer;\n",
              "      display: none;\n",
              "      fill: #1967D2;\n",
              "      height: 32px;\n",
              "      padding: 0 0 0 0;\n",
              "      width: 32px;\n",
              "    }\n",
              "\n",
              "    .colab-df-convert:hover {\n",
              "      background-color: #E2EBFA;\n",
              "      box-shadow: 0px 1px 2px rgba(60, 64, 67, 0.3), 0px 1px 3px 1px rgba(60, 64, 67, 0.15);\n",
              "      fill: #174EA6;\n",
              "    }\n",
              "\n",
              "    .colab-df-buttons div {\n",
              "      margin-bottom: 4px;\n",
              "    }\n",
              "\n",
              "    [theme=dark] .colab-df-convert {\n",
              "      background-color: #3B4455;\n",
              "      fill: #D2E3FC;\n",
              "    }\n",
              "\n",
              "    [theme=dark] .colab-df-convert:hover {\n",
              "      background-color: #434B5C;\n",
              "      box-shadow: 0px 1px 3px 1px rgba(0, 0, 0, 0.15);\n",
              "      filter: drop-shadow(0px 1px 2px rgba(0, 0, 0, 0.3));\n",
              "      fill: #FFFFFF;\n",
              "    }\n",
              "  </style>\n",
              "\n",
              "    <script>\n",
              "      const buttonEl =\n",
              "        document.querySelector('#df-f4d48c54-d392-4d04-86bb-32d388f06208 button.colab-df-convert');\n",
              "      buttonEl.style.display =\n",
              "        google.colab.kernel.accessAllowed ? 'block' : 'none';\n",
              "\n",
              "      async function convertToInteractive(key) {\n",
              "        const element = document.querySelector('#df-f4d48c54-d392-4d04-86bb-32d388f06208');\n",
              "        const dataTable =\n",
              "          await google.colab.kernel.invokeFunction('convertToInteractive',\n",
              "                                                    [key], {});\n",
              "        if (!dataTable) return;\n",
              "\n",
              "        const docLinkHtml = 'Like what you see? Visit the ' +\n",
              "          '<a target=\"_blank\" href=https://colab.research.google.com/notebooks/data_table.ipynb>data table notebook</a>'\n",
              "          + ' to learn more about interactive tables.';\n",
              "        element.innerHTML = '';\n",
              "        dataTable['output_type'] = 'display_data';\n",
              "        await google.colab.output.renderOutput(dataTable, element);\n",
              "        const docLink = document.createElement('div');\n",
              "        docLink.innerHTML = docLinkHtml;\n",
              "        element.appendChild(docLink);\n",
              "      }\n",
              "    </script>\n",
              "  </div>\n",
              "\n",
              "\n",
              "<div id=\"df-2ef481af-44f3-4d8b-8d71-0026859f9447\">\n",
              "  <button class=\"colab-df-quickchart\" onclick=\"quickchart('df-2ef481af-44f3-4d8b-8d71-0026859f9447')\"\n",
              "            title=\"Suggest charts\"\n",
              "            style=\"display:none;\">\n",
              "\n",
              "<svg xmlns=\"http://www.w3.org/2000/svg\" height=\"24px\"viewBox=\"0 0 24 24\"\n",
              "     width=\"24px\">\n",
              "    <g>\n",
              "        <path d=\"M19 3H5c-1.1 0-2 .9-2 2v14c0 1.1.9 2 2 2h14c1.1 0 2-.9 2-2V5c0-1.1-.9-2-2-2zM9 17H7v-7h2v7zm4 0h-2V7h2v10zm4 0h-2v-4h2v4z\"/>\n",
              "    </g>\n",
              "</svg>\n",
              "  </button>\n",
              "\n",
              "<style>\n",
              "  .colab-df-quickchart {\n",
              "      --bg-color: #E8F0FE;\n",
              "      --fill-color: #1967D2;\n",
              "      --hover-bg-color: #E2EBFA;\n",
              "      --hover-fill-color: #174EA6;\n",
              "      --disabled-fill-color: #AAA;\n",
              "      --disabled-bg-color: #DDD;\n",
              "  }\n",
              "\n",
              "  [theme=dark] .colab-df-quickchart {\n",
              "      --bg-color: #3B4455;\n",
              "      --fill-color: #D2E3FC;\n",
              "      --hover-bg-color: #434B5C;\n",
              "      --hover-fill-color: #FFFFFF;\n",
              "      --disabled-bg-color: #3B4455;\n",
              "      --disabled-fill-color: #666;\n",
              "  }\n",
              "\n",
              "  .colab-df-quickchart {\n",
              "    background-color: var(--bg-color);\n",
              "    border: none;\n",
              "    border-radius: 50%;\n",
              "    cursor: pointer;\n",
              "    display: none;\n",
              "    fill: var(--fill-color);\n",
              "    height: 32px;\n",
              "    padding: 0;\n",
              "    width: 32px;\n",
              "  }\n",
              "\n",
              "  .colab-df-quickchart:hover {\n",
              "    background-color: var(--hover-bg-color);\n",
              "    box-shadow: 0 1px 2px rgba(60, 64, 67, 0.3), 0 1px 3px 1px rgba(60, 64, 67, 0.15);\n",
              "    fill: var(--button-hover-fill-color);\n",
              "  }\n",
              "\n",
              "  .colab-df-quickchart-complete:disabled,\n",
              "  .colab-df-quickchart-complete:disabled:hover {\n",
              "    background-color: var(--disabled-bg-color);\n",
              "    fill: var(--disabled-fill-color);\n",
              "    box-shadow: none;\n",
              "  }\n",
              "\n",
              "  .colab-df-spinner {\n",
              "    border: 2px solid var(--fill-color);\n",
              "    border-color: transparent;\n",
              "    border-bottom-color: var(--fill-color);\n",
              "    animation:\n",
              "      spin 1s steps(1) infinite;\n",
              "  }\n",
              "\n",
              "  @keyframes spin {\n",
              "    0% {\n",
              "      border-color: transparent;\n",
              "      border-bottom-color: var(--fill-color);\n",
              "      border-left-color: var(--fill-color);\n",
              "    }\n",
              "    20% {\n",
              "      border-color: transparent;\n",
              "      border-left-color: var(--fill-color);\n",
              "      border-top-color: var(--fill-color);\n",
              "    }\n",
              "    30% {\n",
              "      border-color: transparent;\n",
              "      border-left-color: var(--fill-color);\n",
              "      border-top-color: var(--fill-color);\n",
              "      border-right-color: var(--fill-color);\n",
              "    }\n",
              "    40% {\n",
              "      border-color: transparent;\n",
              "      border-right-color: var(--fill-color);\n",
              "      border-top-color: var(--fill-color);\n",
              "    }\n",
              "    60% {\n",
              "      border-color: transparent;\n",
              "      border-right-color: var(--fill-color);\n",
              "    }\n",
              "    80% {\n",
              "      border-color: transparent;\n",
              "      border-right-color: var(--fill-color);\n",
              "      border-bottom-color: var(--fill-color);\n",
              "    }\n",
              "    90% {\n",
              "      border-color: transparent;\n",
              "      border-bottom-color: var(--fill-color);\n",
              "    }\n",
              "  }\n",
              "</style>\n",
              "\n",
              "  <script>\n",
              "    async function quickchart(key) {\n",
              "      const quickchartButtonEl =\n",
              "        document.querySelector('#' + key + ' button');\n",
              "      quickchartButtonEl.disabled = true;  // To prevent multiple clicks.\n",
              "      quickchartButtonEl.classList.add('colab-df-spinner');\n",
              "      try {\n",
              "        const charts = await google.colab.kernel.invokeFunction(\n",
              "            'suggestCharts', [key], {});\n",
              "      } catch (error) {\n",
              "        console.error('Error during call to suggestCharts:', error);\n",
              "      }\n",
              "      quickchartButtonEl.classList.remove('colab-df-spinner');\n",
              "      quickchartButtonEl.classList.add('colab-df-quickchart-complete');\n",
              "    }\n",
              "    (() => {\n",
              "      let quickchartButtonEl =\n",
              "        document.querySelector('#df-2ef481af-44f3-4d8b-8d71-0026859f9447 button');\n",
              "      quickchartButtonEl.style.display =\n",
              "        google.colab.kernel.accessAllowed ? 'block' : 'none';\n",
              "    })();\n",
              "  </script>\n",
              "</div>\n",
              "\n",
              "    </div>\n",
              "  </div>\n"
            ]
          },
          "metadata": {},
          "execution_count": 121
        }
      ]
    },
    {
      "cell_type": "code",
      "source": [
        "# Tipos dos dados:\n",
        "\n",
        "data.info()"
      ],
      "metadata": {
        "id": "Ekkpw6XntQ_m",
        "colab": {
          "base_uri": "https://localhost:8080/"
        },
        "outputId": "e01e55d8-8ff3-4715-cd6c-73c1c7b0308d"
      },
      "id": "Ekkpw6XntQ_m",
      "execution_count": 122,
      "outputs": [
        {
          "output_type": "stream",
          "name": "stdout",
          "text": [
            "<class 'pandas.core.frame.DataFrame'>\n",
            "RangeIndex: 398 entries, 0 to 397\n",
            "Data columns (total 9 columns):\n",
            " #   Column        Non-Null Count  Dtype  \n",
            "---  ------        --------------  -----  \n",
            " 0   mpg           398 non-null    float64\n",
            " 1   cylinders     398 non-null    int64  \n",
            " 2   displacement  398 non-null    float64\n",
            " 3   horsepower    392 non-null    float64\n",
            " 4   weight        398 non-null    int64  \n",
            " 5   acceleration  398 non-null    float64\n",
            " 6   model_year    398 non-null    int64  \n",
            " 7   origin        398 non-null    object \n",
            " 8   name          398 non-null    object \n",
            "dtypes: float64(4), int64(3), object(2)\n",
            "memory usage: 28.1+ KB\n"
          ]
        }
      ]
    },
    {
      "cell_type": "code",
      "source": [
        "data.dtypes"
      ],
      "metadata": {
        "colab": {
          "base_uri": "https://localhost:8080/"
        },
        "id": "sfWkeCK8wLED",
        "outputId": "8390e6a1-0790-4615-ebcd-94ae1fe761d2"
      },
      "id": "sfWkeCK8wLED",
      "execution_count": 123,
      "outputs": [
        {
          "output_type": "execute_result",
          "data": {
            "text/plain": [
              "mpg             float64\n",
              "cylinders         int64\n",
              "displacement    float64\n",
              "horsepower      float64\n",
              "weight            int64\n",
              "acceleration    float64\n",
              "model_year        int64\n",
              "origin           object\n",
              "name             object\n",
              "dtype: object"
            ]
          },
          "metadata": {},
          "execution_count": 123
        }
      ]
    },
    {
      "cell_type": "code",
      "source": [
        "# Dimesões do dataframe:\n",
        "\n",
        "data.shape\n"
      ],
      "metadata": {
        "colab": {
          "base_uri": "https://localhost:8080/"
        },
        "id": "lUeKh_9wwH8E",
        "outputId": "a536c6ad-2d9e-41ae-8eb7-49a07634d937"
      },
      "id": "lUeKh_9wwH8E",
      "execution_count": 124,
      "outputs": [
        {
          "output_type": "execute_result",
          "data": {
            "text/plain": [
              "(398, 9)"
            ]
          },
          "metadata": {},
          "execution_count": 124
        }
      ]
    },
    {
      "cell_type": "markdown",
      "id": "c078d917",
      "metadata": {
        "id": "c078d917"
      },
      "source": [
        "## **Estatística em Ciências de Dados**\n",
        "\n",
        "![](https://www.robertonovaes.com.br/wp-content/uploads/2018/07/data_science-1.png)"
      ]
    },
    {
      "cell_type": "markdown",
      "id": "81e1e538",
      "metadata": {
        "id": "81e1e538"
      },
      "source": [
        "# 1 - Estatística básica\n",
        "\n",
        "\n",
        "## 1.1 - Tipos de Variáveis"
      ]
    },
    {
      "cell_type": "markdown",
      "source": [
        "![](https://analisemacro.com.br/wp-content/uploads/2023/05/tipos_variaveis.png)"
      ],
      "metadata": {
        "id": "ZTAJ-zd0INuM"
      },
      "id": "ZTAJ-zd0INuM"
    },
    {
      "cell_type": "markdown",
      "id": "b6afce8e",
      "metadata": {
        "id": "b6afce8e"
      },
      "source": [
        "- **Variáveis quantitativas:** seus dados são expressados em escala numérica. Podem ser discretos ou contínuos\n",
        "\n",
        "\n",
        "    - Discretos: Só pode assumir valores inteiros dentro de um intervalo de dados. Ex: Número de banheiros, número de filhos\n",
        "    \n",
        "    - Contínuos: Pode assumir qualquer valor dentro de um intervalo de dados. Ex: Salário, temperatura\n",
        "\n",
        "\n",
        "- **Variáveis qualitativas:** seus dados são categorias. Podem ser ordinais ou nominais\n",
        "\n",
        "\n",
        "    - Ordinais: Existe uma ordem ou grau entre os dados. Ex: Classe social, escolaridade, NPS\n",
        "    \n",
        "    - Nominais: Não existe ordem entre os dados categóricos. Ex: Sexo, estado civil, país de origem\n",
        "\n",
        "\n"
      ]
    },
    {
      "cell_type": "markdown",
      "id": "bee6892c",
      "metadata": {
        "id": "bee6892c"
      },
      "source": [
        "Identidade de Gênero: [\"Homem\", \"Mulher\", \"Não-Binário\"])\n",
        "\n",
        "- [X] Nominal\n",
        "- [ ] Ordinal\n",
        "\n"
      ]
    },
    {
      "cell_type": "markdown",
      "id": "3f2eab63",
      "metadata": {
        "id": "3f2eab63"
      },
      "source": [
        "Porte da Empresa:  ['MEI', 'ME', 'Varejo', 'Corporate']\n",
        "- [ ] Nominal\n",
        "- [X] Ordinal    "
      ]
    },
    {
      "cell_type": "markdown",
      "id": "2b3cc2d9",
      "metadata": {
        "id": "2b3cc2d9"
      },
      "source": [
        "Escolaridade:  ['Ensino Fundamental', 'Ensino Medio', 'Graduacao', 'Mestrado', 'Doutorado']\n",
        "\n",
        "- [ ] Nominal\n",
        "- [X] Ordinal"
      ]
    },
    {
      "cell_type": "markdown",
      "id": "3232db70",
      "metadata": {
        "id": "3232db70"
      },
      "source": [
        "Ativo Financeiro:  ['Renda Fixa', 'Acoes', 'FII', 'COE']\n",
        "- [X] Nominal\n",
        "- [ ] Ordinal\n",
        "    "
      ]
    },
    {
      "cell_type": "markdown",
      "id": "33dca90f",
      "metadata": {
        "id": "33dca90f"
      },
      "source": [
        "IMC: ['Magreza', 'Ideal', 'Sobrepeso', 'Obeso']\n",
        "\n",
        "- [ ] Nominal\n",
        "- [X] Ordinal"
      ]
    },
    {
      "cell_type": "markdown",
      "id": "629e7217",
      "metadata": {
        "id": "629e7217"
      },
      "source": [
        "Tempo (meteorológico): ['Chuvoso', 'Ensolarado', 'Com Neblina']\n",
        "- [X] Nominal\n",
        "- [ ] Ordinal"
      ]
    },
    {
      "cell_type": "markdown",
      "id": "41b2bfbe",
      "metadata": {
        "id": "41b2bfbe"
      },
      "source": [
        "![image.png](data:image/png;base64,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)![](https://drive.google.com/file/d/1zbkgndb9Ak2AMpm-ORdtC3LkNd-uOfWc/view?usp=sharing)\n",
        "\n",
        "\n",
        "- Records: Case, example, instance, observation -> Linhas (registros)\n",
        "\n",
        "- Features: Attribute, input, predictor, variable -> Colunas (características)\n",
        "\n",
        "- Target: Outcome, Response, dependet variable -> Saída/classes\n",
        "\n",
        "- Index (índices)"
      ]
    },
    {
      "cell_type": "markdown",
      "id": "29058e77",
      "metadata": {
        "id": "29058e77"
      },
      "source": [
        "## 2.2 - Medidas de posição\n",
        "### 2.2.1 - Média\n",
        "\n",
        "Seja $X$ uma variável quantitativa e $x_1,x_2,x_3, ...$ os valores assumidos por X. Define-se média de $\\overline{x}$ como sendo :\n",
        "\n",
        "\n",
        "$$\\overline{x} = \\frac{\\sum_{i=1}^{n}x_i}{n}= \\frac{x_1+ x_2 + x_3 +... +x_n}{n}$$"
      ]
    },
    {
      "cell_type": "markdown",
      "source": [
        "Usando **Python** conseguimos calcular a média de diferentes formas. Vamos usar a coluna `mpg` para realização dos cálculos."
      ],
      "metadata": {
        "id": "MK25FbBbTEvc"
      },
      "id": "MK25FbBbTEvc"
    },
    {
      "cell_type": "code",
      "source": [
        "# Elementos no conjunto de dados:\n",
        "\n",
        "data['mpg'].shape"
      ],
      "metadata": {
        "id": "rpNHIH4MTUeS",
        "colab": {
          "base_uri": "https://localhost:8080/"
        },
        "outputId": "e0365641-6a34-4461-e7f5-3256163ad461"
      },
      "id": "rpNHIH4MTUeS",
      "execution_count": 125,
      "outputs": [
        {
          "output_type": "execute_result",
          "data": {
            "text/plain": [
              "(398,)"
            ]
          },
          "metadata": {},
          "execution_count": 125
        }
      ]
    },
    {
      "cell_type": "code",
      "source": [
        "# Forma 1:\n",
        "\n",
        "media = sum(data['mpg']) / len(data['mpg'])\n",
        "round(media, 2)"
      ],
      "metadata": {
        "id": "YYJ4ziWHTg5x",
        "colab": {
          "base_uri": "https://localhost:8080/"
        },
        "outputId": "0cf5dcc3-4bd6-4797-dfe3-d56dfcd34514"
      },
      "id": "YYJ4ziWHTg5x",
      "execution_count": 126,
      "outputs": [
        {
          "output_type": "execute_result",
          "data": {
            "text/plain": [
              "23.51"
            ]
          },
          "metadata": {},
          "execution_count": 126
        }
      ]
    },
    {
      "cell_type": "code",
      "source": [
        "# Forma 2:\n",
        "\n"
      ],
      "metadata": {
        "id": "JW7jZInGULYn"
      },
      "id": "JW7jZInGULYn",
      "execution_count": 127,
      "outputs": []
    },
    {
      "cell_type": "code",
      "source": [
        "# Forma 3:\n",
        "\n"
      ],
      "metadata": {
        "id": "cMkhs9k1VXTP"
      },
      "id": "cMkhs9k1VXTP",
      "execution_count": 128,
      "outputs": []
    },
    {
      "cell_type": "code",
      "execution_count": 129,
      "id": "acef1154",
      "metadata": {
        "ExecuteTime": {
          "end_time": "2021-11-30T01:29:08.146623Z",
          "start_time": "2021-11-30T01:29:08.131633Z"
        },
        "code_folding": [],
        "id": "acef1154",
        "colab": {
          "base_uri": "https://localhost:8080/"
        },
        "outputId": "a9636ef1-95aa-4071-91ea-80f447d07268"
      },
      "outputs": [
        {
          "output_type": "execute_result",
          "data": {
            "text/plain": [
              "23.51"
            ]
          },
          "metadata": {},
          "execution_count": 129
        }
      ],
      "source": [
        "# Podemos usar a função de média do numpy:\n",
        "\n",
        "np.mean(data['mpg']).round(2)"
      ]
    },
    {
      "cell_type": "code",
      "source": [
        "# Ou o pandas:\n",
        "\n",
        "data['mpg'].mean().round(2)"
      ],
      "metadata": {
        "id": "8fqQmBvzbn1L",
        "colab": {
          "base_uri": "https://localhost:8080/"
        },
        "outputId": "0fc5f8e3-5791-4a22-c63f-4297a3aaf5d1"
      },
      "id": "8fqQmBvzbn1L",
      "execution_count": 130,
      "outputs": [
        {
          "output_type": "execute_result",
          "data": {
            "text/plain": [
              "23.51"
            ]
          },
          "metadata": {},
          "execution_count": 130
        }
      ]
    },
    {
      "cell_type": "markdown",
      "source": [
        "É possível analisar graficamente a média em relação a distribuiçãos dos dados dessa coluna."
      ],
      "metadata": {
        "id": "crD2Xbi2b3K6"
      },
      "id": "crD2Xbi2b3K6"
    },
    {
      "cell_type": "code",
      "source": [
        "# Histograma do mpg:\n",
        "\n",
        "ax = sns.histplot(data=data, x='mpg')\n",
        "ax.set_title('Distribuição dos dados da variável mpg')\n",
        "ax.set_ylabel('Frequência')\n",
        "\n",
        "\n",
        "\n",
        "# Plot de linha que marca a posição da média:\n",
        "\n",
        "ax.axvline(x=data['mpg'].mean(), color='red', label='Média = 23,51')\n",
        "plt.legend()\n",
        "plt.show()"
      ],
      "metadata": {
        "id": "4Ft5Mpxsb-4-",
        "colab": {
          "base_uri": "https://localhost:8080/",
          "height": 472
        },
        "outputId": "66219daa-ae6e-4805-8b1e-db49cd823ea2"
      },
      "id": "4Ft5Mpxsb-4-",
      "execution_count": 131,
      "outputs": [
        {
          "output_type": "display_data",
          "data": {
            "text/plain": [
              "<Figure size 640x480 with 1 Axes>"
            ],
            "image/png": "[encoded data removed]"
          },
          "metadata": {}
        }
      ]
    },
    {
      "cell_type": "code",
      "source": [
        "sns.histplot(data=data, x='mpg', hue='origin')"
      ],
      "metadata": {
        "colab": {
          "base_uri": "https://localhost:8080/",
          "height": 467
        },
        "id": "k3JMHbglAuHi",
        "outputId": "477d6b68-1043-4c2d-ce45-387c42dd78cf"
      },
      "id": "k3JMHbglAuHi",
      "execution_count": 132,
      "outputs": [
        {
          "output_type": "execute_result",
          "data": {
            "text/plain": [
              "<Axes: xlabel='mpg', ylabel='Count'>"
            ]
          },
          "metadata": {},
          "execution_count": 132
        },
        {
          "output_type": "display_data",
          "data": {
            "text/plain": [
              "<Figure size 640x480 with 1 Axes>"
            ],
            "image/png": "[encoded data removed]"
          },
          "metadata": {}
        }
      ]
    },
    {
      "cell_type": "code",
      "source": [
        "data.groupby('origin')['mpg'].mean()"
      ],
      "metadata": {
        "colab": {
          "base_uri": "https://localhost:8080/"
        },
        "id": "JC9H7Q5c_Rp1",
        "outputId": "3693529e-9334-4462-d3c4-f807fd79ebb3"
      },
      "id": "JC9H7Q5c_Rp1",
      "execution_count": 133,
      "outputs": [
        {
          "output_type": "execute_result",
          "data": {
            "text/plain": [
              "origin\n",
              "europe    27.891429\n",
              "japan     30.450633\n",
              "usa       20.083534\n",
              "Name: mpg, dtype: float64"
            ]
          },
          "metadata": {},
          "execution_count": 133
        }
      ]
    },
    {
      "cell_type": "markdown",
      "id": "c04a2b89",
      "metadata": {
        "id": "c04a2b89"
      },
      "source": [
        "### 2.2.2 - Mediana\n",
        "\n",
        "A **mediana** de uma variável é um número tal que há o mesmo número de observações maiores e menores do que ele, ocupando assim a posição central da série de observações.\n",
        "\n",
        "Assim, para calcularmos a mediana, *basta ordenarmos os dados, do menor pro maior*, e contar o que está no meio dos dados ordenados (se houver número par de dados, pega-se a média entre os dados que estão \"no meio\")\n",
        "\n",
        "\n",
        "- - Mediana de $X = X_{\\frac{n+1}{2}}$ `Se tamanho da amostra ímpar`\n",
        "\n",
        "\n",
        "- - Mediana de $X = \\frac{X_{\\frac{n}{2}}+ X_{\\frac{n+2}{2}}}{2}$ `Se tamanho da amostra par`\n",
        "\n",
        "Como os valores de **índice no python** começam em `0`, devemos nos atentar que a equação acima deve ficar como:\n",
        "\n",
        "- - Mediana de $X = X_{\\frac{n}{2}}$ `Se tamanho da amostra ímpar`\n",
        "\n",
        "\n",
        "- - Mediana de $X = \\frac{X_{\\frac{n}{2}-1}+ X_{\\frac{n}{2}}}{2}$ `Se tamanho da amostra par`"
      ]
    },
    {
      "cell_type": "code",
      "execution_count": 134,
      "id": "2febb5b1",
      "metadata": {
        "ExecuteTime": {
          "end_time": "2021-11-30T01:29:18.363117Z",
          "start_time": "2021-11-30T01:29:18.347159Z"
        },
        "code_folding": [],
        "id": "2febb5b1",
        "colab": {
          "base_uri": "https://localhost:8080/"
        },
        "outputId": "b7137b28-7f56-4264-d37e-7556c47f7982"
      },
      "outputs": [
        {
          "output_type": "stream",
          "name": "stdout",
          "text": [
            "Dados: [15  6  2  9  9 19 10  8 14  9  5]\n",
            "Dados ordenados: [2, 5, 6, 8, 9, 9, 9, 10, 14, 15, 19]\n"
          ]
        }
      ],
      "source": [
        "# Define a semente randômica\n",
        "\n",
        "np.random.seed(4)\n",
        "\n",
        "# Cria uma amostra de com 11 valores de 1 até 20:\n",
        "\n",
        "amostra = np.random.randint(1, 20, 11)\n",
        "\n",
        "# Print da Amostra\n",
        "print(\"Dados:\", amostra)\n",
        "\n",
        "# Print da Amostra Ordenada\n",
        "\n",
        "print(f'Dados ordenados: {sorted(amostra)}')"
      ]
    },
    {
      "cell_type": "markdown",
      "source": [
        "Qual o valor da mediana para a amostra acima?\n",
        "\n",
        "- [ ] 6\n",
        "- [ ] 8,5\n",
        "- [X] 9\n",
        "- [ ] 10"
      ],
      "metadata": {
        "id": "-FTbqgFjlFi6"
      },
      "id": "-FTbqgFjlFi6"
    },
    {
      "cell_type": "code",
      "execution_count": 135,
      "id": "394a4bec",
      "metadata": {
        "ExecuteTime": {
          "end_time": "2021-11-30T01:29:23.989668Z",
          "start_time": "2021-11-30T01:29:23.973715Z"
        },
        "code_folding": [],
        "scrolled": true,
        "id": "394a4bec",
        "colab": {
          "base_uri": "https://localhost:8080/"
        },
        "outputId": "ad615d5c-b1fe-4aa8-e1f6-e8f719936094"
      },
      "outputs": [
        {
          "output_type": "execute_result",
          "data": {
            "text/plain": [
              "23.0"
            ]
          },
          "metadata": {},
          "execution_count": 135
        }
      ],
      "source": [
        "# Mediana com numpy:\n",
        "\n",
        "np.median(data['mpg'])"
      ]
    },
    {
      "cell_type": "markdown",
      "source": [
        "A mediana para os dados de `mpg` é:"
      ],
      "metadata": {
        "id": "CdEZrZUFmMZJ"
      },
      "id": "CdEZrZUFmMZJ"
    },
    {
      "cell_type": "code",
      "source": [
        "data['mpg'].median()"
      ],
      "metadata": {
        "id": "6KoYlarrmQRZ",
        "colab": {
          "base_uri": "https://localhost:8080/"
        },
        "outputId": "5de2b735-5e40-4e30-b5db-cef15b49d64c"
      },
      "id": "6KoYlarrmQRZ",
      "execution_count": 136,
      "outputs": [
        {
          "output_type": "execute_result",
          "data": {
            "text/plain": [
              "23.0"
            ]
          },
          "metadata": {},
          "execution_count": 136
        }
      ]
    },
    {
      "cell_type": "code",
      "execution_count": 137,
      "id": "f862c221",
      "metadata": {
        "ExecuteTime": {
          "end_time": "2021-11-30T01:29:22.110574Z",
          "start_time": "2021-11-30T01:29:21.952014Z"
        },
        "scrolled": true,
        "id": "f862c221",
        "colab": {
          "base_uri": "https://localhost:8080/",
          "height": 472
        },
        "outputId": "81d6de46-06ca-4a63-acf4-b524d80a5b87"
      },
      "outputs": [
        {
          "output_type": "display_data",
          "data": {
            "text/plain": [
              "<Figure size 640x480 with 1 Axes>"
            ],
            "image/png": "[encoded data removed]"
          },
          "metadata": {}
        }
      ],
      "source": [
        "# Marca-se a posição da mediana na distribuição dos dados de mpg:\n",
        "\n",
        "# Histograma do mpg:\n",
        "\n",
        "ax = sns.histplot(data=data, x='mpg')\n",
        "ax.set_title('Distribuição dos dados da variável mpg')\n",
        "ax.set_ylabel('Frequência')\n",
        "\n",
        "# Plot de linha que marca a posição da média:\n",
        "\n",
        "ax.axvline(x=data['mpg'].mean(), color='red', label='Média = 23,51')\n",
        "ax.axvline(x=data['mpg'].median(), color='green', label='Mediana = 23,00')\n",
        "plt.legend()\n",
        "plt.show()"
      ]
    },
    {
      "cell_type": "markdown",
      "id": "75d83603",
      "metadata": {
        "id": "75d83603"
      },
      "source": [
        "### 2.2.3 - Moda\n",
        "\n",
        "A **moda** é o valor que ocorre com **mais frequência** em um conjunto de dados."
      ]
    },
    {
      "cell_type": "markdown",
      "source": [
        "Dependendo do conjunto de dados, ele pode ser:\n",
        "\n",
        "- Sem moda: quando nenhum valor se repete\n",
        "\n",
        "- unimodal: Quando existe apenas um valor repetido com maior frequência\n",
        "\n",
        "- bimodal: quando existem dois valores com a mesma frequência"
      ],
      "metadata": {
        "id": "dfOQczbnUhP7"
      },
      "id": "dfOQczbnUhP7"
    },
    {
      "cell_type": "code",
      "execution_count": 138,
      "id": "e277364f",
      "metadata": {
        "ExecuteTime": {
          "end_time": "2021-11-30T01:29:46.560579Z",
          "start_time": "2021-11-30T01:29:46.549575Z"
        },
        "id": "e277364f",
        "colab": {
          "base_uri": "https://localhost:8080/"
        },
        "outputId": "9af379d9-9c2e-4f29-84e4-10bd1663dd7a"
      },
      "outputs": [
        {
          "output_type": "execute_result",
          "data": {
            "text/plain": [
              "usa       249\n",
              "japan      79\n",
              "europe     70\n",
              "Name: origin, dtype: int64"
            ]
          },
          "metadata": {},
          "execution_count": 138
        }
      ],
      "source": [
        "# Uma forma:\n",
        "\n",
        "data['origin'].value_counts()"
      ]
    },
    {
      "cell_type": "code",
      "source": [
        "data['mpg'].value_counts().head(1)"
      ],
      "metadata": {
        "colab": {
          "base_uri": "https://localhost:8080/"
        },
        "id": "3QvnBdXsFQhO",
        "outputId": "13447364-ca39-4120-da4d-28b046d00a5b"
      },
      "id": "3QvnBdXsFQhO",
      "execution_count": 139,
      "outputs": [
        {
          "output_type": "execute_result",
          "data": {
            "text/plain": [
              "13.0    20\n",
              "Name: mpg, dtype: int64"
            ]
          },
          "metadata": {},
          "execution_count": 139
        }
      ]
    },
    {
      "cell_type": "code",
      "source": [
        "type(data['mpg'].mean())"
      ],
      "metadata": {
        "colab": {
          "base_uri": "https://localhost:8080/"
        },
        "id": "ek_-nhtaGO0z",
        "outputId": "7fedc3df-f76f-4378-f21b-d99fae9f0cc4"
      },
      "id": "ek_-nhtaGO0z",
      "execution_count": 140,
      "outputs": [
        {
          "output_type": "execute_result",
          "data": {
            "text/plain": [
              "numpy.float64"
            ]
          },
          "metadata": {},
          "execution_count": 140
        }
      ]
    },
    {
      "cell_type": "code",
      "execution_count": 141,
      "id": "593b311c",
      "metadata": {
        "ExecuteTime": {
          "end_time": "2021-11-30T01:29:43.163054Z",
          "start_time": "2021-11-30T01:29:43.156066Z"
        },
        "id": "593b311c",
        "colab": {
          "base_uri": "https://localhost:8080/"
        },
        "outputId": "d3fe0724-be6c-4995-f2dd-1c02de3c42ab"
      },
      "outputs": [
        {
          "output_type": "execute_result",
          "data": {
            "text/plain": [
              "pandas.core.series.Series"
            ]
          },
          "metadata": {},
          "execution_count": 141
        }
      ],
      "source": [
        "# Outra forma:\n",
        "\n",
        "type(data['mpg'].mode())"
      ]
    },
    {
      "cell_type": "code",
      "execution_count": 142,
      "id": "d0cc272b",
      "metadata": {
        "ExecuteTime": {
          "end_time": "2021-11-30T01:29:51.246500Z",
          "start_time": "2021-11-30T01:29:51.097893Z"
        },
        "id": "d0cc272b",
        "colab": {
          "base_uri": "https://localhost:8080/",
          "height": 472
        },
        "outputId": "0a0c9cc0-68f6-4af8-8663-9f840c480267"
      },
      "outputs": [
        {
          "output_type": "display_data",
          "data": {
            "text/plain": [
              "<Figure size 640x480 with 1 Axes>"
            ],
            "image/png": "[encoded data removed]"
          },
          "metadata": {}
        }
      ],
      "source": [
        "# Marca-se a posição da mediana na distribuição dos dados de mpg:\n",
        "\n",
        "# Histograma do mpg:\n",
        "\n",
        "ax = sns.histplot(data=data, x='mpg')\n",
        "ax.set_title('Distribuição dos dados da variável mpg')\n",
        "ax.set_ylabel('Frequência')\n",
        "\n",
        "# Plot de linha que marca a posição da média:\n",
        "\n",
        "ax.axvline(x=data['mpg'].mean(), color='red', label='Média = 23,51')\n",
        "ax.axvline(x=data['mpg'].median(), color='green', label='Mediana = 23,00')\n",
        "ax.axvline(x=data['mpg'].mode()[0], color='orange', label='Moda = 13,00')\n",
        "plt.legend()\n",
        "\n",
        "# Caso existisse mais de uma moda seria necessário um iterador:\n",
        "\n",
        "# for i in range(data[\"mpg\"].mode().shape[0]):\n",
        "#      ax.axvline(data[\"mpg\"].mode()[i], color=\"yellow\", label=\"moda\")\n",
        "\n",
        "plt.show()"
      ]
    },
    {
      "cell_type": "markdown",
      "id": "26a342e0",
      "metadata": {
        "id": "26a342e0"
      },
      "source": [
        "### 2.2.4 - Quartil e Percentil\n",
        "\n",
        "**Quartis**\n",
        "\n",
        "Dividem a distribuição em **quatro** partes iguais com os dados ordenados:\n",
        "\n",
        "- 1º quartil: o valor que deixa 25% dos dados abaixo dele e 75% acima dele.\n",
        "\n",
        "- 2º quartil: o valor que deixa 50% dos dados abaixo dele e 50% acima dele.\n",
        "\n",
        "- 3º quartil: o valor que deixa 75% dos dados abaixo dele e 25% acima dele.\n",
        "\n",
        "Generalizando: percentil $P_n$ é o valor que deixa n% dos dados abaixo dele e (100 - n% acima dele)"
      ]
    },
    {
      "cell_type": "markdown",
      "source": [
        "Com base nos tópicos abordados aqui, é possível depreender que o **segundo quartil (Q2)** é equivalente à:\n",
        "\n",
        "- [ ] Média\n",
        "- [X] Mediana\n",
        "- [ ] Moda"
      ],
      "metadata": {
        "id": "jfyoi0e2oHid"
      },
      "id": "jfyoi0e2oHid"
    },
    {
      "cell_type": "markdown",
      "id": "fa3b27ce",
      "metadata": {
        "id": "fa3b27ce"
      },
      "source": [
        "![](https://aprendendogestao.com.br/wp-content/uploads/2016/07/QE-Figura-1.png)"
      ]
    },
    {
      "cell_type": "markdown",
      "id": "0f00930b",
      "metadata": {
        "id": "0f00930b"
      },
      "source": [
        "- Documentação da função quantile:\n",
        "\n",
        "https://numpy.org/doc/stable/reference/generated/numpy.quantile.html\n",
        "\n",
        "- Código fonte da função quantile:\n",
        "\n",
        "https://github.com/numpy/numpy/blob/v1.21.0/numpy/lib/function_base.py#L3876-L3980"
      ]
    },
    {
      "cell_type": "code",
      "execution_count": 143,
      "id": "f2c2f39d",
      "metadata": {
        "id": "f2c2f39d",
        "colab": {
          "base_uri": "https://localhost:8080/"
        },
        "outputId": "a00c4fb6-aaea-486b-bc11-babb2a790dad"
      },
      "outputs": [
        {
          "output_type": "stream",
          "name": "stdout",
          "text": [
            "1º quartil = 17.5\n",
            "2º quartil = 23.0\n",
            "3º quartil = 29.0\n"
          ]
        }
      ],
      "source": [
        "# Cálculo dos quartis com os dados do dataset e o Numpy:\n",
        "\n",
        "print(f\"1º quartil = {np.quantile(data['mpg'], 0.25)}\")\n",
        "print(f\"2º quartil = {np.quantile(data['mpg'], 0.5)}\")\n",
        "print(f\"3º quartil = {np.quantile(data['mpg'], 0.75)}\")"
      ]
    },
    {
      "cell_type": "code",
      "execution_count": 144,
      "id": "f959933a",
      "metadata": {
        "id": "f959933a",
        "colab": {
          "base_uri": "https://localhost:8080/"
        },
        "outputId": "ef96436e-28f5-4072-f324-3790783d3c5d"
      },
      "outputs": [
        {
          "output_type": "stream",
          "name": "stdout",
          "text": [
            "1º quartil = 17.5\n",
            "2º quartil = 23.0\n",
            "3º quartil = 29.0\n"
          ]
        }
      ],
      "source": [
        "# Outra opção é o uso do Pandas:\n",
        "\n",
        "print(f\"1º quartil = {data['mpg'].quantile(0.25)}\")\n",
        "print(f\"2º quartil = {data['mpg'].quantile(0.5)}\")\n",
        "print(f\"3º quartil = {data['mpg'].quantile(0.75)}\")"
      ]
    },
    {
      "cell_type": "code",
      "execution_count": 145,
      "id": "77bfe6f0",
      "metadata": {
        "ExecuteTime": {
          "end_time": "2021-11-30T01:29:32.498234Z",
          "start_time": "2021-11-30T01:29:32.480282Z"
        },
        "id": "77bfe6f0",
        "colab": {
          "base_uri": "https://localhost:8080/",
          "height": 472
        },
        "outputId": "2209deec-64cd-4f4c-ae45-48996dc593da"
      },
      "outputs": [
        {
          "output_type": "display_data",
          "data": {
            "text/plain": [
              "<Figure size 640x480 with 1 Axes>"
            ],
            "image/png": "[encoded data removed]"
          },
          "metadata": {}
        }
      ],
      "source": [
        "# Marca-se a posição da mediana na distribuição dos dados de mpg:\n",
        "\n",
        "# Histograma do mpg:\n",
        "\n",
        "ax = sns.histplot(data=data, x='mpg')\n",
        "ax.set_title('Distribuição dos dados da variável mpg')\n",
        "ax.set_ylabel('Frequência')\n",
        "\n",
        "# Plot de linha que marca a posição da média:\n",
        "\n",
        "ax.axvline(x=data['mpg'].mean(), color='red', label='Média = 23,51')\n",
        "ax.axvline(x=data['mpg'].median(), color='green', label='Mediana = 23,00')\n",
        "ax.axvline(x=data['mpg'].mode()[0], color='orange', label='Moda = 13,00')\n",
        "ax.axvline(x=data['mpg'].quantile(0.25), color='yellow', label='Q1 = 17,5')\n",
        "ax.axvline(x=data['mpg'].quantile(0.75), color='pink', label='Q3 = 29,00')\n",
        "\n",
        "plt.legend()\n",
        "\n",
        "# Caso existisse mais de uma moda seria necessário um iterador:\n",
        "\n",
        "# for i in range(data[\"mpg\"].mode().shape[0]):\n",
        "#      ax.axvline(data[\"mpg\"].mode()[i], color=\"yellow\", label=\"moda\")\n",
        "\n",
        "plt.show()"
      ]
    },
    {
      "cell_type": "markdown",
      "id": "1222cb55",
      "metadata": {
        "id": "1222cb55"
      },
      "source": [
        "**Percentil**\n",
        "\n",
        "O valor tal que $P$ porcento dos dados estão abaixo.\n",
        "\n",
        "![](https://i0.wp.com/blog.portaleducacao.com.br/wp-content/uploads/2021/05/475-Quartil-e-Percentil.jpg)"
      ]
    },
    {
      "cell_type": "code",
      "execution_count": 145,
      "id": "9131da0e",
      "metadata": {
        "ExecuteTime": {
          "end_time": "2021-11-30T01:29:35.633355Z",
          "start_time": "2021-11-30T01:29:35.612444Z"
        },
        "id": "9131da0e"
      },
      "outputs": [],
      "source": []
    },
    {
      "cell_type": "code",
      "execution_count": 146,
      "id": "1639dd3a",
      "metadata": {
        "ExecuteTime": {
          "end_time": "2021-11-30T01:29:37.413686Z",
          "start_time": "2021-11-30T01:29:37.238938Z"
        },
        "id": "1639dd3a"
      },
      "outputs": [],
      "source": [
        "# Na representação gráfica\n",
        "\n",
        "\n",
        "# plotando a mediana e os quartis\n"
      ]
    },
    {
      "cell_type": "markdown",
      "id": "f69d4418",
      "metadata": {
        "id": "f69d4418"
      },
      "source": [
        "De forma geral,   \n",
        "__Métricas de Posição:__ Estas são medidas que **resumem** algumas propriedades do conjunto de dados:\n",
        "\n",
        "<img src=\"https://i.pinimg.com/originals/3e/8a/90/3e8a90c122ad25240cc46ac075cb0f4c.png\" width=200>"
      ]
    },
    {
      "cell_type": "code",
      "execution_count": 147,
      "id": "96ff149e",
      "metadata": {
        "ExecuteTime": {
          "end_time": "2021-11-30T01:29:55.509224Z",
          "start_time": "2021-11-30T01:29:55.309758Z"
        },
        "scrolled": true,
        "id": "96ff149e"
      },
      "outputs": [],
      "source": [
        "# Define o tamanho da figura\n",
        "\n",
        "\n",
        "# Plot do Histograma\n",
        "\n",
        "\n",
        "# plotando média\n",
        "\n",
        "# plotando a mediana\n",
        "\n",
        "# Plotando a moda\n",
        "\n",
        "\n"
      ]
    },
    {
      "cell_type": "markdown",
      "source": [
        "### **Um ponto de atenção em relação a média e mediana**"
      ],
      "metadata": {
        "id": "C764PvvP543-"
      },
      "id": "C764PvvP543-"
    },
    {
      "cell_type": "code",
      "source": [
        "# Vamos olhar um resumo das medidas que trabalhamos até agora:\n",
        "\n",
        "data['mpg'].describe()"
      ],
      "metadata": {
        "id": "U0qD3JKc6Bzn",
        "colab": {
          "base_uri": "https://localhost:8080/"
        },
        "outputId": "cd42ee2a-a584-40b8-924c-77f19fd6a0aa"
      },
      "id": "U0qD3JKc6Bzn",
      "execution_count": 148,
      "outputs": [
        {
          "output_type": "execute_result",
          "data": {
            "text/plain": [
              "count    398.000000\n",
              "mean      23.514573\n",
              "std        7.815984\n",
              "min        9.000000\n",
              "25%       17.500000\n",
              "50%       23.000000\n",
              "75%       29.000000\n",
              "max       46.600000\n",
              "Name: mpg, dtype: float64"
            ]
          },
          "metadata": {},
          "execution_count": 148
        }
      ]
    },
    {
      "cell_type": "code",
      "source": [
        "# Se adicionarmos um valor elevado ao nosso conjunto de dados:\n",
        "\n",
        "mpg = data['mpg'].to_list()\n",
        "mpg.append(100000)\n",
        "mpg = pd.DataFrame({'mpg': mpg})"
      ],
      "metadata": {
        "id": "u_qQMEJ96P_Z"
      },
      "id": "u_qQMEJ96P_Z",
      "execution_count": 149,
      "outputs": []
    },
    {
      "cell_type": "markdown",
      "source": [
        "Com adição desse valor, qual deve ser a medida que será mais alterada?\n",
        "\n",
        "- [ ] 1º quartil\n",
        "- [ ] Mediana\n",
        "- [X] Média\n",
        "- [ ] 3º quartil\n",
        "- [ ] Moda  "
      ],
      "metadata": {
        "id": "BHeVR_8S7y0D"
      },
      "id": "BHeVR_8S7y0D"
    },
    {
      "cell_type": "code",
      "source": [
        "# Resumo das medidas após a adição do valor:\n",
        "\n",
        "mpg.describe()"
      ],
      "metadata": {
        "id": "v2Ti0DST6dw4",
        "colab": {
          "base_uri": "https://localhost:8080/",
          "height": 300
        },
        "outputId": "11a956c1-39c4-4d71-bfdc-1ece5a91664a"
      },
      "id": "v2Ti0DST6dw4",
      "execution_count": 150,
      "outputs": [
        {
          "output_type": "execute_result",
          "data": {
            "text/plain": [
              "                 mpg\n",
              "count     399.000000\n",
              "mean      274.082206\n",
              "std      5005.090630\n",
              "min         9.000000\n",
              "25%        17.500000\n",
              "50%        23.000000\n",
              "75%        29.000000\n",
              "max    100000.000000"
            ],
            "text/html": [
              "\n",
              "  <div id=\"df-6d2b7fe6-2eb4-4f58-bcb6-061219d693d9\" class=\"colab-df-container\">\n",
              "    <div>\n",
              "<style scoped>\n",
              "    .dataframe tbody tr th:only-of-type {\n",
              "        vertical-align: middle;\n",
              "    }\n",
              "\n",
              "    .dataframe tbody tr th {\n",
              "        vertical-align: top;\n",
              "    }\n",
              "\n",
              "    .dataframe thead th {\n",
              "        text-align: right;\n",
              "    }\n",
              "</style>\n",
              "<table border=\"1\" class=\"dataframe\">\n",
              "  <thead>\n",
              "    <tr style=\"text-align: right;\">\n",
              "      <th></th>\n",
              "      <th>mpg</th>\n",
              "    </tr>\n",
              "  </thead>\n",
              "  <tbody>\n",
              "    <tr>\n",
              "      <th>count</th>\n",
              "      <td>399.000000</td>\n",
              "    </tr>\n",
              "    <tr>\n",
              "      <th>mean</th>\n",
              "      <td>274.082206</td>\n",
              "    </tr>\n",
              "    <tr>\n",
              "      <th>std</th>\n",
              "      <td>5005.090630</td>\n",
              "    </tr>\n",
              "    <tr>\n",
              "      <th>min</th>\n",
              "      <td>9.000000</td>\n",
              "    </tr>\n",
              "    <tr>\n",
              "      <th>25%</th>\n",
              "      <td>17.500000</td>\n",
              "    </tr>\n",
              "    <tr>\n",
              "      <th>50%</th>\n",
              "      <td>23.000000</td>\n",
              "    </tr>\n",
              "    <tr>\n",
              "      <th>75%</th>\n",
              "      <td>29.000000</td>\n",
              "    </tr>\n",
              "    <tr>\n",
              "      <th>max</th>\n",
              "      <td>100000.000000</td>\n",
              "    </tr>\n",
              "  </tbody>\n",
              "</table>\n",
              "</div>\n",
              "    <div class=\"colab-df-buttons\">\n",
              "\n",
              "  <div class=\"colab-df-container\">\n",
              "    <button class=\"colab-df-convert\" onclick=\"convertToInteractive('df-6d2b7fe6-2eb4-4f58-bcb6-061219d693d9')\"\n",
              "            title=\"Convert this dataframe to an interactive table.\"\n",
              "            style=\"display:none;\">\n",
              "\n",
              "  <svg xmlns=\"http://www.w3.org/2000/svg\" height=\"24px\" viewBox=\"0 -960 960 960\">\n",
              "    <path d=\"M120-120v-720h720v720H120Zm60-500h600v-160H180v160Zm220 220h160v-160H400v160Zm0 220h160v-160H400v160ZM180-400h160v-160H180v160Zm440 0h160v-160H620v160ZM180-180h160v-160H180v160Zm440 0h160v-160H620v160Z\"/>\n",
              "  </svg>\n",
              "    </button>\n",
              "\n",
              "  <style>\n",
              "    .colab-df-container {\n",
              "      display:flex;\n",
              "      gap: 12px;\n",
              "    }\n",
              "\n",
              "    .colab-df-convert {\n",
              "      background-color: #E8F0FE;\n",
              "      border: none;\n",
              "      border-radius: 50%;\n",
              "      cursor: pointer;\n",
              "      display: none;\n",
              "      fill: #1967D2;\n",
              "      height: 32px;\n",
              "      padding: 0 0 0 0;\n",
              "      width: 32px;\n",
              "    }\n",
              "\n",
              "    .colab-df-convert:hover {\n",
              "      background-color: #E2EBFA;\n",
              "      box-shadow: 0px 1px 2px rgba(60, 64, 67, 0.3), 0px 1px 3px 1px rgba(60, 64, 67, 0.15);\n",
              "      fill: #174EA6;\n",
              "    }\n",
              "\n",
              "    .colab-df-buttons div {\n",
              "      margin-bottom: 4px;\n",
              "    }\n",
              "\n",
              "    [theme=dark] .colab-df-convert {\n",
              "      background-color: #3B4455;\n",
              "      fill: #D2E3FC;\n",
              "    }\n",
              "\n",
              "    [theme=dark] .colab-df-convert:hover {\n",
              "      background-color: #434B5C;\n",
              "      box-shadow: 0px 1px 3px 1px rgba(0, 0, 0, 0.15);\n",
              "      filter: drop-shadow(0px 1px 2px rgba(0, 0, 0, 0.3));\n",
              "      fill: #FFFFFF;\n",
              "    }\n",
              "  </style>\n",
              "\n",
              "    <script>\n",
              "      const buttonEl =\n",
              "        document.querySelector('#df-6d2b7fe6-2eb4-4f58-bcb6-061219d693d9 button.colab-df-convert');\n",
              "      buttonEl.style.display =\n",
              "        google.colab.kernel.accessAllowed ? 'block' : 'none';\n",
              "\n",
              "      async function convertToInteractive(key) {\n",
              "        const element = document.querySelector('#df-6d2b7fe6-2eb4-4f58-bcb6-061219d693d9');\n",
              "        const dataTable =\n",
              "          await google.colab.kernel.invokeFunction('convertToInteractive',\n",
              "                                                    [key], {});\n",
              "        if (!dataTable) return;\n",
              "\n",
              "        const docLinkHtml = 'Like what you see? Visit the ' +\n",
              "          '<a target=\"_blank\" href=https://colab.research.google.com/notebooks/data_table.ipynb>data table notebook</a>'\n",
              "          + ' to learn more about interactive tables.';\n",
              "        element.innerHTML = '';\n",
              "        dataTable['output_type'] = 'display_data';\n",
              "        await google.colab.output.renderOutput(dataTable, element);\n",
              "        const docLink = document.createElement('div');\n",
              "        docLink.innerHTML = docLinkHtml;\n",
              "        element.appendChild(docLink);\n",
              "      }\n",
              "    </script>\n",
              "  </div>\n",
              "\n",
              "\n",
              "<div id=\"df-0aad29f9-43c6-4a60-b18b-73618226beb7\">\n",
              "  <button class=\"colab-df-quickchart\" onclick=\"quickchart('df-0aad29f9-43c6-4a60-b18b-73618226beb7')\"\n",
              "            title=\"Suggest charts\"\n",
              "            style=\"display:none;\">\n",
              "\n",
              "<svg xmlns=\"http://www.w3.org/2000/svg\" height=\"24px\"viewBox=\"0 0 24 24\"\n",
              "     width=\"24px\">\n",
              "    <g>\n",
              "        <path d=\"M19 3H5c-1.1 0-2 .9-2 2v14c0 1.1.9 2 2 2h14c1.1 0 2-.9 2-2V5c0-1.1-.9-2-2-2zM9 17H7v-7h2v7zm4 0h-2V7h2v10zm4 0h-2v-4h2v4z\"/>\n",
              "    </g>\n",
              "</svg>\n",
              "  </button>\n",
              "\n",
              "<style>\n",
              "  .colab-df-quickchart {\n",
              "      --bg-color: #E8F0FE;\n",
              "      --fill-color: #1967D2;\n",
              "      --hover-bg-color: #E2EBFA;\n",
              "      --hover-fill-color: #174EA6;\n",
              "      --disabled-fill-color: #AAA;\n",
              "      --disabled-bg-color: #DDD;\n",
              "  }\n",
              "\n",
              "  [theme=dark] .colab-df-quickchart {\n",
              "      --bg-color: #3B4455;\n",
              "      --fill-color: #D2E3FC;\n",
              "      --hover-bg-color: #434B5C;\n",
              "      --hover-fill-color: #FFFFFF;\n",
              "      --disabled-bg-color: #3B4455;\n",
              "      --disabled-fill-color: #666;\n",
              "  }\n",
              "\n",
              "  .colab-df-quickchart {\n",
              "    background-color: var(--bg-color);\n",
              "    border: none;\n",
              "    border-radius: 50%;\n",
              "    cursor: pointer;\n",
              "    display: none;\n",
              "    fill: var(--fill-color);\n",
              "    height: 32px;\n",
              "    padding: 0;\n",
              "    width: 32px;\n",
              "  }\n",
              "\n",
              "  .colab-df-quickchart:hover {\n",
              "    background-color: var(--hover-bg-color);\n",
              "    box-shadow: 0 1px 2px rgba(60, 64, 67, 0.3), 0 1px 3px 1px rgba(60, 64, 67, 0.15);\n",
              "    fill: var(--button-hover-fill-color);\n",
              "  }\n",
              "\n",
              "  .colab-df-quickchart-complete:disabled,\n",
              "  .colab-df-quickchart-complete:disabled:hover {\n",
              "    background-color: var(--disabled-bg-color);\n",
              "    fill: var(--disabled-fill-color);\n",
              "    box-shadow: none;\n",
              "  }\n",
              "\n",
              "  .colab-df-spinner {\n",
              "    border: 2px solid var(--fill-color);\n",
              "    border-color: transparent;\n",
              "    border-bottom-color: var(--fill-color);\n",
              "    animation:\n",
              "      spin 1s steps(1) infinite;\n",
              "  }\n",
              "\n",
              "  @keyframes spin {\n",
              "    0% {\n",
              "      border-color: transparent;\n",
              "      border-bottom-color: var(--fill-color);\n",
              "      border-left-color: var(--fill-color);\n",
              "    }\n",
              "    20% {\n",
              "      border-color: transparent;\n",
              "      border-left-color: var(--fill-color);\n",
              "      border-top-color: var(--fill-color);\n",
              "    }\n",
              "    30% {\n",
              "      border-color: transparent;\n",
              "      border-left-color: var(--fill-color);\n",
              "      border-top-color: var(--fill-color);\n",
              "      border-right-color: var(--fill-color);\n",
              "    }\n",
              "    40% {\n",
              "      border-color: transparent;\n",
              "      border-right-color: var(--fill-color);\n",
              "      border-top-color: var(--fill-color);\n",
              "    }\n",
              "    60% {\n",
              "      border-color: transparent;\n",
              "      border-right-color: var(--fill-color);\n",
              "    }\n",
              "    80% {\n",
              "      border-color: transparent;\n",
              "      border-right-color: var(--fill-color);\n",
              "      border-bottom-color: var(--fill-color);\n",
              "    }\n",
              "    90% {\n",
              "      border-color: transparent;\n",
              "      border-bottom-color: var(--fill-color);\n",
              "    }\n",
              "  }\n",
              "</style>\n",
              "\n",
              "  <script>\n",
              "    async function quickchart(key) {\n",
              "      const quickchartButtonEl =\n",
              "        document.querySelector('#' + key + ' button');\n",
              "      quickchartButtonEl.disabled = true;  // To prevent multiple clicks.\n",
              "      quickchartButtonEl.classList.add('colab-df-spinner');\n",
              "      try {\n",
              "        const charts = await google.colab.kernel.invokeFunction(\n",
              "            'suggestCharts', [key], {});\n",
              "      } catch (error) {\n",
              "        console.error('Error during call to suggestCharts:', error);\n",
              "      }\n",
              "      quickchartButtonEl.classList.remove('colab-df-spinner');\n",
              "      quickchartButtonEl.classList.add('colab-df-quickchart-complete');\n",
              "    }\n",
              "    (() => {\n",
              "      let quickchartButtonEl =\n",
              "        document.querySelector('#df-0aad29f9-43c6-4a60-b18b-73618226beb7 button');\n",
              "      quickchartButtonEl.style.display =\n",
              "        google.colab.kernel.accessAllowed ? 'block' : 'none';\n",
              "    })();\n",
              "  </script>\n",
              "</div>\n",
              "\n",
              "    </div>\n",
              "  </div>\n"
            ]
          },
          "metadata": {},
          "execution_count": 150
        }
      ]
    },
    {
      "cell_type": "markdown",
      "source": [
        "### **Nem só de medidas de posição é feita a descrição de um conjunto de dados**"
      ],
      "metadata": {
        "id": "QkUIFGjFWino"
      },
      "id": "QkUIFGjFWino"
    },
    {
      "cell_type": "markdown",
      "source": [
        "Se analisarmos dois conjuntos de dados diferentes podemos nos deparar com a seguinte situação."
      ],
      "metadata": {
        "id": "bxtF08O3XckT"
      },
      "id": "bxtF08O3XckT"
    },
    {
      "cell_type": "code",
      "source": [
        "amostra1 = [3, 4 ,5, 7, 6]\n",
        "amostra2 = [0, 2, 5, 8, 10]\n",
        "\n",
        "print(f'Média da amostra 1 = {np.mean(amostra1)}')\n",
        "print(f'Média da amostra 2 = {np.mean(amostra2)}')"
      ],
      "metadata": {
        "id": "MU5vJy9eXim_",
        "colab": {
          "base_uri": "https://localhost:8080/"
        },
        "outputId": "ce754bf4-3fd9-434c-fc1d-47b7495a16a3"
      },
      "id": "MU5vJy9eXim_",
      "execution_count": 151,
      "outputs": [
        {
          "output_type": "stream",
          "name": "stdout",
          "text": [
            "Média da amostra 1 = 5.0\n",
            "Média da amostra 2 = 5.0\n"
          ]
        }
      ]
    },
    {
      "cell_type": "markdown",
      "source": [
        "Pode ser feita a plotagem dos gráficos para visualizar as distribuiçãos para os dois conjuntos de valores."
      ],
      "metadata": {
        "id": "GLltEEJSaaGG"
      },
      "id": "GLltEEJSaaGG"
    },
    {
      "cell_type": "code",
      "source": [
        "fig, ax = plt.subplots(1, 2, figsize=(12, 5))\n",
        "\n",
        "ax1 = sns.histplot(amostra1, ax=ax[0])\n",
        "ax1.set_title('Histograma amostra 1')\n",
        "ax1.axvline(np.mean(amostra1), color='red')\n",
        "ax1.set_xlim([0, 10])\n",
        "ax2 = sns.histplot(amostra2, color='red', ax=ax[1])\n",
        "ax2.axvline(np.mean(amostra2), color='red')\n",
        "ax2.set_title('Histograma amostra 2')\n",
        "plt.tight_layout() # organiza automaticamente os subplots.\n",
        "plt.show()"
      ],
      "metadata": {
        "id": "E6Z02Ey4aj6j",
        "colab": {
          "base_uri": "https://localhost:8080/",
          "height": 507
        },
        "outputId": "375b877f-3049-46fb-82b0-7321d36390af"
      },
      "id": "E6Z02Ey4aj6j",
      "execution_count": 152,
      "outputs": [
        {
          "output_type": "display_data",
          "data": {
            "text/plain": [
              "<Figure size 1200x500 with 2 Axes>"
            ],
            "image/png": "[encoded data removed]"
          },
          "metadata": {}
        }
      ]
    },
    {
      "cell_type": "markdown",
      "source": [
        "Portanto, outros tipos de medidas também se fazem necessárias."
      ],
      "metadata": {
        "id": "6WpP_78BczWk"
      },
      "id": "6WpP_78BczWk"
    },
    {
      "cell_type": "markdown",
      "id": "9d86cb44",
      "metadata": {
        "id": "9d86cb44"
      },
      "source": [
        "## 2.3 - Medidas de dispersão\n",
        "Quantificam a **variabilidade** (ou dispersão) dos dados. Medidas de variabilidade indicam o quanto as observações variam ao redor da medida de centralidade. Em outras palavras, indicam o quão longe podemos esperar que uma observação esteja do valor típico para aquela variável. Existem diversas medidas de variabilidade, algumas das quais apresentamos a seguir.\n",
        "\n",
        "### 2.3.1 - Mínimo, Máximo e Amplitude\n",
        "\n",
        "Mínimo de um conjunto de dados é o número de menor valor\n",
        "\n",
        "Máximo de um conjunto de dados é o número de maior valor\n",
        "\n",
        "Amplitude de um conjunto de dados é a diferença entre o maior e o menor valor observado. Esta medida de variabilidade é **fortemente** influenciada por valores extremos nas observações, como **outliers**."
      ]
    },
    {
      "cell_type": "code",
      "execution_count": 153,
      "id": "8db2513b",
      "metadata": {
        "ExecuteTime": {
          "end_time": "2021-11-30T01:29:59.738482Z",
          "start_time": "2021-11-30T01:29:59.731485Z"
        },
        "id": "8db2513b",
        "colab": {
          "base_uri": "https://localhost:8080/"
        },
        "outputId": "01dbc230-78e4-4af5-fa29-c8c1caec92e3"
      },
      "outputs": [
        {
          "output_type": "execute_result",
          "data": {
            "text/plain": [
              "1613"
            ]
          },
          "metadata": {},
          "execution_count": 153
        }
      ],
      "source": [
        "# Vamos utilizar a coluna weight do dataset para praticar as formas de obter mínimo e máximo:\n",
        "\n",
        "np.min(data['weight'])"
      ]
    },
    {
      "cell_type": "code",
      "execution_count": 154,
      "id": "913a0dd2",
      "metadata": {
        "ExecuteTime": {
          "end_time": "2021-11-30T01:30:02.871249Z",
          "start_time": "2021-11-30T01:30:02.858278Z"
        },
        "id": "913a0dd2"
      },
      "outputs": [],
      "source": [
        "# Ou apenas:\n",
        "\n"
      ]
    },
    {
      "cell_type": "code",
      "execution_count": 155,
      "id": "68c6aa70",
      "metadata": {
        "ExecuteTime": {
          "end_time": "2021-11-30T01:30:06.485498Z",
          "start_time": "2021-11-30T01:30:06.467518Z"
        },
        "id": "68c6aa70",
        "colab": {
          "base_uri": "https://localhost:8080/"
        },
        "outputId": "8fd1fcc2-53b7-497f-da37-6faa124e7e06"
      },
      "outputs": [
        {
          "output_type": "stream",
          "name": "stdout",
          "text": [
            "Amplitude (mpg) = 37.6\n"
          ]
        }
      ],
      "source": [
        "#Amplitude:\n",
        "\n",
        "print(f\"Amplitude (mpg) = {data['mpg'].max() - data['mpg'].min()}\")"
      ]
    },
    {
      "cell_type": "code",
      "execution_count": 156,
      "id": "46526eac",
      "metadata": {
        "ExecuteTime": {
          "end_time": "2021-11-30T01:30:08.239570Z",
          "start_time": "2021-11-30T01:30:08.066008Z"
        },
        "scrolled": true,
        "id": "46526eac",
        "colab": {
          "base_uri": "https://localhost:8080/",
          "height": 472
        },
        "outputId": "b9f41b3f-2ffe-4682-eeff-6caa70aac2e3"
      },
      "outputs": [
        {
          "output_type": "display_data",
          "data": {
            "text/plain": [
              "<Figure size 640x480 with 1 Axes>"
            ],
            "image/png": "[encoded data removed]"
          },
          "metadata": {}
        }
      ],
      "source": [
        "# Na representação gráfica\n",
        "\n",
        "ax = sns.histplot(data=data, x='mpg')\n",
        "ax.set_title('Histograma da variável mpg')\n",
        "ax.set_ylabel('Frequência')\n",
        "\n",
        "# plotando a amplitude\n",
        "\n",
        "ax.axvline(data['mpg'].min(), color='magenta', label=f\"Min = {data['mpg'].min()}\")\n",
        "ax.axvline(data['mpg'].max(), color='tomato', label=f\"Max = {data['mpg'].max()}\")\n",
        "ax.axhline(y=63, xmin=0.05, xmax=0.95, color='darkblue', label='Amplitude')\n",
        "\n",
        "# Cria uma legenda\n",
        "plt.legend(loc='upper right')\n",
        "plt.show()"
      ]
    },
    {
      "cell_type": "markdown",
      "id": "7869a3c1",
      "metadata": {
        "id": "7869a3c1"
      },
      "source": [
        "### 2.3.2 -  Intervalo Interquartil (IQR) e Diagrama de caixa (boxplot)\n",
        "\n",
        "**Intervalo interquartil**\n",
        "\n",
        "Por construção, aproximadamente metade dos dados estão entre o 1º e o 3º quartil, isto é, este também pode ser interpretado como um intervalo de valores tipicamente assumidos pelas observações."
      ]
    },
    {
      "cell_type": "markdown",
      "source": [
        "> $IQR = Q_3 - Q_1$\n",
        "\n",
        "Considera-se como um *outlier* valores acima de:\n",
        "\n",
        "> $Q_3 + 1,5 IQR$\n",
        "\n",
        "Ou abaixo de:\n",
        "\n",
        "> $Q_1 - 1,5 IQR$"
      ],
      "metadata": {
        "id": "3IEzfz8tP5vH"
      },
      "id": "3IEzfz8tP5vH"
    },
    {
      "cell_type": "code",
      "execution_count": 157,
      "id": "1ede051e",
      "metadata": {
        "ExecuteTime": {
          "end_time": "2021-11-30T01:30:12.036316Z",
          "start_time": "2021-11-30T01:30:12.018394Z"
        },
        "id": "1ede051e",
        "colab": {
          "base_uri": "https://localhost:8080/"
        },
        "outputId": "23229935-1c82-44e7-efb0-95b7d5fe4adc"
      },
      "outputs": [
        {
          "output_type": "stream",
          "name": "stdout",
          "text": [
            "Q1 = 17.5\n",
            "Q3 = 29.0\n"
          ]
        }
      ],
      "source": [
        "# Para o nosso dataset, com a coluna mpg:\n",
        "\n",
        "Q1 = data['mpg'].quantile(0.25)\n",
        "Q3 = data['mpg'].quantile(0.75)\n",
        "\n",
        "print(f\"Q1 = {Q1}\")\n",
        "print(f\"Q3 = {Q3}\")"
      ]
    },
    {
      "cell_type": "code",
      "execution_count": 158,
      "id": "624903ea",
      "metadata": {
        "ExecuteTime": {
          "end_time": "2021-11-30T01:30:14.247000Z",
          "start_time": "2021-11-30T01:30:14.234036Z"
        },
        "id": "624903ea",
        "colab": {
          "base_uri": "https://localhost:8080/"
        },
        "outputId": "46bc06f4-999d-4f2e-dfca-77296a25e4f9"
      },
      "outputs": [
        {
          "output_type": "execute_result",
          "data": {
            "text/plain": [
              "11.5"
            ]
          },
          "metadata": {},
          "execution_count": 158
        }
      ],
      "source": [
        "# E o IQR:\n",
        "\n",
        "IQR = Q3 - Q1\n",
        "IQR"
      ]
    },
    {
      "cell_type": "markdown",
      "id": "5dc5fce7",
      "metadata": {
        "id": "5dc5fce7"
      },
      "source": [
        "**Boxplot**\n",
        "\n",
        "O boxplot (gráfico de caixa) é um gráfico utilizado para avaliar a distribuição empírica do dados. O boxplot é formado pelo primeiro e terceiro quartil e pela mediana. As hastes conhecidos como bigodes (**whiskers**) inferiores e superiores se estendem, respectivamente, do quartil inferior até o menor valor não inferior ao limite inferior e do quartil superior até o maior valor não superior ao limite superior.\n",
        "\n",
        "Para este caso, os pontos fora destes limites são considerados valores discrepantes (Outliers) e são denotados por asterisco (*). A Figura  a seguir apresenta um exemplo do formato de um boxplot.\n",
        "\n",
        "<img src=https://miro.medium.com/max/8000/1*0MPDTLn8KoLApoFvI0P2vQ.png width=500>\n",
        "\n",
        "O boxplot pode ainda ser utilizado para uma comparação visual entre dois ou mais grupos. Por exemplo, duas ou mais caixas são colocadas lado a lado e se compara a variabilidade entre elas, a mediana e assim por diante. Outro ponto importante é a diferença entre os quartis $ (Q_3 - Q_1) $ que é uma medida da variabilidade dos dados.\n",
        "\n",
        "### Outliers\n",
        "\n",
        "**Outliers** ou **discrepantes** referem-se a observações **extremas**, que se deslocam em muito das outras observações em um conjunto de dados, ou seja, que **destoam do padrão da distribuição** dos dados. Outliers podem existir por motivos diferentes, alguns dos quais são:\n",
        "\n",
        "- erro na entrada de dados (erro humano);\n",
        "- erro na medição/coleta dos dados (erro instrumental);\n",
        "- erros experimentais (planejamento/execução dos experimentos);\n",
        "- outliers naturais (não decorrente de erros)\n",
        "\n",
        "<img src=\"https://miro.medium.com/max/700/1*J5Xm0X-phCJJ-DKZMZ_88w.png\">\n",
        "\n",
        "No caso dos erros, é importante que os outliers sejam tratados (comumente são removidos). Por outro lado, outliers naturais são importantes constituintes dos dados, de modo que não devem ser eliminados mas, muitas vezes, devem ser tratados.\n",
        "\n",
        "De qualquer modo, antes de começarmos a pensar em como **tratar** os outliers, o primeiro passo é **identificá-los** e a melhor forma para isso é utilizar dos boxplots."
      ]
    },
    {
      "cell_type": "markdown",
      "id": "37bc3412",
      "metadata": {
        "id": "37bc3412"
      },
      "source": [
        "Em resumo, o outlier:\n",
        "- É o dado que é muito diferente/distante da maioria dos outros\n",
        "- Não é errado ou inválido\n",
        "- Interfere na média\n",
        "- Deve ser investigado"
      ]
    },
    {
      "cell_type": "code",
      "source": [
        "# Visualização dos dados mpg no boxplot:\n",
        "\n",
        "fig, ax = plt.subplots(2, 1, figsize=(6, 10))\n",
        "\n",
        "ax1 = sns.boxplot(data=data, x='mpg', ax=ax[0])\n",
        "ax1.axvline(x=data['mpg'].mean(), color='green', label='Média')\n",
        "ax1.axvline(x=data['mpg'].median(), color='red', label='Mediana')\n",
        "ax1.axvline(x=data['mpg'].quantile(0.25), color='magenta', label='Q1')\n",
        "ax1.axvline(x=data['mpg'].quantile(0.75), color='orange', label='Q3')\n",
        "\n",
        "ax2 = sns.histplot(data=data, x='mpg', ax=ax[1])\n",
        "ax2.axvline(x=data['mpg'].mean(), color='green', label='Média')\n",
        "ax2.axvline(x=data['mpg'].median(), color='red', label='Mediana')\n",
        "ax2.axvline(x=data['mpg'].quantile(0.25), color='magenta', label='Q1')\n",
        "ax2.axvline(x=data['mpg'].quantile(0.75), color='orange', label='Q3')\n",
        "\n",
        "# Plot de todas as medidas:\n",
        "\n",
        "plt.legend()\n",
        "plt.show()"
      ],
      "metadata": {
        "id": "LSwC3JPNUYjT"
      },
      "id": "LSwC3JPNUYjT",
      "execution_count": null,
      "outputs": []
    },
    {
      "cell_type": "code",
      "source": [
        "# Boxplot de mpg segmentado por origin:\n"
      ],
      "metadata": {
        "id": "ryFbStia8HM0"
      },
      "id": "ryFbStia8HM0",
      "execution_count": null,
      "outputs": []
    },
    {
      "cell_type": "markdown",
      "id": "0cd3fe87",
      "metadata": {
        "id": "0cd3fe87"
      },
      "source": [
        "### 2.3.3 - Variância e desvio padrão\n",
        "\n",
        "Mede o quanto os dados estão longe da média\n",
        "\n",
        "\n",
        "**Variância:**\n",
        "\n",
        "\n",
        "A variância representa **o quanto os dados se afastam da média, em geral**. Por definição, tomamos a média dos **desvios quadráticos da média**:\n",
        "\n",
        "$$ \\sigma^2 =Var(X) = \\sum_{i=1}^{n}\\frac{(x_i- \\mu)^{2}}{n} = \\frac{(x_1-\\mu)^{2}}{n} + \\frac{(x_2-\\mu)^{2}}{n} + \\cdots + \\frac{(x_n-\\mu)^{2}}{n}$$\n",
        "\n",
        "\n",
        "Obs.: Quando falarmos em amostras, usaremos a seguinte expressão:\n",
        "$$ s^2 =Var(X) = \\sum_{i=1}^{n}\\frac{(x_i-\\overline{x})^{2}}{n-1} = \\frac{(x_1-\\overline{x})^{2}}{n-1} + \\frac{(x_2-\\overline{x})^{2}}{n-1} + \\cdots + \\frac{(x_n-\\overline{x})^{2}}{n-1}$$"
      ]
    },
    {
      "cell_type": "code",
      "execution_count": null,
      "id": "0a510159",
      "metadata": {
        "ExecuteTime": {
          "end_time": "2021-11-30T01:30:31.375561Z",
          "start_time": "2021-11-30T01:30:31.358634Z"
        },
        "id": "0a510159"
      },
      "outputs": [],
      "source": [
        "# Cálculo da variância nos dados de mpg:\n",
        "\n"
      ]
    },
    {
      "cell_type": "code",
      "source": [
        "# Ou:\n",
        "\n"
      ],
      "metadata": {
        "id": "N-tx5-0Ld4jQ"
      },
      "id": "N-tx5-0Ld4jQ",
      "execution_count": null,
      "outputs": []
    },
    {
      "cell_type": "markdown",
      "source": [
        "Um problema da variância é que ela não é uma medida fácil de se interpretar. Isso deve ao fato de que, por ser elevada ao **quadrado**, a unidade de medida referente ao valor também é elevada ao **quadrado**."
      ],
      "metadata": {
        "id": "fIk4f8W2ddp6"
      },
      "id": "fIk4f8W2ddp6"
    },
    {
      "cell_type": "markdown",
      "id": "7199cd10",
      "metadata": {
        "id": "7199cd10"
      },
      "source": [
        "**Desvio padrão:**\n",
        "\n",
        "Note que, da forma como foi definida, a variância é um valor **quadrático** nos dados. Para evitar isso, é comum tirar a raiz quadrada da variância, o que define o **desvio padrão**:\n",
        "$$ \\sigma = \\sqrt{\\sum_{i=1}^{n}\\frac{(x_i-\\mu)^{2}}{n}}$$\n",
        "\n",
        "Obs.: Quando falarmos em amostra, usaremos a seguinte expressão:\n",
        "$$ s = \\sqrt{\\sum_{i=1}^{n}\\frac{(x_i-\\overline{x})^{2}}{n-1}}$$\n",
        "\n",
        "\n",
        "Usamos mais o desvio padrão pois está na mesma escala dos dados originais"
      ]
    },
    {
      "cell_type": "code",
      "execution_count": null,
      "id": "f6ba94d1",
      "metadata": {
        "ExecuteTime": {
          "end_time": "2021-11-30T01:30:36.248537Z",
          "start_time": "2021-11-30T01:30:36.242559Z"
        },
        "id": "f6ba94d1"
      },
      "outputs": [],
      "source": [
        "# No nosso dataset:\n",
        "\n"
      ]
    },
    {
      "cell_type": "code",
      "source": [
        "# Ou:\n",
        "\n"
      ],
      "metadata": {
        "id": "OPu4oSV9eEer"
      },
      "id": "OPu4oSV9eEer",
      "execution_count": null,
      "outputs": []
    },
    {
      "cell_type": "markdown",
      "id": "55662530",
      "metadata": {
        "ExecuteTime": {
          "end_time": "2021-10-08T16:26:08.216933Z",
          "start_time": "2021-10-08T16:26:08.201930Z"
        },
        "id": "55662530"
      },
      "source": [
        "### 2.3.4 - Assimetria\n",
        "\n",
        "É o **grau de desvio ou afastamento** da **simetria** de uma distribuição. Quando a curva é simétrica, a `média`, a `mediana` e a `moda` coincidem, num mesmo ponto, havendo um perfeito equilíbrio na distribuição. Um exemplo de distribuição simétrica é a **distribuição normal**. Quando o equilíbrio não acontece, a média, a mediana e a moda recaem em pontos diferentes da distribuição, e a distribuição se torna **assimétrica**:\n",
        "\n",
        "<img src=\"https://www.researchgate.net/profile/Marco_Faria/publication/294890337/figure/fig5/AS:668873900716049@1536483373457/a-Negative-skewness-b-Normal-curve-c-Positive-skewness-Durkhure-and-Lodwal-2014.ppm\" width=600>\n",
        "\n",
        "\n",
        "- Distribuição assimétrica **Negativa ou enviesada a esquerda**: quando os valores se concentram na extremidade superior da escala e se distribuem gradativamente em direção à extremidade inferior.\n",
        "\n",
        "- Distribuição assimétrica **Positiva ou enviesada a direita**: quando os valores se concentram na extremidade inferior da escala e se distribuem gradativamente em direção à extremidade superior.\n",
        "\n",
        "A medidade de assimetria é conhecida como **skewness**, sendo calculada como:\n",
        "\n",
        "$$ s(X) = \\frac{1}{\\sigma^3}\\sum_{i=1}^{n}\\frac{(x_i-\\overline{x})^{3}}{n}$$\n",
        "\n",
        "O valor da skewness nos indica a assimetria da distribuição:\n",
        "\n",
        "- s = 0: distribuição simétrica\n",
        "- s > 0: assimetria à direita\n",
        "- s < 0: assimetria à esquerda"
      ]
    },
    {
      "cell_type": "code",
      "execution_count": null,
      "id": "abd7b7dd",
      "metadata": {
        "ExecuteTime": {
          "end_time": "2021-11-30T01:30:41.775882Z",
          "start_time": "2021-11-30T01:30:41.758908Z"
        },
        "id": "abd7b7dd"
      },
      "outputs": [],
      "source": [
        "# Simetria nos dados de mpg:\n",
        "\n"
      ]
    },
    {
      "cell_type": "code",
      "execution_count": null,
      "id": "950da8a2",
      "metadata": {
        "ExecuteTime": {
          "end_time": "2021-11-30T01:30:44.125422Z",
          "start_time": "2021-11-30T01:30:43.951276Z"
        },
        "scrolled": true,
        "id": "950da8a2"
      },
      "outputs": [],
      "source": [
        "# Define o Titulo\n",
        "\n",
        "# Plot do Histograma\n",
        "\n",
        "# plotando média\n",
        "\n",
        "# plotando a mediana\n",
        "\n",
        "# moda\n",
        "\n",
        "# Cria uma legenda\n",
        "\n",
        "# Mostra o Gráfico\n"
      ]
    },
    {
      "cell_type": "markdown",
      "id": "3cacdb21",
      "metadata": {
        "id": "3cacdb21"
      },
      "source": [
        "## 2.4 - Métricas de associação entre variáveis quantitativas\n",
        "\n",
        "\n",
        "Sejam $X$ e $Y$ variáveis quantitativas de interesse e as amostras aleatórias observadas $x_1,\\ldots,x_n$ e $y_1,\\ldots,y_n$, respectivamente. As medidas de associação mais utilizadas são:\n",
        "<br>\n",
        "\n",
        "### 2.4.1 Covariância\n",
        "\n",
        "A __Covariância__ faz uma comparação similar que a variância, com a diferença que está comparação é entre variáveis distintas $X$ e $Y$:\n",
        "\n",
        "Populacional:  \n",
        "  $ Cov(X,Y)= \\sigma_{XY} =\\displaystyle{\\frac{\\displaystyle\\sum_{i=1}^{n}(x_i-\\mu_x)(y_i-\\mu_y)}{n}}$\n",
        "\n",
        "\n",
        "Amostral:  \n",
        "  $Cov(X,Y) = s_{XY} =  \\displaystyle{\\frac{\\displaystyle\\sum_{i=1}^{n}(x_i-\\bar{x})(y_i-\\bar{y})}{n-1}}$"
      ]
    },
    {
      "cell_type": "markdown",
      "id": "b4989310",
      "metadata": {
        "id": "b4989310"
      },
      "source": [
        "### 2.4.2 Correlação\n",
        "\n",
        "Um dos conceitos mais importantes em Data Science é o da **correlação**. A partir de estudos de correlação, é possível **descobrirmos como diferentes variáveis interagem**.\n",
        "<br>\n",
        "<img src=\"https://www.mathsisfun.com/data/images/correlation-examples.svg\" width=700>\n",
        "<br>\n",
        "É bem importante distinguirmos correlações **lineares** de **não lineares**.\n",
        "<br>\n",
        "<img src=\"https://miro.medium.com/max/1414/1*ZMwog-_YcD0qBHc9_1T1-w.png\" width=700>\n",
        "<br>\n",
        "Para fazer a distinção acima, há testes específicos para correlação. Vamos ver dois coeficientes de correlação específicos que sâo: __Pearson__ e __Spearmann__"
      ]
    },
    {
      "cell_type": "markdown",
      "id": "04871b18",
      "metadata": {
        "id": "04871b18"
      },
      "source": [
        "**Correlação de Pearson**\n",
        "\n",
        "A [__Correlação de Pearson__](https://pt.wikipedia.org/wiki/Coeficiente_de_correla%C3%A7%C3%A3o_de_Pearson) é expressa como  a **taxa de relação LINEAR entre duas variáveis numéricas**. Quanto mais próximo de 1 ou -1, mais **linearmente correlacionado estão as variáveis testadas**. A fórmula define-se como:\n",
        "\n",
        "\n",
        "População:\n",
        "$\\rho = \\displaystyle{\\frac{\\sigma_{XY}}{\\sigma_X \\sigma_Y }}$\n",
        "\n",
        "Amostra:\n",
        "$r = \\displaystyle{\\frac{s_{XY}}{{s_X s_Y }}}$\n",
        "\n",
        "\n",
        "Propriedade:\n",
        "\n",
        " $-1 \\leq \\rho \\leq 1$\n",
        "\n",
        " $-1 \\leq r \\leq 1$\n",
        "\n",
        "\n",
        "É comum usar as seguintes classificações ($\\rho$ para populações):\n",
        "\n",
        "1. $r=1$ indica uma correlação perfeita e positiva\n",
        "\n",
        "2. $r=-1$ indica uma correlação perfeita e negativa\n",
        "\n",
        "3. $0.7 \\leq |r| \\leq 1$ indica uma correlação forte\n",
        "\n",
        "4. $0.5 \\leq |r| \\leq 0.69$ indica uma correlação moderada\n",
        "\n",
        "5. $0 \\leq |r| \\leq 0.49$ indica uma correlação fraca\n",
        "<br>\n",
        "\n",
        "**Correlação de Spearman**\n",
        "\n",
        "[__Correlação de Spearmann__](https://pt.wikipedia.org/wiki/Coeficiente_de_correla%C3%A7%C3%A3o_de_postos_de_Spearman) e outra correlação  bem conhecida e este coeficiente indica se as amostras possuem correlação *monotônica*, isso é, **se aumentarmos ou diminuimos uma, a outra irá aumentar ou diminuir**.\n",
        "\n",
        "Fórmula: $ r = 1 - \\frac{6\\sum_{i=1}^{n}d_i^2}{n(n^2-1)} $\n",
        "\n",
        "O coeficiente varia entre -1 e 1:\n",
        "\n",
        "> Quanto mais próximo de 1 for o coeficiente, mais positivamente correlacionada as amostras, isso é, se aumentarmos uma, a outra ira aumentar (ou se diminuimos uma, a outra irá diminuir);\n",
        "\n",
        "> Quanto mais próximo de -1 for o resultado, mais negativamente correlacionada estão as variáveis, isso é, aumentando uma, a outra irá dimunuir (ou se diminuímos uma, a outra irá aumentar).\n",
        "\n",
        "> Uma correlação de 0 indica ausência de correlação.\n",
        "\n",
        "**Importante:** o coeficiente de Spearman **não** indica correlação necessariamente linear!"
      ]
    },
    {
      "cell_type": "code",
      "execution_count": null,
      "id": "1ef4afee",
      "metadata": {
        "ExecuteTime": {
          "end_time": "2021-11-30T01:30:49.032060Z",
          "start_time": "2021-11-30T01:30:49.014079Z"
        },
        "id": "1ef4afee"
      },
      "outputs": [],
      "source": [
        "# No nosso dataset:\n",
        "\n",
        " # Correlação de Pearson\n",
        "\n"
      ]
    },
    {
      "cell_type": "code",
      "execution_count": null,
      "id": "252c43e6",
      "metadata": {
        "ExecuteTime": {
          "end_time": "2021-11-30T01:30:51.429687Z",
          "start_time": "2021-11-30T01:30:51.406759Z"
        },
        "id": "252c43e6"
      },
      "outputs": [],
      "source": [
        "# Correlação de Spearman\n",
        "\n"
      ]
    },
    {
      "cell_type": "code",
      "execution_count": null,
      "id": "ab351c96",
      "metadata": {
        "ExecuteTime": {
          "end_time": "2021-11-30T01:27:11.215029Z",
          "start_time": "2021-11-30T01:27:10.802072Z"
        },
        "id": "ab351c96"
      },
      "outputs": [],
      "source": [
        "# Uma forma visual de analisar a correlação é usando um heatmap:\n"
      ]
    },
    {
      "cell_type": "code",
      "execution_count": null,
      "id": "b022173e",
      "metadata": {
        "ExecuteTime": {
          "end_time": "2021-11-30T01:27:13.915953Z",
          "start_time": "2021-11-30T01:27:13.556105Z"
        },
        "id": "b022173e"
      },
      "outputs": [],
      "source": [
        "# Heatmap Spearman:\n"
      ]
    },
    {
      "cell_type": "code",
      "execution_count": null,
      "id": "dc97471e",
      "metadata": {
        "ExecuteTime": {
          "end_time": "2021-11-30T01:27:16.551700Z",
          "start_time": "2021-11-30T01:27:16.245047Z"
        },
        "id": "dc97471e"
      },
      "outputs": [],
      "source": [
        "# Gráfico de dispersão entre as variáveis horsepower e weight:\n",
        "\n"
      ]
    },
    {
      "cell_type": "code",
      "execution_count": null,
      "id": "9dd52622",
      "metadata": {
        "ExecuteTime": {
          "end_time": "2021-11-30T01:27:18.945616Z",
          "start_time": "2021-11-30T01:27:18.812934Z"
        },
        "scrolled": true,
        "id": "9dd52622"
      },
      "outputs": [],
      "source": [
        "# Gráfico de dispersão entre as variáveis horsepower e mpg:\n",
        "\n"
      ]
    },
    {
      "cell_type": "code",
      "execution_count": null,
      "id": "92e7c9f7",
      "metadata": {
        "ExecuteTime": {
          "end_time": "2021-11-30T01:27:21.893378Z",
          "start_time": "2021-11-30T01:27:21.763744Z"
        },
        "id": "92e7c9f7"
      },
      "outputs": [],
      "source": [
        "# Gráfico de dispersão entre as variáveis acceleration e weight:\n",
        "\n"
      ]
    },
    {
      "cell_type": "markdown",
      "id": "eca221ec",
      "metadata": {
        "id": "eca221ec"
      },
      "source": [
        "**CUIDADO**\n",
        "\n",
        "![](https://miro.medium.com/max/1683/0*4XeZi0EEOD7XvFKO)\n",
        "\n",
        "Correlação não implica causalidade!!!!\n",
        "\n",
        "https://www.tylervigen.com/spurious-correlations"
      ]
    },
    {
      "cell_type": "markdown",
      "id": "ad7dbc0f",
      "metadata": {
        "id": "ad7dbc0f"
      },
      "source": [
        "## 2.4 - Tabelas de dados\n",
        "### 2.4.1 - Tabelas de frequência\n",
        "\n",
        "A distribuição de frequências é um agrupamento de dados em classes, de tal forma que contabilizamos o número de ocorrências em cada classe. O número de ocorrências de uma determinada classe recebe o nome de frequência absoluta. O objetivo é apresentar os dados de uma maneira mais concisa e que nos permita extrair informação sobre seu comportamento. A seguir, apresentamos algumas definições necessárias à construção da distribuição de frequências.\n",
        "\n",
        "**Frequência absoluta (ƒi):** É o número de observações correspondente a cada classe. A frequência absoluta é, geralmente, chamada apenas de frequência.\n",
        "\n",
        "**Frequência relativa (ƒri):** É o quociente entre a frequência absoluta da classe correspondente e a soma das frequências (total observado), isto é, $ \\displaystyle f_{ri}=\\frac{f_i}{\\sum_{j}f_j} $ onde n representa o número total de observações.\n",
        "\n",
        "**Frequência percentual (pi):** É obtida multiplicando a frequência relativa por 100%.\n",
        "\n",
        "**Frequência acumulada:** É o total acumulado (soma) de todas as classes anteriores até a classe atual. Pode ser: frequência acumulada absoluta (Fi), frequência acumulada relativa (Fri), ou frequência acumulada percentual (Pi).maneira\n",
        "\n",
        "\n"
      ]
    },
    {
      "cell_type": "code",
      "execution_count": null,
      "id": "d5a8c0c5",
      "metadata": {
        "ExecuteTime": {
          "end_time": "2021-11-30T01:28:37.540273Z",
          "start_time": "2021-11-30T01:28:37.486495Z"
        },
        "scrolled": true,
        "id": "d5a8c0c5"
      },
      "outputs": [],
      "source": [
        "# Tabela de frequência absoluta:\n",
        "\n"
      ]
    },
    {
      "cell_type": "code",
      "execution_count": null,
      "id": "10d3486e",
      "metadata": {
        "ExecuteTime": {
          "end_time": "2021-11-30T01:28:40.047411Z",
          "start_time": "2021-11-30T01:28:40.027494Z"
        },
        "id": "10d3486e"
      },
      "outputs": [],
      "source": [
        "# Frequência relativa:\n",
        "\n"
      ]
    },
    {
      "cell_type": "code",
      "execution_count": null,
      "id": "8239cfc4",
      "metadata": {
        "ExecuteTime": {
          "end_time": "2021-11-30T01:28:42.001929Z",
          "start_time": "2021-11-30T01:28:41.987972Z"
        },
        "id": "8239cfc4"
      },
      "outputs": [],
      "source": [
        "# Frequência percentual:\n",
        "\n"
      ]
    },
    {
      "cell_type": "code",
      "source": [
        "# Frequência percentual acumulada:\n",
        "\n"
      ],
      "metadata": {
        "id": "tGd97vq7WwyN"
      },
      "id": "tGd97vq7WwyN",
      "execution_count": null,
      "outputs": []
    },
    {
      "cell_type": "markdown",
      "id": "0b89659a",
      "metadata": {
        "id": "0b89659a"
      },
      "source": [
        "Quando se tem apenas dados categóricos não conseguimos diretamente pensar em visualizações e portanto é de interesse calcular"
      ]
    },
    {
      "cell_type": "code",
      "source": [
        "# Gráfico para frequência absoluta:\n",
        "\n"
      ],
      "metadata": {
        "id": "NHeK8AXekJG4"
      },
      "id": "NHeK8AXekJG4",
      "execution_count": null,
      "outputs": []
    },
    {
      "cell_type": "code",
      "source": [
        "# Gráfico para frequência relativa:\n",
        "\n"
      ],
      "metadata": {
        "id": "nBw6TVfalQmz"
      },
      "id": "nBw6TVfalQmz",
      "execution_count": null,
      "outputs": []
    },
    {
      "cell_type": "code",
      "execution_count": null,
      "id": "62993490",
      "metadata": {
        "ExecuteTime": {
          "end_time": "2021-11-30T01:28:48.900540Z",
          "start_time": "2021-11-30T01:28:48.787201Z"
        },
        "id": "62993490"
      },
      "outputs": [],
      "source": [
        "# Frequência acumulada:\n",
        "\n"
      ]
    },
    {
      "cell_type": "code",
      "execution_count": null,
      "id": "de7f21b5",
      "metadata": {
        "ExecuteTime": {
          "end_time": "2021-11-26T22:50:24.149972Z",
          "start_time": "2021-11-26T22:50:04.938Z"
        },
        "id": "de7f21b5"
      },
      "outputs": [],
      "source": [
        "# Gráfico de pizza:\n",
        "\n"
      ]
    },
    {
      "cell_type": "markdown",
      "id": "fcc3edbc",
      "metadata": {
        "id": "fcc3edbc"
      },
      "source": [
        "# \"If you torture the data long enough, it will confess.\" — Ronald H. Coase"
      ]
    }
  ],
  "metadata": {
    "kernelspec": {
      "display_name": "Python 3 (ipykernel)",
      "language": "python",
      "name": "python3"
    },
    "language_info": {
      "codemirror_mode": {
        "name": "ipython",
        "version": 3
      },
      "file_extension": ".py",
      "mimetype": "text/x-python",
      "name": "python",
      "nbconvert_exporter": "python",
      "pygments_lexer": "ipython3",
      "version": "3.9.13"
    },
    "varInspector": {
      "cols": {
        "lenName": 16,
        "lenType": 16,
        "lenVar": 40
      },
      "kernels_config": {
        "python": {
          "delete_cmd_postfix": "",
          "delete_cmd_prefix": "del ",
          "library": "var_list.py",
          "varRefreshCmd": "print(var_dic_list())"
        },
        "r": {
          "delete_cmd_postfix": ") ",
          "delete_cmd_prefix": "rm(",
          "library": "var_list.r",
          "varRefreshCmd": "cat(var_dic_list()) "
        }
      },
      "types_to_exclude": [
        "module",
        "function",
        "builtin_function_or_method",
        "instance",
        "_Feature"
      ],
      "window_display": false
    },
    "colab": {
      "provenance": []
    }
  },
  "nbformat": 4,
  "nbformat_minor": 5
}