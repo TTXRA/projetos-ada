{
  "cells": [
    {
      "cell_type": "markdown",
      "id": "4a282401-bb46-4127-88b1-7962dcc35f59",
      "metadata": {
        "id": "4a282401-bb46-4127-88b1-7962dcc35f59"
      },
      "source": [
        "<img src = \"https://www.estudopratico.com.br/wp-content/uploads/2014/06/probabilidade-calcular-e1586431045913-1200x675.jpg\" width=\"50%\">"
      ]
    },
    {
      "cell_type": "markdown",
      "id": "8153db1d-bb08-491a-9466-cb2527e4eb13",
      "metadata": {
        "id": "8153db1d-bb08-491a-9466-cb2527e4eb13"
      },
      "source": [
        "# Probabilidade\n",
        "\n",
        "\n",
        "Probabilidade é a área da matemática que estuda **eventos aleatórios**, cujos resultados são **probabilísticos** ou **estocásticos**.\n",
        "\n",
        "Existem poucos sistemas na natureza que são de fato inerentemente aleatórias e não-determinísticas. No entanto, uma descrição determinística pode ser muito complicada, de modo que **se torna conveniente** tratar o sistema como um sistema estocástico.\n",
        "\n",
        "Ex.: lançamento de moeda, lançamento de dados, etc.\n",
        "\n",
        "O objetivo da estatística é similar: analisar dados ou criar modelos que **generalizem relações** que não podem ser determinadas diretamente uma vez que não temos acesso à população. Neste sentido, há muita probabilidade envolvida em estatística, e é por isso que vamos olhar para os principais conceitos de probabilidade."
      ]
    },
    {
      "cell_type": "markdown",
      "id": "9bcb9ede-b05f-43a4-823e-33a1a868fee7",
      "metadata": {
        "id": "9bcb9ede-b05f-43a4-823e-33a1a868fee7"
      },
      "source": [
        "## Variável aleatória\n",
        "\n",
        "Uma **variável aleatória** é uma variável cujo valor depende de fatores **não-deterministícos**, isto é, **probabilísticos**.\n",
        "\n",
        "**Exemplo**: resultado do lançamento de um ou mais dados.\n",
        "\n",
        "<img src = \"https://bookdown.org/daniel_flores_agreda/Prob1-GSEM-UNIGE/img/fun/EC_Latin.png\" width = \"40%\"></img>"
      ]
    },
    {
      "cell_type": "markdown",
      "id": "ZlaSpd5GHxeP",
      "metadata": {
        "id": "ZlaSpd5GHxeP"
      },
      "source": [
        "Indique se o fenômeno é probabilístico ou determinístico:\n",
        "\n",
        "i) O lançamento de um dado\n",
        "\n",
        "- [ ] Probabilístico;\n",
        "- [ ] Determinístico;\n",
        "\n",
        "ii) A órbita de um corpo celeste ao redor do Sol\n",
        "\n",
        "- [ ] Probabilístico\n",
        "- [ ] Determinístico\n",
        "\n",
        "iii) A posição de um elétron no átomo\n",
        "\n",
        "- [ ] Probabilístico\n",
        "- [ ] Determinístico\n",
        "\n",
        "iv) Lançamento de um projétil\n",
        "\n",
        "- [ ] Probabilístico\n",
        "- [ ] Determinístico"
      ]
    },
    {
      "cell_type": "markdown",
      "id": "cd20dd66-8184-4990-95c8-9c9c19db3275",
      "metadata": {
        "id": "cd20dd66-8184-4990-95c8-9c9c19db3275"
      },
      "source": [
        "## Espaço amostral\n",
        "\n",
        "Chamamos de **espaço amostral** o conjunto de **todos os resultados possíveis de um certo fenômeno aleatório** (<font color = red> elementar e indivisível do experimento</font>), ou seja, **os valores possíveis que a variável aleatória de interesse pode assumir**. Representamos o espaço amostral pela letra grega $\\Omega$.\n",
        "\n",
        "Os subconjuntos de $\\Omega$ são denominados **eventos** e representados pelas letras latinas maiúsculas A, B, etc.\n",
        "\n",
        "**Exemplo**: o espaço amostral dos resultados do lançamento de um dado é:\n",
        "\n",
        "$$ \\Omega = \\{1, 2, 3, 4, 5, 6\\} $$\n",
        "\n",
        "Alguns eventos possíveis são:\n",
        "\n",
        "- Evento A = {3} : o resultado do lançamento do dado foi 3;\n",
        "- Evento B = {5} : o resultado do lançamento do dado foi 5.\n",
        "\n",
        "**Exemplo 2**: considere o lançamento de uma moeda:\n",
        "\n",
        "<img src=\"https://www.vertica.com/wp-content/uploads/2019/07/Coin_Flip_183981489-2160.jpg\" width=300>\n",
        "\n",
        "- Se lançarmos uma única moeda:\n",
        "    - A variável aleatória será **o resultado do lançamento da moeda**\n",
        "    - Portanto, o espaço amostral é: $$ \\Omega = \\{ K, C \\} $$\n",
        "        \n",
        "- Se retirarmos uma carta do baralho:\n",
        "    - A variável aleatória será **o resultado do valor e naipe da carta**\n",
        "    - Portanto, o espaço amostral é: $$ \\Omega = \\{ 2\\clubsuit, 2\\diamondsuit, 2\\spadesuit, 2\\heartsuit, 3\\clubsuit, 3\\diamondsuit, 3\\spadesuit, 3\\heartsuit, ... \\}$$\n",
        "   \n",
        "\n",
        "- Se lançarmos uma moeda e cair cara, lançamos um dado apenas com números pares, caso coroa outro dado apenas com números ímpares:\n",
        "    - A variável aleatória será **o resultado do par de lançamentos de moeda e dados**\n",
        "    - Portanto, o espaço amostral é:"
      ]
    },
    {
      "cell_type": "markdown",
      "id": "fa301aa1",
      "metadata": {
        "id": "fa301aa1"
      },
      "source": [
        "Moeda e dado:  \n",
        "    Cara - 2  \n",
        "    Cara - 4  \n",
        "    Cara - 6  \n",
        "    Coroa - 1  \n",
        "    Coroa - 3  \n",
        "    Coroa - 5  \n",
        "$$ \\Omega = \\{ (K, 1), (K, 3), (K, 5), (C, 2), (C, 4), (C, 6) \\} $$"
      ]
    },
    {
      "cell_type": "markdown",
      "id": "bf16fb68-16e2-4b24-968d-6a2a49e04ac4",
      "metadata": {
        "id": "bf16fb68-16e2-4b24-968d-6a2a49e04ac4"
      },
      "source": [
        "## Definição Clássica ou Frequentista de Probabilidade (Jerônimo Cardano; 1501 - 1576)\n",
        "Podemos definir a probabilidade de um evento aleatório A ocorrer como:\n",
        "\n",
        "$$P(A) = \\dfrac{\\#A}{\\#\\Omega}$$\n",
        "\n",
        "em que $\\#A$ é a cardinalidade do evento $A$, ou seja, a quantidade de vezes que ele pode ocorrer dentro do espaço amostral; ou ainda, a quantidade de \"casos favoráveis\" em relação aos casos possíveis.\n",
        "\n",
        "Dessa maneira temos que:\n",
        "- $P(\\Omega) = 1$\n",
        "- $P(\\emptyset) = 0$\n",
        "- $0 \\leq P(A) \\leq 1$\n",
        "- $P(A^c) = 1 - P(A)$ -> evento complementar"
      ]
    },
    {
      "cell_type": "code",
      "execution_count": null,
      "id": "rbXej9psP10Y",
      "metadata": {
        "id": "rbXej9psP10Y"
      },
      "outputs": [],
      "source": [
        "# Import das bibliotecas\n",
        "\n",
        "import pandas as pd\n",
        "import matplotlib.pyplot as plt\n",
        "import seaborn as sns\n",
        "import numpy as np\n",
        "from scipy import stats"
      ]
    },
    {
      "cell_type": "markdown",
      "id": "pa9cW3gmQvzF",
      "metadata": {
        "id": "pa9cW3gmQvzF"
      },
      "source": [
        "**Exemplo 1**\n",
        "\n",
        "Caso tenhamos um dado e façamos um único experimento (seu lançamento), qual a probabilidade de obtermos:\n",
        "\n",
        "a) Face com número 4.\n",
        "\n",
        "b) Faces com número par.\n",
        "\n",
        "c) Faces com número ímpar.\n",
        "\n",
        "d) Qualquer face exceto a 4."
      ]
    },
    {
      "cell_type": "code",
      "execution_count": null,
      "id": "0af97982",
      "metadata": {
        "ExecuteTime": {
          "end_time": "2021-11-29T20:18:53.161069Z",
          "start_time": "2021-11-29T20:18:53.146071Z"
        },
        "colab": {
          "base_uri": "https://localhost:8080/"
        },
        "id": "0af97982",
        "outputId": "8b34563c-83f5-4cb4-e7eb-bd05fe640fcf"
      },
      "outputs": [
        {
          "name": "stdout",
          "output_type": "stream",
          "text": [
            "P(A) = 0.16666666666666666\n"
          ]
        }
      ],
      "source": [
        "# Item a)\n",
        "\n",
        "espaco_amostral = [1, 2, 3, 4, 5, 6]\n",
        "evento_a = [4]\n",
        "\n",
        "probabilidade_evento_a = len(evento_a) / len(espaco_amostral)\n",
        "print(f'P(A) = {probabilidade_evento_a}')"
      ]
    },
    {
      "cell_type": "code",
      "execution_count": null,
      "id": "7DPQfnvjXAu0",
      "metadata": {
        "colab": {
          "base_uri": "https://localhost:8080/"
        },
        "id": "7DPQfnvjXAu0",
        "outputId": "df71df63-9afd-4b36-82ef-1f8a93e901eb"
      },
      "outputs": [
        {
          "name": "stdout",
          "output_type": "stream",
          "text": [
            "P(B) = 0.5\n"
          ]
        }
      ],
      "source": [
        "# Item b)\n",
        "\n",
        "evento_b = [2, 4, 6]\n",
        "\n",
        "probabilidade_evento_b = len(evento_b) / len(espaco_amostral)\n",
        "print(f'P(B) = {probabilidade_evento_b}')"
      ]
    },
    {
      "cell_type": "code",
      "execution_count": null,
      "id": "wsdLHsVSYb58",
      "metadata": {
        "colab": {
          "base_uri": "https://localhost:8080/"
        },
        "id": "wsdLHsVSYb58",
        "outputId": "d4b8d8eb-3c0c-40f0-dacb-c565b506bb40"
      },
      "outputs": [
        {
          "name": "stdout",
          "output_type": "stream",
          "text": [
            "P(C) = 0.5\n"
          ]
        }
      ],
      "source": [
        "# Item c)\n",
        "\n",
        "evento_c = [1, 3, 5]\n",
        "\n",
        "probabilidade_evento_c = len(evento_c) / len(espaco_amostral)\n",
        "print(f'P(C) = {probabilidade_evento_c}')"
      ]
    },
    {
      "cell_type": "code",
      "execution_count": null,
      "id": "VVfEnSyGYx5j",
      "metadata": {
        "colab": {
          "base_uri": "https://localhost:8080/"
        },
        "id": "VVfEnSyGYx5j",
        "outputId": "1922df31-d0eb-4cae-eb65-babeb3eee653"
      },
      "outputs": [
        {
          "name": "stdout",
          "output_type": "stream",
          "text": [
            "P(D) = P(A') = 0.8333333333333334\n"
          ]
        }
      ],
      "source": [
        "# Item d)\n",
        "\n",
        "evento_d = [1, 2, 3, 5, 6]\n",
        "\n",
        "# probabilidade_evento_d = len(evento_d) / len(espaco_amostral)\n",
        "\n",
        "probabilidade_complementar_a = 1 - probabilidade_evento_a\n",
        "print(f\"P(D) = P(A') = {1 - probabilidade_evento_a}\")"
      ]
    },
    {
      "cell_type": "markdown",
      "id": "46c7eb31-1803-4479-b7be-ca3a62f2b28e",
      "metadata": {
        "id": "46c7eb31-1803-4479-b7be-ca3a62f2b28e"
      },
      "source": [
        "## Propriedades importantes\n",
        "\n",
        "### Diagrama de Venn e Espaço de Probabilidade\n",
        "\n",
        "<img src = \"https://d3rw207pwvlq3a.cloudfront.net/attachments/000/123/316/original/image.png?1596464245\" width = \"50%\"></img>\n",
        "\n",
        "<img src = \"https://efofexnews.files.wordpress.com/2016/02/gfbdbfba.png\" width = \"25%\"></img>"
      ]
    },
    {
      "cell_type": "markdown",
      "id": "GkQASSH8em1E",
      "metadata": {
        "id": "GkQASSH8em1E"
      },
      "source": [
        "**Exemplo 2**\n",
        "\n",
        "Em uma entrevista com profissionais de dados que foi feita com 180 pessoas, constatou-se que\n",
        "\n",
        "> - 160 trabalham com análise de dados;\n",
        ">\n",
        "> - 100 trabalham com ciência de dados;\n",
        ">\n",
        "> - 80 trabalham nas duas funções.\n",
        "\n",
        "Se uma dessas pessoas for selecionada ao acaso, qual a probabilidade de:\n",
        "\n",
        "a) A pessoa trabalhar com análise de dados?\n",
        "\n",
        "b) A pessoa não trabalhar com ciência de dados?\n",
        "\n",
        "c) A pessoa trabalhar com análise e ciência de dados?\n",
        "\n"
      ]
    },
    {
      "cell_type": "markdown",
      "id": "1KRIkvBWnrNs",
      "metadata": {
        "id": "1KRIkvBWnrNs"
      },
      "source": [
        "![image.png](data:image/png;base64,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)"
      ]
    },
    {
      "cell_type": "code",
      "execution_count": null,
      "id": "AJvK6dup0RNm",
      "metadata": {
        "colab": {
          "base_uri": "https://localhost:8080/"
        },
        "id": "AJvK6dup0RNm",
        "outputId": "eaf97d76-13ce-4469-ee00-e5d32ea5789a"
      },
      "outputs": [
        {
          "name": "stdout",
          "output_type": "stream",
          "text": [
            "Probabilidade de trabalhar com análise de dados = 0.8888888888888888\n"
          ]
        }
      ],
      "source": [
        "# Item a)\n",
        "\n",
        "num_trabalha_analise = 160\n",
        "num_espaco_amostral = 180\n",
        "\n",
        "probabilidade_analise_dados = num_trabalha_analise / num_espaco_amostral\n",
        "print(f'Probabilidade de trabalhar com análise de dados = {probabilidade_analise_dados}')"
      ]
    },
    {
      "cell_type": "code",
      "execution_count": null,
      "id": "vyHJUZIMmYQh",
      "metadata": {
        "colab": {
          "base_uri": "https://localhost:8080/"
        },
        "id": "vyHJUZIMmYQh",
        "outputId": "d01e4ba0-e974-4a71-e576-1f822e0f36ee"
      },
      "outputs": [
        {
          "name": "stdout",
          "output_type": "stream",
          "text": [
            "Probabilidade de não trabalhar com ciências de dados = 0.4444444444444444\n"
          ]
        }
      ],
      "source": [
        "# Item b)\n",
        "\n",
        "num_nao_cientista = 80\n",
        "probabilidade_nao_cientista = num_nao_cientista / num_espaco_amostral\n",
        "print(f'Probabilidade de não trabalhar com ciências de dados = {probabilidade_nao_cientista}')"
      ]
    },
    {
      "cell_type": "code",
      "execution_count": null,
      "id": "UzcNRwjsmq4R",
      "metadata": {
        "colab": {
          "base_uri": "https://localhost:8080/"
        },
        "id": "UzcNRwjsmq4R",
        "outputId": "856e3aeb-f524-42fe-f2f5-f1f1f70dda59"
      },
      "outputs": [
        {
          "name": "stdout",
          "output_type": "stream",
          "text": [
            "Probabilidade de trabalhar como cientista e analista = 0.4444444444444444\n"
          ]
        }
      ],
      "source": [
        "# item c)\n",
        "\n",
        "interseccao_analista_cientista = 80\n",
        "probabilidade_cientista_analista = interseccao_analista_cientista / num_espaco_amostral\n",
        "print(f'Probabilidade de trabalhar como cientista e analista = {probabilidade_cientista_analista}')"
      ]
    },
    {
      "cell_type": "markdown",
      "id": "80df0ee5-b721-4fb5-a559-e6572d19e210",
      "metadata": {
        "id": "80df0ee5-b721-4fb5-a559-e6572d19e210"
      },
      "source": [
        "\n",
        "### Eventos Disjuntos ou Mutuamente Excludentes\n",
        "Dois eventos são disjuntos se $A \\cap B = \\emptyset$ e portanto $P(A \\cap B) = 0$\n",
        "\n",
        "**Ex.:**\n",
        "\n",
        "- Probabilidade de cair cara e cora simultaneamente (lançamento de uma moeda)\n",
        "- Probabilidade de um cliente contratar um produto e dar Churn no mesmo momento\n",
        "- Probabilidade de um jogador de fotebol jogar para dois times ao mesmo tempo\n"
      ]
    },
    {
      "cell_type": "markdown",
      "id": "cd8ee8a8-2097-49cb-8908-37f02d9c6313",
      "metadata": {
        "id": "cd8ee8a8-2097-49cb-8908-37f02d9c6313"
      },
      "source": [
        "\n",
        "### União de eventos\n",
        "Dados dois elementos $A$ e $B$, o cálculo da união desses eventos é determinada da seguinte forma:\n",
        "    \n",
        "$$ P(A \\cup B) = P(A) + P(B) - P(A \\cap B) $$\n",
        "\n",
        "$$ P(A \\cup B \\cup C) = P(A) + P(B) + P(C) - P(A \\cap B) - P(A \\cap C) - P(B \\cap C) + P(A \\cap B \\cap C) $$\n",
        "Exemplo: Qual é a probabilidade de que em um lançamento de um dado saia um número par ou maior do que três?"
      ]
    },
    {
      "cell_type": "markdown",
      "id": "537d3aff",
      "metadata": {
        "id": "537d3aff"
      },
      "source": [
        "espaço amostral do dado = {1,2,3,4,5,6}\n",
        "\n",
        "- Espaço Amostral A - sair par  \n",
        "S(A) = {2, 4, 6}  \n",
        "P(A) = 3/6 = 1/2\n",
        "\n",
        "\n",
        "- Espaço amostral B -maior que três  \n",
        "S(B) = {4, 5, 6}  \n",
        "P(B) = 3/6 = 1/2\n",
        "\n",
        "\n",
        "- Espaço amostral A ∩ B  \n",
        "S(A ∩ B) = {4, 6}  \n",
        "P(A ∩ B) = 2/6 = 1/3\n",
        "\n",
        "\n",
        "- Probabilidade da união de A e B  \n",
        "P(A ∪ B) = P(A) + P(B) - P(A ∩ B) = 1/2 + 1/2 - 1/3 = 2/3\n",
        "\n",
        "\n",
        "_conferindo_\n",
        "- Espaço amostral A ∪ B  \n",
        "S(A ∪ B) = {2, 4, 5, 6}  \n",
        "P(A ∪ B) = 4/6 = 2/3\n"
      ]
    },
    {
      "cell_type": "markdown",
      "id": "3mqXJyQ2ABPs",
      "metadata": {
        "id": "3mqXJyQ2ABPs"
      },
      "source": [
        "**Exemplo 3**\n",
        "\n",
        "Considere dois eventos A e B, mutuamente excludentes, com $P(A) = 0,3$ e $P(B) = 0,5$. Calcule:\n",
        "\n",
        "a) $P(A \\cap B)$\n",
        "\n",
        "b) $P(A \\cup B)$\n",
        "\n",
        "c) $P(A^c)$\n",
        "\n",
        "d) $P((A \\cup B)^c)$"
      ]
    },
    {
      "cell_type": "code",
      "execution_count": null,
      "id": "Zw5bKJpfAD-_",
      "metadata": {
        "id": "Zw5bKJpfAD-_"
      },
      "outputs": [],
      "source": [
        "# Item a)\n",
        "\n",
        "p_A = 0.3\n",
        "p_B = 0.5\n",
        "\n",
        "# Se são mutuamente excludentes, portanto, a intersecção entre os dois eventos é ZERO."
      ]
    },
    {
      "cell_type": "markdown",
      "id": "r0O647TRFgHp",
      "metadata": {
        "id": "r0O647TRFgHp"
      },
      "source": [
        "Sabe se que a união de dois eventos é expresso por\n",
        "\n",
        "$$P(A \\cup B) = P(A) + P(B) - P(A \\cap B)$$\n",
        "\n",
        "No entanto, se são eventos mutuamente excludentes $P(A \\cap B) = 0$\n",
        "\n",
        "$$P(A \\cup B) = P(A) + P(B)$$"
      ]
    },
    {
      "cell_type": "code",
      "execution_count": null,
      "id": "1K4mGNG7FAHC",
      "metadata": {
        "colab": {
          "base_uri": "https://localhost:8080/"
        },
        "id": "1K4mGNG7FAHC",
        "outputId": "f25e83f1-7837-4a5a-8482-4d583006dc67"
      },
      "outputs": [
        {
          "name": "stdout",
          "output_type": "stream",
          "text": [
            "P(A U B) = 0.8\n"
          ]
        }
      ],
      "source": [
        "# Item b)\n",
        "\n",
        "p_A_U_B = p_A + p_B\n",
        "print(f'P(A U B) = {p_A_U_B}')"
      ]
    },
    {
      "cell_type": "code",
      "execution_count": null,
      "id": "8nWboqP_Gb2C",
      "metadata": {
        "colab": {
          "base_uri": "https://localhost:8080/"
        },
        "id": "8nWboqP_Gb2C",
        "outputId": "38adcd47-ef6a-4f65-8864-8d68708cf5bf"
      },
      "outputs": [
        {
          "name": "stdout",
          "output_type": "stream",
          "text": [
            "P(A') = 0.7\n"
          ]
        }
      ],
      "source": [
        "# Item c)\n",
        "\n",
        "print(f\"P(A') = {1 - p_A}\")"
      ]
    },
    {
      "cell_type": "code",
      "execution_count": null,
      "id": "-9O6R27VGn09",
      "metadata": {
        "colab": {
          "base_uri": "https://localhost:8080/"
        },
        "id": "-9O6R27VGn09",
        "outputId": "4a6cdcf5-3b5b-48ed-87e8-1c79b79fd8b8"
      },
      "outputs": [
        {
          "name": "stdout",
          "output_type": "stream",
          "text": [
            "P((A U B)') = 0.2\n"
          ]
        }
      ],
      "source": [
        "# Item d)\n",
        "\n",
        "print(f\"P((A U B)') = {round(1 - p_A_U_B, 2)}\")"
      ]
    },
    {
      "cell_type": "markdown",
      "id": "03602faa-2ac9-4b7b-a953-94faf3eae949",
      "metadata": {
        "id": "03602faa-2ac9-4b7b-a953-94faf3eae949"
      },
      "source": [
        "\n",
        "**Exemplo 4**\n",
        "\n",
        "**Ex. Netflix:**\n",
        "A Netflix vai recomendar dois filmes pra você e ela sabe que:\n",
        "\n",
        "- A probabilidade de você gostar do primeiro filme é de 0.5\n",
        "- A probabilidade de você gostar do segundo filme é de 0.4\n",
        "- A probabilidade de você gostar de ambos os filmes é de 0.3\n",
        "\n",
        "Agora, qual é a probabilidade de você gostar de ao menos um dos dois filmes?\n"
      ]
    },
    {
      "cell_type": "markdown",
      "id": "03Gsu4BBrVmJ",
      "metadata": {
        "id": "03Gsu4BBrVmJ"
      },
      "source": [
        "Sendo os eventos\n",
        "\n",
        "> $A:$ gostar do 1º filme;\n",
        ">\n",
        "> $B:$ gostar do 2º filme.\n",
        "\n",
        "Temos que\n",
        "\n",
        "> $P(A):$ probabilidade de gostar do 1º filme;\n",
        ">\n",
        "> $P(B):$ probabilidade de gostar do 2º filme;\n",
        ">\n",
        "> $P(A \\cap B):$ probabilidade de gostar de ambos.\n",
        "\n",
        "Portanto, a probabilidade de gostar de ao menos um filme é dada por\n",
        "\n",
        "$$P(A \\cup B) =  P(A) + P(B) - P(A \\cap B)$$"
      ]
    },
    {
      "cell_type": "code",
      "execution_count": null,
      "id": "IbqjwIJnsnkf",
      "metadata": {
        "colab": {
          "base_uri": "https://localhost:8080/"
        },
        "id": "IbqjwIJnsnkf",
        "outputId": "37babea3-75ca-404c-e278-33e043edaf10"
      },
      "outputs": [
        {
          "name": "stdout",
          "output_type": "stream",
          "text": [
            "P(A U B) = 0.6\n"
          ]
        }
      ],
      "source": [
        "p_A = 0.5\n",
        "p_B = 0.4\n",
        "p_int_A_B = 0.3\n",
        "\n",
        "p_A_U_B = p_A + p_B - p_int_A_B\n",
        "print(f'P(A U B) = {p_A_U_B:.1f}')"
      ]
    },
    {
      "cell_type": "markdown",
      "id": "c09f9931-83ca-4a42-847c-ac447eac7ee9",
      "metadata": {
        "id": "c09f9931-83ca-4a42-847c-ac447eac7ee9"
      },
      "source": [
        "\n",
        "### Eventos Independentes\n",
        "\n",
        "Dois eventos são independentes se e somente se $P(A \\cap B) = P(A)*P(B)$\n",
        "\n",
        "\n",
        "Exemplo: Foi lançado um dado e uma moeda, qual é a probabilidade de ocorrer um número ímpar no dado e sair cara na moeda?"
      ]
    },
    {
      "cell_type": "markdown",
      "id": "81e43c19",
      "metadata": {
        "id": "81e43c19"
      },
      "source": [
        "espaço amostral do dado = {1, 2, 3, 4, 5, 6}  \n",
        "espaço amostral da moeda = {cara, coroa}\n",
        "\n",
        "- evento A - dado - número ímpar\n",
        "S(A) = {1, 3, 5}  \n",
        "P(A) = 3/6 = 1/2\n",
        "\n",
        "- evento B - moeda - cara  \n",
        "S(B) = {cara}  \n",
        "P(B) = 1/2\n",
        "\n",
        "- Probabilidade de A ∩ B  \n",
        "P(A ∩ B) = P(A)*P(B) = 1/2 * 1/2 = 1/4\n",
        "\n",
        "- Espaço amostral dado e moeda\n",
        "S total = {(1, cara), (2, cara), (3,cara), (4,cara), (5,cara), (6,cara), (1, coroa), (2, coroa), (3,coroa), (4, coroa), (5,coroa), (6,coroa)}\n",
        "\n",
        "S(A ∩ B) = {(1, cara), (3,cara), (5,cara)}  \n",
        "P(A ∩ B) = 3/12 = 1/4"
      ]
    },
    {
      "cell_type": "markdown",
      "id": "38757403-4e61-4c1a-bf6d-20eefc2a346f",
      "metadata": {
        "id": "38757403-4e61-4c1a-bf6d-20eefc2a346f"
      },
      "source": [
        "## Probabilidade Condicional\n",
        "\n",
        "<img src = \"https://bookdown.org/daniel_flores_agreda/Prob1-GSEM-UNIGE/img/fun/probconditionnelle2.png\" width = \"40%\"></img>\n",
        "\n",
        "Probabilidade condicional é um dos conceitos mais importantes da teoria de probabilidades, pois frequentemente se quer calcular seu valor quando se tem alguma informação parcial a respeito do resultado de um experimento aleatório.\n",
        "\n",
        "Além disso, mesmo quando não se tem essa informação parcial, as probabilidades condicionais muitas vezes são utilizadas para computar mais facilmente valores de probabilidades que se tem interesse.\n",
        "\n",
        "Mais importante do que isso o conceito por trás de probabilidades condicionais é de que nós conseguimos atualizar a nossa medida de incerteza a partir do momento que conhecemos uma informação nova.\n",
        "\n",
        "**Ex.:** Qual a probabilidade de ao se jogar dois dados simultaneamente, que a soma deles seja 5? E se jogamos o segundo só depois de termos o resultado do primeiro? Muda alguma coisa?\n",
        "\n",
        "Seja\n",
        "\n",
        "A: O valor do lançamento do primeiro dado (não viesado)\n",
        "\n",
        "B: O valor do lançamento do segundo dado (não viesado)\n",
        "\n",
        "Logo o nosso espaço amostral S é dado pela tabela abaixo:\n",
        "\n",
        "<img src = \"https://bookdown.org/daniel_flores_agreda/Prob1-GSEM-UNIGE/img/03_axioms/c2.png\" width = \"50%\"></img>\n",
        "\n",
        "$$P(A + B = 5) = \\dfrac{\\#\\text{Casos favoráveis}}{\\#\\text{Casos possíveis}} = \\dfrac{4}{36} = \\dfrac{1}{9}$$\n",
        "\n",
        "Agora suponha que jogamos um dado de cada vez e que no primeiro lançamento caiu 2. Então temos um novo espaço amostral reduzido.\n",
        "\n",
        "<img src = \"https://bookdown.org/daniel_flores_agreda/Prob1-GSEM-UNIGE/img/03_axioms/c4.png\" width = \"50%\"></img>\n",
        "\n",
        "$$P(A + B = 5| A = 2) = \\dfrac{\\#\\text{Casos favoráveis}}{\\#\\text{Casos possíveis}} = \\dfrac{1}{6}$$"
      ]
    },
    {
      "cell_type": "markdown",
      "id": "635a31f3",
      "metadata": {
        "id": "635a31f3"
      },
      "source": [
        "### De maneira geral:\n",
        "\n",
        "$$ P(A/B) = \\frac{P(A \\cap B)}{P(B)}$$"
      ]
    },
    {
      "cell_type": "markdown",
      "id": "3f294429",
      "metadata": {
        "id": "3f294429"
      },
      "source": [
        "![image.png](data:image/png;base64,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)"
      ]
    },
    {
      "cell_type": "markdown",
      "id": "0169fe41",
      "metadata": {
        "id": "0169fe41"
      },
      "source": [
        "**Exemplo 5**\n",
        "\n",
        "Considere os seguintes casos:\n",
        "\n",
        "> - A probabilidade de que um voo parta no horário é\n",
        "de 0,89.\n",
        ">\n",
        "> - A probabilidade de que um voo chegue na hora certa\n",
        "é de 0,87.\n",
        ">\n",
        "> - A probabilidade de que um voo parta e chegue na\n",
        "hora é de 0,83.\n",
        ">\n",
        "a) Encontre a probabilidade de que um voo tenha partido\n",
        "no horário, dado que ele chegou na hora certa.\n",
        "\n",
        "b) Encontre a probabilidade de que um voo chegue na\n",
        "hora, dado que ele partiu no horário correto."
      ]
    },
    {
      "cell_type": "markdown",
      "id": "GcDN6NuyIKV0",
      "metadata": {
        "id": "GcDN6NuyIKV0"
      },
      "source": [
        "Temos que\n",
        "\n",
        "> $A:$ voo partir no horário certo;\n",
        ">\n",
        "> $B:$ voo chegar no horário certo.\n",
        "\n",
        "Temos também\n",
        "\n",
        "> $P(A) = 0,89$\n",
        ">\n",
        "> $P(B) = 0,87$\n",
        ">\n",
        "> $P(A \\cap B) = 0,83$"
      ]
    },
    {
      "cell_type": "markdown",
      "id": "GWAG0zSoIjhE",
      "metadata": {
        "id": "GWAG0zSoIjhE"
      },
      "source": [
        "No item a) busca-se\n",
        "\n",
        "$$P(A|B) = \\frac{P(A \\cap U)}{P(B)}$$"
      ]
    },
    {
      "cell_type": "code",
      "execution_count": null,
      "id": "s6HpMSp9JLlS",
      "metadata": {
        "colab": {
          "base_uri": "https://localhost:8080/"
        },
        "id": "s6HpMSp9JLlS",
        "outputId": "85d3be2d-8f29-4e28-9db8-f5320bdca5a3"
      },
      "outputs": [
        {
          "name": "stdout",
          "output_type": "stream",
          "text": [
            "P(A|B) = 0.95\n"
          ]
        }
      ],
      "source": [
        "p_A_dado_B = 0.83 /0.87\n",
        "print(f'P(A|B) = {round(p_A_dado_B, 2)}')"
      ]
    },
    {
      "cell_type": "markdown",
      "id": "UKim0RigJ0M9",
      "metadata": {
        "id": "UKim0RigJ0M9"
      },
      "source": [
        "No item b) busca-se\n",
        "\n",
        "$$P(B|A) = \\frac{P(A \\cap U)}{P(A)}$$"
      ]
    },
    {
      "cell_type": "code",
      "execution_count": null,
      "id": "sRcwxcVoQfgs",
      "metadata": {
        "colab": {
          "base_uri": "https://localhost:8080/"
        },
        "id": "sRcwxcVoQfgs",
        "outputId": "2c0845c1-7d10-43e3-986c-1ddc7e65bb4d"
      },
      "outputs": [
        {
          "name": "stdout",
          "output_type": "stream",
          "text": [
            "P(B|A) = 0.93\n"
          ]
        }
      ],
      "source": [
        "p_B_dado_A = 0.83/0.89\n",
        "print(f'P(B|A) = {round(p_B_dado_A, 2)}')"
      ]
    },
    {
      "cell_type": "markdown",
      "id": "gBnhLBUuRKUs",
      "metadata": {
        "id": "gBnhLBUuRKUs"
      },
      "source": [
        "**Exemplo 6**\n",
        "\n",
        "Um instrutor da Ada constrói a seguinte tabela com características dos seus alunos:\n",
        "\n",
        "![image.png](data:image/png;base64,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)\n",
        "\n",
        "\n"
      ]
    },
    {
      "cell_type": "markdown",
      "id": "ME32iBzNR9Zq",
      "metadata": {
        "id": "ME32iBzNR9Zq"
      },
      "source": [
        "Se um estudante for sorteado ao acaso, qual é a probabilidade de ele ser um homem sabendo que esse estudante não usa óculos?\n",
        "\n",
        "Temos os eventos:\n",
        "\n",
        "> $A:$ ser homem;\n",
        ">\n",
        "> $B:$ não usar óculo.\n",
        "\n",
        "Portanto, desejamos calcular\n",
        "\n",
        "$$P(A|B) = \\frac{P(A \\cap B)}{P(B)}$$\n",
        "\n",
        "Podemos escrever de outra forma\n",
        "\n",
        "$$P(A|B) = \\frac{n(A \\cap B) / n(Ω)}{n(B)/n(Ω)}$$\n",
        "\n",
        "Portanto,\n",
        "\n",
        "$$P(A|B) = \\frac{n(A \\cap B)}{n(B)}$$"
      ]
    },
    {
      "cell_type": "code",
      "execution_count": null,
      "id": "g6ugwa1CfZbb",
      "metadata": {
        "colab": {
          "base_uri": "https://localhost:8080/"
        },
        "id": "g6ugwa1CfZbb",
        "outputId": "ad0436a0-0bbc-4564-dc55-b81c22e9ff88"
      },
      "outputs": [
        {
          "name": "stdout",
          "output_type": "stream",
          "text": [
            "P(A|B) = 0.4\n"
          ]
        }
      ],
      "source": [
        "elementos_interseccao = 10\n",
        "elementos_em_B = 25\n",
        "\n",
        "print(f'P(A|B) = {elementos_interseccao / elementos_em_B}')"
      ]
    },
    {
      "cell_type": "markdown",
      "id": "bce26ae2-ecce-4ad4-83fe-a82afbce0c4f",
      "metadata": {
        "id": "bce26ae2-ecce-4ad4-83fe-a82afbce0c4f"
      },
      "source": [
        "## Teorema de Bayes\n",
        "\n",
        "O **Teorema de Bayes** é um conceito importantíssimo da probabilidade e uma das ferramentas mais importantes de serem aprendidas para um Cientista de Dados, pois é a base de uma área com muitas aplicações práticas chamada [inferência bayesiana](https://en.wikipedia.org/wiki/Bayesian_inference).\n",
        "\n",
        "O Teorema de Bayes é uma forma **calcular probabilidades condicionais de forma reversa**.\n",
        "\n",
        "Vamos considerar o clássico exemplo para explicar o teorema.\n",
        "\n",
        "Temos uma determinada doença C, e um teste T utilizado para detectar esta doença.\n",
        "\n",
        "O teste não é 100% confiável, indicando pessoas que **não têm a doença como doentes (falsos positivos)** e **não detectando a doença em pessoas que a possuem (falsos negativos)**\n",
        "\n",
        "> Consideremos que 1% das pessoas possui a doença: $P(C) = 0.01$\n",
        "\n",
        "> Logo, 99% das pessoas não a possuem: $P(¬C) = 0.99$\n",
        "\n",
        "O teste detecta a doença em pessoas efetivamente doentes 90% das vezes e, consequentemente, não detecta a doença em pessoas doentes em 10% dos casos.\n",
        "\n",
        "Em pessoas não doentes, o teste detecta a doença (erradamente) em 5% dos casos e não detecta em 95% dos casos. Podemos resumir desta forma:\n",
        "\n",
        "|                | Pessoa Doente | Pessoa Não Doente |\n",
        "|----------------|---------------|-------------------|\n",
        "| Teste positivo | 90 %          | 5 %               |\n",
        "| Teste Negativo | 10 %          | 95 %              |\n",
        "\n",
        "A tabela acima é chamada de **matriz de confusão**, indicando fora da diagonal os caos confusos (errados), e na diagonal os casos corretos\n",
        "\n",
        "<img src=\"https://miro.medium.com/max/2102/1*fxiTNIgOyvAombPJx5KGeA.png\" width=300>\n",
        "\n",
        "Agora, a chance de você **ter a doença e o teste detectá-la (verdadeiro positivo)** é igual **a chance de você ter a doença multiplicado pela chance do teste ter dado positivo corretamente**;\n",
        "\n",
        "Analogamente, a chance de você **não ter a doença e o teste detecta-la mesmo assim (falso positivo)** é igual **a chance de você não ter a doença multiplicado pela chance do teste ter dado positivo incorretamente**;\n",
        "\n",
        "E assim por diante, para todos os resultados. Atualizamos então a tabela, que fica assim:\n",
        "\n",
        "|                | Pessoa Doente                            | Pessoa Não Doente                               | Soma\n",
        "|----------------|------------------------------------------|-------------------------------------------------|-------|\n",
        "| **Teste positivo** | Prob Doente e teste pos: 1% × 90% = 0,9% | Prob Não Doente e teste pos: 99% × 5% = 4,95%   | 5,85%\n",
        "| **Teste Negativo** | Prob Doente e teste neg: 1% × 10% = 0,1% | Prob Não Doente e teste neg: 99% × 95% = 94,05% | 94,15%\n",
        "| **Soma** | 1% | 99% | 100%\n",
        "\n",
        "Estas então são nossas probabilidades para cada evento. Note que, se somadas, o resultado é 1, ou 100%.\n",
        "\n",
        "Agora, vamos supor que você fez o teste e o **resultado deu positivo**.\n",
        "\n",
        "Como devemos interpretar este resultado? Qual a chance de você de fato ter a doença?\n",
        "\n",
        "Considerando o cálculo básico de probabilidade, temos que a chance de ter a doença é igual à **chance do evento desejado dividido por todas as possibilidades**.\n",
        "\n",
        "O evento desejado é um positivo verdadeiro, ou seja, **teste positivo e a pessoa com doença**. Para este caso, a probabilidade é de 0,9% (olhe na tabela!)\n",
        "\n",
        "O **total de possibilidades com relação ao teste positivo** seria a **soma da probabilidade de “doente e teste pos”** (verdadeiro positivo) com **“não doente e teste pos” (falso positivo)**, que resultará em 0,9% + 4,95%, igual a 5,85%.\n",
        "\n",
        "Fazendo toda a conta, nossa chance de ter a doença se temos um teste positivo é de **0,9%/5,85% = 0.1538**, ou **15,38%**.\n",
        "\n",
        "É uma chance bem mais baixa do que imaginamos apenas ao olhar para o problema e para a suposta precisão do teste!\n",
        "\n",
        "#### Em equações, temos:\n",
        "\n",
        "* P(C|+) = Probabilidade de ter a doença dado um teste positivo (este é a probabilidade que desejamos saber)\n",
        "\n",
        "* P(C) = Probabilidade da pessoa ter a doença = 1%\n",
        "\n",
        "* P(+|C) = Probabilidade de um teste positivo se a pessoa tem a doença = 0,9%\n",
        "\n",
        "* P(+|¬C) = Probabilidade de um teste positivo se a pessoa não tem a doença = 4,95%\n",
        "\n",
        "    **O Teorema de bayes diz que :**\n",
        "    \n",
        "    \n",
        "$$ P(C|+) = \\frac{P(+|C) \\ P(C)}{P(+|C) \\ P(C)  + P(+|¬ C) \\ P(¬ C)}    $$"
      ]
    },
    {
      "cell_type": "markdown",
      "id": "6f05d227",
      "metadata": {
        "id": "6f05d227"
      },
      "source": [
        "![image-2.png](attachment:image-2.png)"
      ]
    },
    {
      "cell_type": "markdown",
      "id": "01e2556f",
      "metadata": {
        "ExecuteTime": {
          "end_time": "2021-11-29T21:42:41.572126Z",
          "start_time": "2021-11-29T21:42:41.557196Z"
        },
        "id": "01e2556f"
      },
      "source": [
        "**De maneira mais geral, o Teorema de Bayes pode ser dado por :**\n",
        "    \n",
        "    \n",
        "$$ P(A_j|B) = \\frac{P(B|A_j) \\ P(A_j)}{\\sum_{i=1}^{n} P(B|A_i) \\ P(A_i)}    $$"
      ]
    },
    {
      "cell_type": "markdown",
      "id": "df3090d0",
      "metadata": {
        "id": "df3090d0"
      },
      "source": [
        "**Exemplo 7**\n",
        "    \n",
        "Um certo vírus infecta uma em\n",
        "cada 200 pessoas. Um teste usado para detectar o vírus\n",
        "em uma pessoa dá positivo 80% das vezes quando a pessoa\n",
        "tem o vírus e 5% das vezes quando a pessoa não\n",
        "tem o vírus. (Este resultado de 5% é chamado de falso\n",
        "positivo.) Seja A o evento “a pessoa está infectada” e B\n",
        "o evento “o teste dá positivo”.\n",
        "\n",
        "(a) Usando o teorema de Bayes, se o teste dá positivo,\n",
        "determine a probabilidade de a pessoa estar\n",
        "infectada.\n",
        "\n",
        "(b) Usando o teorema de Bayes, se o teste dá negativo,\n",
        "determine a probabilidade de a pessoa não estar\n",
        "infectada."
      ]
    },
    {
      "cell_type": "markdown",
      "id": "_OAgXLqslODk",
      "metadata": {
        "id": "_OAgXLqslODk"
      },
      "source": [
        "As probabilidades são:\n",
        "\n",
        "> - De ter o vírus: $P(V) = \\frac{1}{200} = 0,005$\n",
        ">\n",
        "> - De não ter o vírus: $P(¬ V)= 0,995$\n",
        ">\n",
        "> - Teste positivo dado que tem o vírus: $P(+|V) = 0,8$\n",
        ">\n",
        "> - Teste positivo dado que não tem o vírus: $P(+|¬ V) = 0,05$\n",
        "\n",
        "Para resolver o item a) temos que\n",
        "\n",
        "$$P(V|+) = \\frac{P(+|V) P(V)}{P(+|V) P(V) + P(+|¬ V) P(¬ V)}$$"
      ]
    },
    {
      "cell_type": "code",
      "execution_count": null,
      "id": "G3TLWthaEG3P",
      "metadata": {
        "colab": {
          "base_uri": "https://localhost:8080/"
        },
        "id": "G3TLWthaEG3P",
        "outputId": "7d13a8de-37a9-494b-ba51-061a78088ff6"
      },
      "outputs": [
        {
          "data": {
            "text/plain": [
              "0.07441860465116279"
            ]
          },
          "execution_count": 19,
          "metadata": {},
          "output_type": "execute_result"
        }
      ],
      "source": [
        "p_virus_dado_positivo = (0.8 * 0.005) / ((0.8 * 0.005) + (0.05 * 0.995))\n",
        "p_virus_dado_positivo"
      ]
    },
    {
      "cell_type": "markdown",
      "id": "UToH69H6EqFg",
      "metadata": {
        "id": "UToH69H6EqFg"
      },
      "source": [
        "Para resolver o item b) temos que\n",
        "\n",
        "> - De ter o vírus: $P(V) = \\frac{1}{200} = 0,005$\n",
        ">\n",
        "> - De não ter o vírus: $P(¬ V)= 0,995$\n",
        ">\n",
        "> - Teste positivo dado que tem o vírus: $P(-|V) = 0,2$\n",
        ">\n",
        "> - Teste positivo dado que não tem o vírus: $P(-|¬ V) = 0,95$\n",
        "\n",
        "As duas últimas probabilidades foram calculadas a partir da probabilidade complementar de $P(+|V)$ e de $P(+|¬ V)$, respectivamente.\n",
        "\n",
        "$$P(¬ V|-) = \\frac{P(-|¬ V) P(¬ V)}{P(-|¬ V) P(¬ V) + P(-|V) P(V)}$$"
      ]
    },
    {
      "cell_type": "code",
      "execution_count": null,
      "id": "rkxF4ym9GFx6",
      "metadata": {
        "colab": {
          "base_uri": "https://localhost:8080/"
        },
        "id": "rkxF4ym9GFx6",
        "outputId": "42b33f89-5877-48a7-b20a-b8226e38422f"
      },
      "outputs": [
        {
          "data": {
            "text/plain": [
              "0.9989431968295905"
            ]
          },
          "execution_count": 20,
          "metadata": {},
          "output_type": "execute_result"
        }
      ],
      "source": [
        "p_sem_virus_dado_negativo = (0.95 * 0.995) / ((0.95 * 0.995) + (0.2 * 0.005))\n",
        "p_sem_virus_dado_negativo"
      ]
    }
  ],
  "metadata": {
    "colab": {
      "provenance": []
    },
    "kernelspec": {
      "display_name": "Python 3 (ipykernel)",
      "language": "python",
      "name": "python3"
    },
    "language_info": {
      "codemirror_mode": {
        "name": "ipython",
        "version": 3
      },
      "file_extension": ".py",
      "mimetype": "text/x-python",
      "name": "python",
      "nbconvert_exporter": "python",
      "pygments_lexer": "ipython3",
      "version": "3.9.13"
    },
    "varInspector": {
      "cols": {
        "lenName": 16,
        "lenType": 16,
        "lenVar": 40
      },
      "kernels_config": {
        "python": {
          "delete_cmd_postfix": "",
          "delete_cmd_prefix": "del ",
          "library": "var_list.py",
          "varRefreshCmd": "print(var_dic_list())"
        },
        "r": {
          "delete_cmd_postfix": ") ",
          "delete_cmd_prefix": "rm(",
          "library": "var_list.r",
          "varRefreshCmd": "cat(var_dic_list()) "
        }
      },
      "types_to_exclude": [
        "module",
        "function",
        "builtin_function_or_method",
        "instance",
        "_Feature"
      ],
      "window_display": false
    }
  },
  "nbformat": 4,
  "nbformat_minor": 5
}
