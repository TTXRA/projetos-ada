{
  "nbformat": 4,
  "nbformat_minor": 0,
  "metadata": {
    "colab": {
      "provenance": []
    },
    "kernelspec": {
      "name": "python3",
      "display_name": "Python 3"
    },
    "language_info": {
      "name": "python"
    }
  },
  "cells": [
    {
      "cell_type": "markdown",
      "source": [
        "**Exercício 1**\n",
        "\n",
        "As probabilidades de que duas pessoas A e B resolvam um problema de modo independente uma da outra são: P(A) = 1/3  e P(B) = 3/5. Qual a probabilidade de que:\n",
        "\n",
        "a) ambos resolvam o problema?\n",
        "\n",
        "b) ao menos um resolva o problema?\n",
        "\n",
        "c) nenhum resolva o problema?\n",
        "\n",
        "d) A resolva o problema, mas B não?\n",
        "\n",
        "e) B resolva o problema, mas A não?"
      ],
      "metadata": {
        "id": "KucBcEF_txTV"
      }
    },
    {
      "cell_type": "code",
      "execution_count": null,
      "metadata": {
        "id": "D_NamiL5tmXH"
      },
      "outputs": [],
      "source": [
        "prob_a = 1/3\n",
        "prob_b = 3/5\n",
        "\n",
        "espaco_amostral = [0, 1]"
      ]
    },
    {
      "cell_type": "code",
      "source": [
        "# a)\n",
        "evento_a = [1, 1]\n",
        "prob_evento_a = (prob_a) * (prob_b)\n",
        "print(f'P(A ∩ B) = {prob_evento_a:.2f}')"
      ],
      "metadata": {
        "colab": {
          "base_uri": "https://localhost:8080/"
        },
        "id": "MVT8jQsaumuZ",
        "outputId": "024d8dc1-b29d-46f7-a934-8aecb9b46353"
      },
      "execution_count": null,
      "outputs": [
        {
          "output_type": "stream",
          "name": "stdout",
          "text": [
            "P(A ∩ B) = 0.20\n"
          ]
        }
      ]
    },
    {
      "cell_type": "code",
      "source": [
        "# b)\n",
        "evento_b = [0, 1]\n",
        "prob_evento_b = (prob_a + prob_b) - prob_evento_a\n",
        "print(f'P(A ∪ B) = {prob_evento_b:.2f}')"
      ],
      "metadata": {
        "colab": {
          "base_uri": "https://localhost:8080/"
        },
        "id": "AD9UgHRTwIb9",
        "outputId": "d34ec7ea-d9c3-45e1-e81d-deda156e6645"
      },
      "execution_count": null,
      "outputs": [
        {
          "output_type": "stream",
          "name": "stdout",
          "text": [
            "P(A ∪ B) = 0.73\n"
          ]
        }
      ]
    },
    {
      "cell_type": "code",
      "source": [
        "# c)\n",
        "evento_c = [0, 0]\n",
        "prob_evento_c = (1 - prob_evento_a) * (1 - prob_evento_b)\n",
        "print(f'P(A\\' ∩ B\\') = {prob_evento_c:.2f}')"
      ],
      "metadata": {
        "colab": {
          "base_uri": "https://localhost:8080/"
        },
        "id": "KFLkP3QVwjgl",
        "outputId": "1bb17b01-a8ab-4d59-f16c-c2bf00b07e67"
      },
      "execution_count": null,
      "outputs": [
        {
          "output_type": "stream",
          "name": "stdout",
          "text": [
            "P(A' ∩ B') = 0.21\n"
          ]
        }
      ]
    },
    {
      "cell_type": "code",
      "source": [
        "# d)\n",
        "evento_d = [1, 0]\n",
        "prob_evento_d = prob_a * (1 - prob_b)\n",
        "print(f'P(A ∩ B\\') = {prob_evento_d:.2f}')"
      ],
      "metadata": {
        "colab": {
          "base_uri": "https://localhost:8080/"
        },
        "id": "mEKVEJAzzKj2",
        "outputId": "513cc569-6e97-4782-b1e7-dd38ca1e170d"
      },
      "execution_count": null,
      "outputs": [
        {
          "output_type": "stream",
          "name": "stdout",
          "text": [
            "P(A ∩ B') = 0.13\n"
          ]
        }
      ]
    },
    {
      "cell_type": "code",
      "source": [
        "# e)\n",
        "evento_e = [0, 1]\n",
        "prob_evento_e = (1 - prob_a) * prob_b\n",
        "print(f'P(A\\' ∩ B) = {prob_evento_e}')"
      ],
      "metadata": {
        "colab": {
          "base_uri": "https://localhost:8080/"
        },
        "id": "9gCw2AM2zaEZ",
        "outputId": "4ee2bd95-bd29-4f2c-a235-6506d6e01344"
      },
      "execution_count": null,
      "outputs": [
        {
          "output_type": "stream",
          "name": "stdout",
          "text": [
            "P(A' ∩ B) = 0.4\n"
          ]
        }
      ]
    },
    {
      "cell_type": "markdown",
      "source": [
        "**Exercício 2**\n",
        "\n",
        "Uma pesquisa realizada entre 1000 consumidores, registrou que 650 deles trabalham com cartões de crédito da bandeira MasterCard, que 550 trabalham com cartões de crédito da bandeira VISA e que 200 trabalham com cartões de crédito de ambas as bandeiras. Qual a probabilidade de ao escolhermos deste grupo uma pessoa que utiliza a bandeira VISA, ser também um dos consumidores que utilizam cartões de crédito da bandeira MasterCard?\n"
      ],
      "metadata": {
        "id": "K6C9lKzu1U0s"
      }
    },
    {
      "cell_type": "code",
      "source": [
        "cmd_total = 1000\n",
        "cmd_mastercard = 650\n",
        "cmd_visa = 550\n",
        "cmd_ambas = 200\n",
        "\n",
        "prob_mastercard = cmd_mastercard / cmd_total\n",
        "prob_visa = cmd_visa / cmd_total\n",
        "prob_ambas = cmd_ambas / cmd_total\n",
        "\n",
        "resposta = prob_ambas / prob_visa\n",
        "print(f'Probabilidade de um usuário de VISA também utilizar MasterCard: {resposta:.2f}')"
      ],
      "metadata": {
        "colab": {
          "base_uri": "https://localhost:8080/"
        },
        "id": "L_wAnIhQ1WKp",
        "outputId": "00015fd0-0aa0-4a0e-af2d-e5cfa04785ca"
      },
      "execution_count": null,
      "outputs": [
        {
          "output_type": "stream",
          "name": "stdout",
          "text": [
            "A probabilidade de um usuário de VISA também utilizar MasterCard: 0.36\n"
          ]
        }
      ]
    },
    {
      "cell_type": "markdown",
      "source": [
        "**Exercício 3**\n",
        "\n",
        "A chance do barco “Da Noi\" vencer uma regata se o vento estiver forte (acima de 20 nós) é de 80% e de 40% se o vento estiver fraco. No dia da regata, a meteorologia prevê vento forte com 70% de chance. Qual a probabilidade de:\n",
        "\n",
        "a) “Da Noi\" vencer a regata?\n",
        "\n",
        "b) O vento ter sido forte sabendo que “Da Noi\" venceu a regata?\n",
        "\n",
        "c) O vento ter sido fraco sabendo que “Da Noi\" não venceu a regata?"
      ],
      "metadata": {
        "id": "3LH77wz17Cju"
      }
    },
    {
      "cell_type": "code",
      "source": [
        "prob_vitoria_vfte = 0.8\n",
        "prob_vitoria_vfco = 0.4\n",
        "prob_vfte = 0.7\n",
        "prob_vfco = 1 - prob_vfte"
      ],
      "metadata": {
        "id": "C7N18xIS7BdD"
      },
      "execution_count": null,
      "outputs": []
    },
    {
      "cell_type": "code",
      "source": [
        "# a)\n",
        "prob_a = (prob_vitoria_vfte * prob_vfte) + (prob_vitoria_vfco * prob_vfco)\n",
        "print(f'Probabilidade de \"Da Noi\" vencer: {prob_a:.2f}')"
      ],
      "metadata": {
        "colab": {
          "base_uri": "https://localhost:8080/"
        },
        "id": "NKHhg5edD5_a",
        "outputId": "fc573916-6152-4577-d8bc-6ae04980f0ee"
      },
      "execution_count": null,
      "outputs": [
        {
          "output_type": "stream",
          "name": "stdout",
          "text": [
            "Probabilidade de \"Da Noi\" vencer: 0.68\n"
          ]
        }
      ]
    },
    {
      "cell_type": "code",
      "source": [
        "# b)\n",
        "prob_b = (prob_vitoria_vfte * prob_vfte) / prob_a\n",
        "print(f'Probabilidade de o vento ter sido forte sabendo que \"Da Noi\" venceu: {prob_b:.2f}')"
      ],
      "metadata": {
        "colab": {
          "base_uri": "https://localhost:8080/"
        },
        "id": "9AIvDC64Eo1R",
        "outputId": "d7d49d8f-115c-4742-f4c1-b2089c3c0efe"
      },
      "execution_count": null,
      "outputs": [
        {
          "output_type": "stream",
          "name": "stdout",
          "text": [
            "Probabilidade de o vento ter sido forte sabendo que \"Da Noi\" venceu: 0.82\n"
          ]
        }
      ]
    },
    {
      "cell_type": "code",
      "source": [
        "# c)\n",
        "prob_c = (prob_vfco * (1 - prob_vitoria_vfco)) / (1 - prob_a)\n",
        "print(f'Probabilidade de o vento ter sido fraco sabendo que \"Da Noi\" perdeu: {prob_c:.2f}')"
      ],
      "metadata": {
        "colab": {
          "base_uri": "https://localhost:8080/"
        },
        "id": "ClqFVUZlFYf4",
        "outputId": "09282a8b-52b1-4191-9727-4a20e4817898"
      },
      "execution_count": null,
      "outputs": [
        {
          "output_type": "stream",
          "name": "stdout",
          "text": [
            "Probabilidade de o vento ter sido fraco sabendo que \"Da Noi\" perdeu: 0.56\n"
          ]
        }
      ]
    },
    {
      "cell_type": "markdown",
      "source": [
        "**Exercício 4**\n",
        "\n",
        "Suponha que foi feita uma pesquisa com 100 pessoas que frequentam um shopping, certo?\n",
        "\n",
        "Entre elas, constatou-se que:\n",
        "\n",
        "> - 60 compram na Riachuelo;\n",
        ">\n",
        "> - 70 compram na C&A;\n",
        ">\n",
        "> - 40 compram em ambas as lojas.\n",
        "\n",
        "Qual a probabilidade de, dentro desse grupo, encontrarmos uma pessoa que utilize compre na C&A e que ele seja um dos que também compram na Riachuelo?"
      ],
      "metadata": {
        "id": "6dQpCOUIGzWp"
      }
    },
    {
      "cell_type": "code",
      "source": [
        "clientes_total = 100\n",
        "clientes_rch = 60\n",
        "clientes_cea = 70\n",
        "clientes_ambas = 40\n",
        "\n",
        "prob_rch = clientes_rch / clientes_total\n",
        "prob_cea = clientes_cea / clientes_total\n",
        "prob_ambas = clientes_ambas / clientes_total\n",
        "\n",
        "resposta = prob_ambas / prob_rch\n",
        "print(f'Probabilidade de um cliente da C&A também comprar na Riachuelo: {resposta:.2f}')"
      ],
      "metadata": {
        "colab": {
          "base_uri": "https://localhost:8080/"
        },
        "id": "NpXfwDEsGy8J",
        "outputId": "9488e091-4e9d-4a74-9566-f3657ced58c3"
      },
      "execution_count": null,
      "outputs": [
        {
          "output_type": "stream",
          "name": "stdout",
          "text": [
            "Probabilidade de um cliente da C&A também comprar na Riachuelo: 0.67\n"
          ]
        }
      ]
    }
  ]
}