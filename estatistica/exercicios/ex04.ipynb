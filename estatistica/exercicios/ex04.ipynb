{
  "nbformat": 4,
  "nbformat_minor": 0,
  "metadata": {
    "colab": {
      "provenance": []
    },
    "kernelspec": {
      "name": "python3",
      "display_name": "Python 3"
    },
    "language_info": {
      "name": "python"
    }
  },
  "cells": [
    {
      "cell_type": "markdown",
      "source": [
        "**Exercício 1**\n",
        "\n",
        "Seja X uma variável aleatória discreta\n",
        "\n",
        "|X|P(X)|\n",
        "|-|----|\n",
        "|1|0,42|\n",
        "|2|0,25|\n",
        "|3|0,18|\n",
        "|4|0,08|\n",
        "|5|0,07|\n",
        "\n",
        "a) Qual a sua esperança?\n",
        "\n",
        "b) Qual a sua variância?"
      ],
      "metadata": {
        "id": "_1dM3mZhz7IX"
      }
    },
    {
      "cell_type": "code",
      "source": [
        "v = [1, 2, 3, 4, 5]\n",
        "p = [0.42, 0.25, 0.18, 0.08, 0.07]"
      ],
      "metadata": {
        "id": "PS7XEMHI1Fwv"
      },
      "execution_count": null,
      "outputs": []
    },
    {
      "cell_type": "code",
      "source": [
        "# a)\n",
        "esperanca = sum(v * p for v, p in zip(v, p))\n",
        "print(f'O valor de esperança é: {esperanca:.2f}')"
      ],
      "metadata": {
        "colab": {
          "base_uri": "https://localhost:8080/"
        },
        "id": "rRbSxrrQz7wv",
        "outputId": "f5700693-6185-4385-cc10-a52d31402cf9"
      },
      "execution_count": null,
      "outputs": [
        {
          "output_type": "stream",
          "name": "stdout",
          "text": [
            "O valor de esperança é: 2.13\n"
          ]
        }
      ]
    },
    {
      "cell_type": "code",
      "source": [
        "# b)\n",
        "variancia = sum((v - esperanca)**2 * p for v, p in zip(v, p))\n",
        "print(f'o valor de variância é: {variancia:.2f}')"
      ],
      "metadata": {
        "colab": {
          "base_uri": "https://localhost:8080/"
        },
        "id": "FByt6Gfr0Ww0",
        "outputId": "091499be-95b6-4e24-e039-be83135fae1d"
      },
      "execution_count": null,
      "outputs": [
        {
          "output_type": "stream",
          "name": "stdout",
          "text": [
            "o valor de variância é: 1.53\n"
          ]
        }
      ]
    },
    {
      "cell_type": "markdown",
      "source": [
        "**Exercício 2**\n",
        "\n",
        "A pontuação de crédito dos clientes de um banco segue uma distribuição normal com média 750 e desvio padrão 150.\n",
        "\n",
        "a) Se um cliente solicitar um empréstimo, qual é a probabilidade de que sua pontuação esteja acima de 837 pontos?\n",
        "\n",
        "b) Qual a probabilidade de que sua pontuação esteja acima de 400 pontos?\n",
        "\n",
        "c) Qual a probabilidade de que a pontuação do cliente esteja entre 600 e 850?\n"
      ],
      "metadata": {
        "id": "jCW8b1gv0GMP"
      }
    },
    {
      "cell_type": "code",
      "source": [
        "from scipy.stats import norm\n",
        "\n",
        "media = 750\n",
        "desvio_padrao = 150"
      ],
      "metadata": {
        "id": "3CKJvUEu0VsX"
      },
      "execution_count": null,
      "outputs": []
    },
    {
      "cell_type": "code",
      "source": [
        "def calcula_prob(x, media, desvio_padrao):\n",
        "    z = (x - media) / desvio_padrao\n",
        "    return norm.cdf(z)"
      ],
      "metadata": {
        "id": "YJZDKFJ75bHb"
      },
      "execution_count": null,
      "outputs": []
    },
    {
      "cell_type": "code",
      "source": [
        "# a)\n",
        "1 - calcula_prob(837, media, desvio_padrao)"
      ],
      "metadata": {
        "colab": {
          "base_uri": "https://localhost:8080/"
        },
        "id": "WYSzz4hk5kbl",
        "outputId": "8ef8654d-ab42-4ae3-bcd0-17dfc2468080"
      },
      "execution_count": null,
      "outputs": [
        {
          "output_type": "execute_result",
          "data": {
            "text/plain": [
              "0.2809573088985644"
            ]
          },
          "metadata": {},
          "execution_count": 5
        }
      ]
    },
    {
      "cell_type": "code",
      "source": [
        "# b)\n",
        "1 - calcula_prob(400, media, desvio_padrao)"
      ],
      "metadata": {
        "colab": {
          "base_uri": "https://localhost:8080/"
        },
        "id": "Pb7uJSgL6H7J",
        "outputId": "3cccd8ab-629e-4776-d51d-98119e22c9cc"
      },
      "execution_count": null,
      "outputs": [
        {
          "output_type": "execute_result",
          "data": {
            "text/plain": [
              "0.9901846713713547"
            ]
          },
          "metadata": {},
          "execution_count": 6
        }
      ]
    },
    {
      "cell_type": "code",
      "source": [
        "# c)\n",
        "calcula_prob(850, media, desvio_padrao) - calcula_prob(600, media, desvio_padrao)"
      ],
      "metadata": {
        "id": "RjawP1vj6PJd",
        "outputId": "3f68bece-649e-472d-a89c-964481fdde1b",
        "colab": {
          "base_uri": "https://localhost:8080/"
        }
      },
      "execution_count": null,
      "outputs": [
        {
          "output_type": "execute_result",
          "data": {
            "text/plain": [
              "0.58885220852162"
            ]
          },
          "metadata": {},
          "execution_count": 7
        }
      ]
    },
    {
      "cell_type": "markdown",
      "source": [
        "**Exercício 3**\n",
        "\n",
        "Acredita-se que 20% dos moradores das proximidades de uma grande indústria\n",
        "siderúrgica têm alergia aos poluentes lançados ao ar. Admitindo que este percentual\n",
        "de alérgicos é real (correto), calcule a probabilidade de que pelo menos 4 moradores\n",
        "tenham alergia entre 13 selecionados ao acaso.\n"
      ],
      "metadata": {
        "id": "GsdOdqbK0KwW"
      }
    },
    {
      "cell_type": "code",
      "source": [
        "from scipy.stats import binom\n",
        "\n",
        "p = 0.2\n",
        "n = 13"
      ],
      "metadata": {
        "id": "HC5Wi4IL0VNv"
      },
      "execution_count": null,
      "outputs": []
    },
    {
      "cell_type": "code",
      "source": [
        "1 - binom.cdf(3, n, p)"
      ],
      "metadata": {
        "colab": {
          "base_uri": "https://localhost:8080/"
        },
        "id": "HrkxIUPmC0Mc",
        "outputId": "e0b068f0-4705-4efa-bad0-e503fbcaca13"
      },
      "execution_count": null,
      "outputs": [
        {
          "output_type": "execute_result",
          "data": {
            "text/plain": [
              "0.25267569049600025"
            ]
          },
          "metadata": {},
          "execution_count": 2
        }
      ]
    },
    {
      "cell_type": "code",
      "source": [
        "binom.sf(3, n, p)"
      ],
      "metadata": {
        "colab": {
          "base_uri": "https://localhost:8080/"
        },
        "id": "q_HyKVOyACXe",
        "outputId": "f51e542c-a41e-4cc4-fc8b-2545ae1bb271"
      },
      "execution_count": null,
      "outputs": [
        {
          "output_type": "execute_result",
          "data": {
            "text/plain": [
              "0.25267569049600025"
            ]
          },
          "metadata": {},
          "execution_count": 3
        }
      ]
    },
    {
      "cell_type": "markdown",
      "source": [
        "**Exercício 4**\n",
        "\n",
        "Uma indústria de tintas recebe pedidos de seus vendedores\n",
        "através de fax, telefone e internet. A taxa média é de 5 pedidos por hora.\n",
        "\n",
        "a) Qual a probabilidade da indústria receber mais de dois pedidos por hora?\n",
        "Digamos que, no horário do almoço, a indústria fica impossibilitada de atender a\n",
        "mais de dois pedidos por hora. Você acha que deveria aumentar o nº de atendentes\n",
        "nesse período?\n",
        "\n",
        "b) Em um dia de trabalho (8 horas) qual seria a probabilidade de haver 50 pedidos?\n",
        "A indústria deveria aumentar o nº de atendentes para receber mais de 50 pedidos\n",
        "por dia?"
      ],
      "metadata": {
        "id": "hu2k_qmO0NKL"
      }
    },
    {
      "cell_type": "code",
      "source": [
        "from scipy.stats import poisson"
      ],
      "metadata": {
        "id": "kkKeG6um3A3F"
      },
      "execution_count": null,
      "outputs": []
    },
    {
      "cell_type": "code",
      "source": [
        "# a)\n",
        "lam = 5\n",
        "k = 2\n",
        "\n",
        "poisson.sf(k, lam)"
      ],
      "metadata": {
        "colab": {
          "base_uri": "https://localhost:8080/"
        },
        "id": "5-V_mL9e0F5A",
        "outputId": "dac0cb8a-de15-445a-bdeb-e52964b42c1f"
      },
      "execution_count": null,
      "outputs": [
        {
          "output_type": "execute_result",
          "data": {
            "text/plain": [
              "0.8753479805169189"
            ]
          },
          "metadata": {},
          "execution_count": 7
        }
      ]
    },
    {
      "cell_type": "code",
      "source": [
        "1 - poisson.cdf(k, lam)"
      ],
      "metadata": {
        "colab": {
          "base_uri": "https://localhost:8080/"
        },
        "id": "SG_kHAejEs3q",
        "outputId": "4e7dcee7-fcd2-436a-e844-2ee7ceaea9fd"
      },
      "execution_count": null,
      "outputs": [
        {
          "output_type": "execute_result",
          "data": {
            "text/plain": [
              "0.8753479805169189"
            ]
          },
          "metadata": {},
          "execution_count": 8
        }
      ]
    },
    {
      "cell_type": "code",
      "source": [
        "# b)\n",
        "lam = 40\n",
        "k = 50\n",
        "\n",
        "poisson.pmf(k, lam)"
      ],
      "metadata": {
        "colab": {
          "base_uri": "https://localhost:8080/"
        },
        "id": "y2seM_O62OW5",
        "outputId": "3b0007df-bcc3-4a29-eea8-85d1d6dcde2f"
      },
      "execution_count": null,
      "outputs": [
        {
          "output_type": "execute_result",
          "data": {
            "text/plain": [
              "0.01770701755263633"
            ]
          },
          "metadata": {},
          "execution_count": 11
        }
      ]
    }
  ]
}