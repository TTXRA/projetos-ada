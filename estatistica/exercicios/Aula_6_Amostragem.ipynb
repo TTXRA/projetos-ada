{
  "cells": [
    {
      "cell_type": "code",
      "source": [
        "from google.colab import drive\n",
        "drive.mount('/content/drive')"
      ],
      "metadata": {
        "colab": {
          "base_uri": "https://localhost:8080/"
        },
        "id": "vuOxc3Dgwm87",
        "outputId": "6978c6a7-c5ae-4ed1-cfcd-f65b87521455"
      },
      "id": "vuOxc3Dgwm87",
      "execution_count": 174,
      "outputs": [
        {
          "output_type": "stream",
          "name": "stdout",
          "text": [
            "Drive already mounted at /content/drive; to attempt to forcibly remount, call drive.mount(\"/content/drive\", force_remount=True).\n"
          ]
        }
      ]
    },
    {
      "cell_type": "markdown",
      "id": "fa15ba55",
      "metadata": {
        "id": "fa15ba55"
      },
      "source": [
        "# Amostragem"
      ]
    },
    {
      "cell_type": "code",
      "execution_count": 175,
      "id": "2234d323",
      "metadata": {
        "ExecuteTime": {
          "end_time": "2021-12-06T20:40:18.388656Z",
          "start_time": "2021-12-06T20:40:15.103632Z"
        },
        "id": "2234d323"
      },
      "outputs": [],
      "source": [
        "# Importação das bibliotecas\n",
        "\n",
        "import numpy as np\n",
        "import pandas as pd\n",
        "import matplotlib.pyplot as plt\n",
        "import seaborn as sns\n",
        "from scipy import stats"
      ]
    },
    {
      "cell_type": "markdown",
      "id": "ff266462",
      "metadata": {
        "id": "ff266462"
      },
      "source": [
        "<img src='https://miro.medium.com/max/625/1*ZhYNqU2y96_f3QkWq9oiWQ.jpeg'>"
      ]
    },
    {
      "cell_type": "markdown",
      "id": "ec5a8059",
      "metadata": {
        "id": "ec5a8059"
      },
      "source": [
        "## 1. Introdução\n",
        "\n",
        "Quando se prepara um macarrão, uma unidade desse é retirada para saber se o ponto de cozimento é o desejado.\n",
        "\n",
        "Pra saber se uma sopa está corretamente salgada, experimentamos uma única colherada.\n",
        "\n",
        "Quando um médico deseja identificar se um paciente está doente, alguns **mL** de sangue são retirados para análise.\n",
        "\n",
        "Em todos os casos acima, não seria conveniente analisar o todo, para chegar a uma conclusão satisfatória. De fato, o que fazemos é **tirar uma parte do todo** para validar alguma suposição.\n",
        "\n",
        "Este procedimento é chamado de **amostragem**, e tem como objetivo **obter informações, tirar conclusões sobre o todo** com base na **análise de dados coletados de parte do todo (amostra)**.\n",
        "\n",
        "A **inferência estatística** é a área que define:\n",
        "\n",
        "- Como coletar as amostras do todo a serem analisadas;\n",
        "- Como, e com que confiança, podemos generalizar as conclusões para o todo."
      ]
    },
    {
      "cell_type": "markdown",
      "id": "b5a9c660",
      "metadata": {
        "id": "b5a9c660"
      },
      "source": [
        "![Amostragem](http://drive.google.com/uc?export=view&id=1h3EUKf74tn3WMFJ17KkqnfrHT6MXmm5j)\n"
      ]
    },
    {
      "cell_type": "markdown",
      "source": [
        "**ENTÃO POR QUE REALIZAR UMA AMOSTRAGEM?**\n",
        "\n",
        "Dois principais motivos devem fazer parte da discussão:\n",
        "\n",
        "- O tamanho da população é bastante considerável. O que torna impossível trabalhar com todos os seus elementos;\n",
        "- O custo! É um fator determinante, mesmo que a população não seja tão grande, talvez trabalhar com amostragem garanta uma economia de recursos."
      ],
      "metadata": {
        "id": "yKXQ8kMzDb3l"
      },
      "id": "yKXQ8kMzDb3l"
    },
    {
      "cell_type": "code",
      "execution_count": 176,
      "id": "50ed17d1",
      "metadata": {
        "ExecuteTime": {
          "end_time": "2021-12-06T23:49:57.100793Z",
          "start_time": "2021-12-06T23:49:55.665178Z"
        },
        "id": "50ed17d1"
      },
      "outputs": [],
      "source": [
        "# Vamos carregar um dataset de exemplo do Seaborn:\n",
        "\n"
      ]
    },
    {
      "cell_type": "markdown",
      "source": [
        "Qual função do *pandas* pode ser útil para amostrar um conjunto de dados?\n",
        "\n",
        "- [ ] *value_counts()*\n",
        "- [ ] *groupby()*\n",
        "- [ ] *sample()*\n",
        "- [ ] *drop_duplicates()*"
      ],
      "metadata": {
        "id": "GtV9pcrih07L"
      },
      "id": "GtV9pcrih07L"
    },
    {
      "cell_type": "code",
      "source": [
        "# Vamos usar a função sample:\n",
        "\n"
      ],
      "metadata": {
        "id": "5AUG1zRRjUql"
      },
      "id": "5AUG1zRRjUql",
      "execution_count": 177,
      "outputs": []
    },
    {
      "cell_type": "code",
      "source": [
        "# 10 amostras:\n",
        "\n"
      ],
      "metadata": {
        "id": "Lok6vnEijjx5"
      },
      "id": "Lok6vnEijjx5",
      "execution_count": 178,
      "outputs": []
    },
    {
      "cell_type": "code",
      "source": [
        "# 20 amostras:\n",
        "\n"
      ],
      "metadata": {
        "id": "irHcHP_9jnHU"
      },
      "id": "irHcHP_9jnHU",
      "execution_count": 179,
      "outputs": []
    },
    {
      "cell_type": "markdown",
      "id": "e6918861",
      "metadata": {
        "id": "e6918861"
      },
      "source": [
        "Usar amostras é uma vantagem. Porém tem que tomar alguns cuidados = VIÉS"
      ]
    },
    {
      "cell_type": "markdown",
      "id": "38aeba69",
      "metadata": {
        "id": "38aeba69"
      },
      "source": [
        "## 1.1.Definições\n",
        "\n",
        "**População** ou **Universo**: é o conjunto de todas as unidades elementares de interesse: o todo. A população sempre deve ser definida claramente e em termos da informação que se pretende conhecer;\n",
        "\n",
        "**Unidade**: trata-se de qualquer elemento da população;\n",
        "\n",
        "**Amostra**: uma parte ou subconjunto da população;\n",
        "\n",
        "**Censo**: observação de todos os elementos da população;\n",
        "\n",
        "**Parâmetro Populacional**: é o vetor correspondente a todos os valores de uma variável de interesse. Pode ser qualitativa (gosto musical, opinião sobre o governo, etc) ou quantitativa (média, proporção, quantidade, etc).\n",
        "\n",
        "Todas as informações obtidas através de dados amostrais, ou seja, que não abrangem o todo da população de interesse, são baseadas em estimativas.\n",
        "\n",
        "**Estimadores pontuais**: são valores que **estimam** os parâmetros populacionais, calculados com base em uma amostra.\n",
        "<br>\n",
        "\n",
        "- Exemplos de parâmetros populacionais:\n",
        "    - média: $\\mu$\n",
        "    - diferença de médias: $\\mu_1 - \\mu_2$\n",
        "    - proporção: $p$\n",
        "    - desvio padrão: $\\sigma$\n",
        "    \n",
        "- Exemplos de estimadores de ponto:\n",
        "    - média: $\\bar{x}$\n",
        "    - diferença de médias: $\\bar{x}_1 - \\bar{x}_2$\n",
        "    - proporção: $\\hat{p}$\n",
        "    - desvio padrão amostral: $\\hat{s}$\n",
        "    \n",
        "\n",
        "    \n",
        "### 1.2 Propriedade dos estimadores\n",
        " - Não viesado (não tendencioso): $E(\\hat{\\beta}) = \\beta$\n",
        " - Eficiente:  dentre os estimadores não-viesados, escolher o de menor variância\n",
        " - Consistente: $ lim_{n \\to \\infty} P(|\\hat{\\beta}-\\beta| > \\epsilon) = 0$ (quanto maior a amostra, mais perto a estimativa estará do parâmetro populacional). Em outras \"palavras\":\n",
        "\n",
        " $ lim_{n \\to \\infty} E(\\hat{\\beta}) \\to \\beta$     e     $ lim_{n \\to \\infty} Var(\\hat{\\beta}) \\to 0$\n",
        "\n",
        "\n",
        "\n"
      ]
    },
    {
      "cell_type": "markdown",
      "id": "24296299",
      "metadata": {
        "id": "24296299"
      },
      "source": [
        "Demonstração do uso do n-1 no lugar do n, na variância amostral:\n",
        "https://www.inf.ufsc.br/~andre.zibetti/probabilidade/distribuicao_amostral_variancia.html\n",
        "\n",
        "Sobre a distribuição da média amostral (necessário para entender a variância da média amostral utilizada acima):\n",
        "https://www.inf.ufsc.br/~andre.zibetti/probabilidade/distribuicao_amostral_variancia.html"
      ]
    },
    {
      "cell_type": "markdown",
      "id": "5842dc0a",
      "metadata": {
        "id": "5842dc0a"
      },
      "source": [
        "## 2.Tipos  de Amostragem\n",
        "\n",
        "- **Amostra probabilística**: todos os elementos da população apresentam probabilidade maior que zero de serem selecionados. (aleatória simples, estratificada, sistemática e por conglomerados)\n",
        "\n",
        "\n",
        "- **Amostra não probabilística**: quando não há probabilidade clara/conhecida de seleção dos elementos. Os elementos são escolhidos de forma julgamental. (acidental, intencional, por cotas)\n",
        "\n",
        "Aqui, abordaremos apenas os métodos relacionados à **amostragem probabilística**, com o objetivo de obter uma **amostra representativa**.\n",
        "\n",
        "Uma amostra é considerada representativa quando consegue **refletir as características da população**.\n",
        "\n",
        "Vamos ver os principais **métodos de amostragem**:    "
      ]
    },
    {
      "cell_type": "markdown",
      "id": "750f9dd9",
      "metadata": {
        "id": "750f9dd9"
      },
      "source": [
        "### 2.1. Amostra Aleatória Simples\n",
        "\n",
        "<font color='blue'> \"Dá a mesma chance a todos os membros de uma população de ser selecionado, além de utilizar alguns mecanismos de causalidade para escolhê-los\"</font>\n",
        "\n",
        "\n",
        "Este é o método mais simples e mais importante de seleção de uma amostra, pois pode ser usada em combinação com outros métodos. A premissa assumida é que a população é homogênea com relação à característica de interesse.\n",
        "\n",
        "A amostra aleatória simples pode ser realizada com ou sem reposição. No caso em que há reposição, cada elemento pode ser sorteado mais de uma vez. Para exemplificar, suponha que se queira sortear um número aleatório de uma urna, se for uma Amostra Aleatória Simples com reposição,  este número voltará para urna para participar do próximo sorteio. Se não houver reposição, cada elemento só poderá ser selecionado uma vez para compor a amostra.\n",
        "\n",
        "Considere uma população formada por $N$ elementos (conhecido e finito). Este método consiste em selecionar $n$ elementos, sendo que cada elemento tem a mesma probabilidade de ser selecionado.\n",
        "\n",
        "<img src=\"http://khsapstats.weebly.com/uploads/3/8/5/3/3853479/6057546.gif?242\" width=400>\n",
        "\n",
        "**Exemplo**: Considere uma população formada por 20 alunos. Selecionar de forma aleatória 5 alunos, **sem reposição**:"
      ]
    },
    {
      "cell_type": "code",
      "source": [
        "# Import sample da biblioteca random\n",
        "\n"
      ],
      "metadata": {
        "id": "v-v6SKe-F3Dk"
      },
      "id": "v-v6SKe-F3Dk",
      "execution_count": 180,
      "outputs": []
    },
    {
      "cell_type": "code",
      "execution_count": 180,
      "id": "2d9566a0",
      "metadata": {
        "ExecuteTime": {
          "end_time": "2021-12-06T21:41:30.928147Z",
          "start_time": "2021-12-06T21:41:30.920099Z"
        },
        "id": "2d9566a0"
      },
      "outputs": [],
      "source": []
    },
    {
      "cell_type": "code",
      "source": [
        "# Import choice da numpy.random:\n"
      ],
      "metadata": {
        "id": "wmdh-0VpHLRU"
      },
      "id": "wmdh-0VpHLRU",
      "execution_count": 181,
      "outputs": []
    },
    {
      "cell_type": "code",
      "execution_count": 182,
      "id": "a635d478",
      "metadata": {
        "ExecuteTime": {
          "end_time": "2021-12-06T21:42:39.575435Z",
          "start_time": "2021-12-06T21:42:39.564953Z"
        },
        "id": "a635d478"
      },
      "outputs": [],
      "source": [
        "# np.random.seed(42) #permitir a reprodutibilidade"
      ]
    },
    {
      "cell_type": "code",
      "execution_count": 182,
      "id": "e7032a00",
      "metadata": {
        "ExecuteTime": {
          "end_time": "2021-12-06T21:42:48.336251Z",
          "start_time": "2021-12-06T21:42:48.324182Z"
        },
        "id": "e7032a00"
      },
      "outputs": [],
      "source": []
    },
    {
      "cell_type": "markdown",
      "id": "09af6b4e",
      "metadata": {
        "id": "09af6b4e"
      },
      "source": [
        "**Exemplo com dataset**"
      ]
    },
    {
      "cell_type": "code",
      "execution_count": 183,
      "id": "59050f55",
      "metadata": {
        "ExecuteTime": {
          "end_time": "2021-12-07T01:47:56.534947Z",
          "start_time": "2021-12-07T01:47:56.498052Z"
        },
        "scrolled": true,
        "id": "59050f55"
      },
      "outputs": [],
      "source": [
        " ##aqui, os índices são os mesmos do dataframe original"
      ]
    },
    {
      "cell_type": "code",
      "execution_count": 184,
      "id": "5190e3cf",
      "metadata": {
        "ExecuteTime": {
          "end_time": "2021-10-23T15:01:58.650230Z",
          "start_time": "2021-10-23T15:01:58.526949Z"
        },
        "id": "5190e3cf"
      },
      "outputs": [],
      "source": [
        "# Atualizando os índices:\n",
        "\n"
      ]
    },
    {
      "cell_type": "code",
      "execution_count": 185,
      "id": "500059ba",
      "metadata": {
        "ExecuteTime": {
          "end_time": "2021-12-07T01:49:04.914966Z",
          "start_time": "2021-12-07T01:49:04.897976Z"
        },
        "scrolled": true,
        "id": "500059ba"
      },
      "outputs": [],
      "source": [
        "#Comparar a média da amostra com a média da população\n",
        "\n"
      ]
    },
    {
      "cell_type": "markdown",
      "source": [
        "Podemos analisar a proporção dos indivíduos por gênero, comparando a população e a amostra."
      ],
      "metadata": {
        "id": "IWlYj2l2JWHZ"
      },
      "id": "IWlYj2l2JWHZ"
    },
    {
      "cell_type": "code",
      "execution_count": 186,
      "id": "8f6b564d",
      "metadata": {
        "ExecuteTime": {
          "end_time": "2021-12-07T01:49:16.588848Z",
          "start_time": "2021-12-07T01:49:16.578836Z"
        },
        "id": "8f6b564d"
      },
      "outputs": [],
      "source": [
        "# Proporção população:\n",
        "\n"
      ]
    },
    {
      "cell_type": "code",
      "execution_count": 187,
      "id": "969df7f0",
      "metadata": {
        "ExecuteTime": {
          "end_time": "2021-12-07T01:49:19.448040Z",
          "start_time": "2021-12-07T01:49:19.442060Z"
        },
        "id": "969df7f0"
      },
      "outputs": [],
      "source": [
        "# Proporção amostra:\n",
        "\n"
      ]
    },
    {
      "cell_type": "markdown",
      "source": [
        "Ao usar o parâmetro `weights` juntamente com a função *sample* do *pandas* valores maiores terão maior probabilidade de serem sorteados."
      ],
      "metadata": {
        "id": "XueekipvL92u"
      },
      "id": "XueekipvL92u"
    },
    {
      "cell_type": "code",
      "execution_count": 188,
      "id": "18ee6c2c",
      "metadata": {
        "ExecuteTime": {
          "end_time": "2021-12-07T01:49:22.991985Z",
          "start_time": "2021-12-07T01:49:22.856419Z"
        },
        "id": "18ee6c2c"
      },
      "outputs": [],
      "source": [
        " # considerando um peso diferentes para os elementos da minha amostra"
      ]
    },
    {
      "cell_type": "markdown",
      "id": "8817aba9",
      "metadata": {
        "id": "8817aba9"
      },
      "source": [
        "No caso acima **NÃO** é uma amostra aleatória simples pois possui pesos no momento da seleção da amostra"
      ]
    },
    {
      "cell_type": "markdown",
      "id": "27ee9a0e",
      "metadata": {
        "id": "27ee9a0e"
      },
      "source": [
        "### 2.2. Amostra Sistemática\n",
        "\n",
        "<font color='blue'> \"Os elementos são selecionados seguindo uma regra pré definida\"</font>\n",
        "\n",
        "Usada quando os elementos população estão ordenados (população de lista telefônica, casas em uma rua).\n",
        "\n",
        "Considere uma população de tamanho $N$ e que se queira uma amostra de tamanho $n$. O processo de amostragem deste método consiste em:\n",
        "\n",
        "- Dividir o tamanho populacional em $K$ partes:\n",
        "$$ k = \\frac{N}{n} $$\n",
        "\n",
        "- Definir a posição de início da amostragem (que também será o primeiro elemento da amostra). Para tal fim, é sorteado $i$ com o uso da amostra aleatória simples no intervalo, em que  $i \\in [1, k]$\n",
        "\n",
        "\n",
        "- A partir do elemento selecionado aleatoriamente, é realizada sucessão aritimética para selecionar os $n-1$ indivíduos restantes\n",
        "$$i, i + k, i + 2k, i + 3k, ...., i + (n-1)k$$\n",
        "\n",
        "<img src=\"http://faculty.elgin.edu/dkernler/statistics/ch01/images/sys-sample1.gif\" width=400>"
      ]
    },
    {
      "cell_type": "markdown",
      "id": "972cf539",
      "metadata": {
        "id": "972cf539"
      },
      "source": [
        "Exemplo de algoritmo para amostragem sistemática no exemplo de 20 alunos\n",
        "\n",
        "20 elementos na população  \n",
        "5 elementos da amostra\n",
        "\n",
        "passo = 20 / 5 = 4"
      ]
    },
    {
      "cell_type": "code",
      "execution_count": 188,
      "id": "7725f117",
      "metadata": {
        "ExecuteTime": {
          "end_time": "2021-10-23T15:01:59.517467Z",
          "start_time": "2021-10-23T15:01:59.407885Z"
        },
        "id": "7725f117"
      },
      "outputs": [],
      "source": []
    },
    {
      "cell_type": "code",
      "source": [
        "# Import da função randint:\n",
        "\n"
      ],
      "metadata": {
        "id": "P2X_MwhJOPmF"
      },
      "id": "P2X_MwhJOPmF",
      "execution_count": 189,
      "outputs": []
    },
    {
      "cell_type": "code",
      "execution_count": 190,
      "id": "bebf152a",
      "metadata": {
        "ExecuteTime": {
          "end_time": "2021-12-07T01:50:28.355167Z",
          "start_time": "2021-12-07T01:50:28.344190Z"
        },
        "id": "bebf152a"
      },
      "outputs": [],
      "source": [
        "# def amostragem_sistematica(populacao, n):\n",
        "#     N = len(populacao) # total de elementos na população\n",
        "#     k = N // n # k escolha de 4 em 4 pq temos 20 amostras e quero 5 elementos\n",
        "#     initial_index = randint(0, k - 1) # índice inicial\n",
        "\n",
        "#     amostras = []\n",
        "\n",
        "#     for index in range(initial_index, N, k):\n",
        "#       amostras.append(populacao[index])\n",
        "\n",
        "#     return amostras"
      ]
    },
    {
      "cell_type": "code",
      "source": [],
      "metadata": {
        "id": "uCGmEPc399Lj"
      },
      "id": "uCGmEPc399Lj",
      "execution_count": 190,
      "outputs": []
    },
    {
      "cell_type": "markdown",
      "source": [
        "**No nosso dataset**"
      ],
      "metadata": {
        "id": "rwUGAjBOTiCa"
      },
      "id": "rwUGAjBOTiCa"
    },
    {
      "cell_type": "code",
      "source": [
        "# Array ordenado dos dados da coluna total_bill:\n",
        "\n"
      ],
      "metadata": {
        "id": "Vm0Uin-3RbIt"
      },
      "id": "Vm0Uin-3RbIt",
      "execution_count": 191,
      "outputs": []
    },
    {
      "cell_type": "markdown",
      "source": [
        "**Para o nosso dataset**"
      ],
      "metadata": {
        "id": "ec1jtCUORVvc"
      },
      "id": "ec1jtCUORVvc"
    },
    {
      "cell_type": "markdown",
      "id": "965f7d17",
      "metadata": {
        "id": "965f7d17"
      },
      "source": [
        "### 2.3.Amostra Estratificada\n",
        "\n",
        "<font color='blue'> A população é dividida em estratos homogêneos (grupos com elementos de características comuns) e é selecionada uma amostra aleatória de cada estrato. </font>\n",
        "    \n",
        "Trata-se do método em que a população é dividida em grupos (estratos) segundo alguma(s) característica(s) conhecida(s) na população sob estudo.\n",
        "\n",
        "São exemplos de estrato: gênero, faixa etária, região geográfica, profissão, etc.\n",
        "\n",
        "No geral, é usada quanto a população é heterogênea sob a ótica das características analisadas.\n",
        "\n",
        "Procedimento de amostragem:\n",
        "\n",
        "- Dividir as $N$ unidades da população em $N_1, N_2, \\cdots , N_j$ estratos distintos e homogêneos\n",
        "\n",
        "\n",
        "- Selecionar, ao acaso, uma amostra de tamanhos $n_1, n_2, \\cdots , n_j$ , de modo que o tamanho da amostra seja $n = n_1+n_2+ \\cdots +n_j$. O tamanho amostral pode ser proporcional à representatividade do estrato\n",
        "\n",
        "\n",
        "**Exemplo**: Considere a população formada pelos integrantes de uma escola. Dependendo do objetivo do estudo, esta população poderia ser dividida em alunos, professores, e demais funcionários (grupos mais homogêneos com relação à função na escola).\n",
        "\n",
        "Agora considere que a proporção de cada estrato seja: 50% alunos, 25% professores e 25% servidores. A amostragem poderia ser realizada dentro de cada estrato de forma que o tamanho amostral preserve esta característica. Sendo assim, se amostra total é $n$, a composição será $0,5 \\times n$ de alunos, $0,25\\times n$ de professores e $0,25\\times n$ de servidores.\n",
        "\n",
        "<img src=\"https://faculty.elgin.edu/dkernler/statistics/ch01/images/strata-sample.gif\" width=400>"
      ]
    },
    {
      "cell_type": "code",
      "source": [],
      "metadata": {
        "id": "5lc0_YtTU47G"
      },
      "id": "5lc0_YtTU47G",
      "execution_count": 191,
      "outputs": []
    },
    {
      "cell_type": "code",
      "execution_count": 192,
      "id": "b2c84954",
      "metadata": {
        "ExecuteTime": {
          "end_time": "2021-12-06T21:45:12.767098Z",
          "start_time": "2021-12-06T21:45:12.744540Z"
        },
        "id": "b2c84954"
      },
      "outputs": [],
      "source": [
        "# tamanho_amostra = 50\n",
        "\n",
        "# print(\"Tamanho da amostra de professores:\", 0.25 * tamanho_amostra)\n",
        "# print(\"Tamanho da amostra de alunos:\", 0.5 * tamanho_amostra)\n",
        "# print(\"Tamanho da amostra de servidores:\", 0.25 * tamanho_amostra)"
      ]
    },
    {
      "cell_type": "markdown",
      "id": "4f117a48",
      "metadata": {
        "id": "4f117a48"
      },
      "source": [
        "### 2.4. Amostra por conglomerados\n",
        "\n",
        "<font color='blue'> A população (extensa) é dividia em miniaturas da população (não homgêneas) e seleciona-se uma amostra aleatória desses conglomerados </font>\n",
        "\n",
        "A população é dividida em subpopulações (conglomerados) heterogêneas distintas (quarteirões, residências, famílias, bairros, etc.). Alguns dos conglomerados são selecionados segundo amostra aleatória simples e **todos os elementos** nos conglomerados selecionados são observados. Note que amostragem é feita sobre os conglomerados, e não mais sobre os indivíduos da população. Este procedimento amostral é adequado quando é possível dividir a população em um grande número de pequenas subpopulações.\n",
        "\n",
        "Geralmente este método é usado quando os sistemas de referência da população não são adequados e o custo para atualização é alto, ou quando identificar os elementos da população em campo é cara e consome muito tempo.\n",
        "\n",
        "<img src='http://khsapstats.weebly.com/uploads/3/8/5/3/3853479/4206002.gif' width=400>\n",
        "\n"
      ]
    },
    {
      "cell_type": "markdown",
      "id": "e760d759",
      "metadata": {
        "id": "e760d759"
      },
      "source": [
        "**Exemplo**: Suponha que o objetivo de uma pesquisa seja determinar a renda média familiar de moradores de uma cidade. Dificilmente dispõe-se de uma lista de famílias, a unidade elementar da população de interesse. Pode-se usar como sistema de referência a lista de setores censitários do IBGE. Neste caso, os setores censitários seriam os conglomerados."
      ]
    },
    {
      "cell_type": "markdown",
      "source": [
        "![image.png](data:image/png;base64,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)"
      ],
      "metadata": {
        "id": "Zjjd3kTwaJIW"
      },
      "id": "Zjjd3kTwaJIW"
    },
    {
      "cell_type": "markdown",
      "id": "93b5431c",
      "metadata": {
        "id": "93b5431c"
      },
      "source": [
        "Então sabemos como coletar os dados. Agora vamos ver como analisar/estimar os dados da população de acordo com a amostra. INFERÊNCIA.\n",
        "\n",
        "Abaixo, uma tabela de estimadores"
      ]
    },
    {
      "cell_type": "markdown",
      "source": [
        "![image.png](data:image/png;base64,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)"
      ],
      "metadata": {
        "id": "hRqyTbuUaMY7"
      },
      "id": "hRqyTbuUaMY7"
    },
    {
      "cell_type": "markdown",
      "id": "aec8ab0d",
      "metadata": {
        "id": "aec8ab0d"
      },
      "source": [
        "Estimação de parâmetros: A estimação é o processo que consiste no uso de\n",
        "dados da amostra (dados amostrais) para estimar valores de parâmetros\n",
        "populacionais desconhecidos, tais como média, desvio padrão, proporções,\n",
        "etc.\n",
        "\n",
        "Estimador: é uma função dos elementos da amostra, que será usada no\n",
        "processo de estimação do parâmetro desejado. O estimador é, como vemos,\n",
        "uma estatística. Será, portanto, uma variável aleatória caracterizada por uma\n",
        "distribuição de probabilidade e seus respectivos parâmetros próprios.\n",
        "\n",
        "O estimador é uma variável aleatória com uma distribuição de probabilidade"
      ]
    },
    {
      "cell_type": "markdown",
      "id": "6585d186",
      "metadata": {
        "id": "6585d186"
      },
      "source": [
        "## 3. Tamanho Amostral\n",
        "\n",
        "Ao extrair uma amostra para inferir algo sobre a população, sempre há um erro associado ao **planejamento amostral**.\n",
        "\n",
        "A medida que o **tamanho da amostra aumenta**, o **erro do estimador diminui**\n",
        "\n",
        "Vale ressaltar que uma amostra muito grande pode implicar em custos desnecessários, enquanto que uma amostra pequena pode tornar a pesquisa inconclusiva.\n",
        "\n",
        "Deste modo, o ponto chave de um levantamento amostral é determinar **o tamanho adequado da amostra** para que **os estimadores pontuais** sejam **estimados com confiança**!\n",
        "\n",
        "Ou seja, queremos responder à pergunta:\n",
        "\n",
        "> O quão confiantes estamos com relação aos estimadores pontuais que calcularmos com base em uma amostra?\n",
        "\n",
        "Ou seja,\n",
        "\n",
        "- A partir de $\\bar{x}$, o que eu posso **inferir** sobre $\\mu$?\n",
        "\n",
        "- Ou, a partir de $\\hat{p}$, o que eu posso **inferir** sobre $p$?\n",
        "\n",
        "Para responder a estas perguntas, vamos introduzir uma das ideias mais poderosas da estatística: o **teorema do limite central** e voltaremos para calcular o tamanho da amostra"
      ]
    },
    {
      "cell_type": "markdown",
      "id": "680c1db2",
      "metadata": {
        "id": "680c1db2"
      },
      "source": [
        "## 4 - Teorema do Limite Central (TLC, ou TCL)\n",
        "\n",
        "Esse é um dos teoremas mais poderosos e fundamentais da estatística, porque ele é usado **como base para muitos outros resultados**.\n",
        "\n",
        "A ideia é que muitos dos resultados de inferência estatística são válidos assumindo como hipótese que os dados sob análise (**mais precisamente, os estimadores pontuais**) seguem uma distribuição normal.\n",
        "\n",
        "No entanto, há muitos casos de interesse em que a **distribuição populacional não é normal** -- e, na verdade, não temos como saber com segurança qual é a distribuição populacional, dado que temos apenas acesso às amostras!\n",
        "\n",
        "Assim, a priori, muitos dos resultados e métodos da inferência estatística seriam invalidados, dado que não podemos assegurar qual é a distribuição populacional dos dados que estamos analisando.\n",
        "\n",
        "E é neste contexto que o TLC mostra seu poder e importância, pois ele mostra que **estimadores pontuais de parâmetros populacionais serão normalmente distribuídos, INDEPENDENTE DA DISTRIBUIÇÃO POPULACIONAL!**\n",
        "\n",
        "Vamos enunciá-lo, e depois veremos alguns exemplos:\n",
        "\n",
        "> Seja uma **amostra aleatória** ($x_1, x_2, \\cdots, x_n$) de uma variável aleatória $X$ com **qualquer distribuição**, média $\\mu$ e desvio padrão $\\sigma$. Para $n$ suficientemente grande ($n>30$), a **distribuição das médias amostrais**, $\\overline{X}$, se **aproxima de uma distribuição normal** com média $\\mu_{\\overline{x}} = \\mu$ e erro padrão $SE_{\\overline{X}} = \\frac{\\sigma}{\\sqrt{n}}$. Isto é, $$\\overline{X} \\sim N \\left(\\mu, \\frac{\\sigma}{\\sqrt{n}} \\right)$$\n",
        "OBS.: quando estamos falando do **estimador amostral do desvio padrão**, costumamos usar o termo **erro padrão** (standard error), denotado $SE$.\n",
        "\n",
        "O que o TLC para as médias diz, essencialmente, é:\n",
        "\n",
        "> A distribuição de **médias das amostras** tiradas de **qualquer distribuição populacional** será **aproximadamente normal**, contanto que fizermos uma quantidade razoável de amostras com tamanho amostral $n>30$.\n",
        "\n",
        "E isso é um resultado fantástico, pois nos permite a construção de uma **distribuição normal**, para a qual vale uma série de resultados e teoremas, a partir de **qualquer distribuição populacional**!"
      ]
    },
    {
      "cell_type": "markdown",
      "id": "7a345c34",
      "metadata": {
        "id": "7a345c34"
      },
      "source": [
        "Uma outras palavras, também podemos definir:\n",
        "\n",
        "Seja uma amostra aleatória ($x_1, x_2, \\cdots, x_n$) de uma variável aleatória $X$ com **qualquer distribuição**, média $\\mu$ e desvio padrão $\\sigma$. A medida que $n$ cresce, a distribuição de probabilidade da média amostral, $\\overline{X}$, se aproxima de uma Normal com média $\\mu$ e desvio padrão $\\frac{\\sigma}{\\sqrt{n}}$. Isto é $\\overline{X} \\sim N (\\mu, \\sigma^2/n)$. Se a transformação a baixo for realizada, então $Z \\sim N (0,1)$.\n",
        "\n",
        "$$Z = \\frac{\\overline{X} -\\mu}{\\sigma/\\sqrt{n}} $$\n",
        "\n",
        "\n",
        "$$\\sigma_\\bar{x} = \\frac{\\sigma}{\\sqrt{n}}$$\n",
        "\n",
        "O desvio padrão das médias amostrais é conhecido como **erro padrão da média**\n",
        "\n",
        "Conforme o tamanho da amostra cresce, o erro padrão diminu. O relacionamento entre o erro-padrão e o tamanho da amostra às vezes é chamado de regra da raiz quadrada de n: a fim de reduzir o erro-padrão em um fator de 2, o tamanho da amostra deve\n",
        "ser elevado em um fator de 4.\n",
        "\n",
        "Na prática, essa abordagem de coletar novas amostras para estimar o erro padrão não costuma ser viável (além de ser um desperdício estatístico).\n",
        "Felizmente, acontece que não é necessário extrair novas amostras. Em vez disso, você pode usar reamostras *bootstrap*. Na\n",
        "estatística moderna, o bootstrap se tornou o modo padrão de estimar o erro\u0002padrão. Pode ser usado para praticamente qualquer estatística e não se baseia no teorema de limite central ou outras suposições distribucionais."
      ]
    },
    {
      "cell_type": "markdown",
      "id": "ad634510",
      "metadata": {
        "id": "ad634510"
      },
      "source": [
        "Vamos entender como funciona a TLC!"
      ]
    },
    {
      "cell_type": "code",
      "source": [
        "# Vamos usar os dados da PNAD:\n",
        "\n",
        "# path = '/content/drive/MyDrive/AdaTech/Estatística I/pnad_2015.csv'"
      ],
      "metadata": {
        "id": "aV4ubIsWtwTr"
      },
      "id": "aV4ubIsWtwTr",
      "execution_count": 193,
      "outputs": []
    },
    {
      "cell_type": "code",
      "source": [
        "# Shape do dataframe pnad:\n",
        "\n"
      ],
      "metadata": {
        "id": "771ULwGuxSVO"
      },
      "id": "771ULwGuxSVO",
      "execution_count": 194,
      "outputs": []
    },
    {
      "cell_type": "code",
      "source": [
        "# Histograma da variável idade:\n",
        "\n"
      ],
      "metadata": {
        "id": "BMen4oWut4jB"
      },
      "id": "BMen4oWut4jB",
      "execution_count": 195,
      "outputs": []
    },
    {
      "cell_type": "markdown",
      "id": "8d43b65c",
      "metadata": {
        "id": "8d43b65c"
      },
      "source": [
        "> O Teorema do Limite Central afirma que, **com o aumento do tamanho da amostra, a distribuição das médias amostrais se aproxima de uma distribuição normal** com média igual à média da população e desvio padrão igual ao desvio padrão da variável original dividido pela raiz quadrada do tamanho da amostra. Este fato é assegurado para n maior ou igual a 30."
      ]
    },
    {
      "cell_type": "code",
      "source": [
        "# Média e desvio padrão populacional:\n",
        "\n"
      ],
      "metadata": {
        "id": "hJgKXiZgupxr"
      },
      "id": "hJgKXiZgupxr",
      "execution_count": 196,
      "outputs": []
    },
    {
      "cell_type": "markdown",
      "source": [
        "A ideia é trabalharmos com 1000 amostras de 3000 elementos (*n*)!"
      ],
      "metadata": {
        "id": "TVUeQj1Lu60-"
      },
      "id": "TVUeQj1Lu60-"
    },
    {
      "cell_type": "code",
      "source": [
        "# tamanho da amostra\n"
      ],
      "metadata": {
        "id": "xPPaAOYhvb03"
      },
      "id": "xPPaAOYhvb03",
      "execution_count": 197,
      "outputs": []
    },
    {
      "cell_type": "code",
      "execution_count": 198,
      "id": "44a3a5ef",
      "metadata": {
        "ExecuteTime": {
          "end_time": "2021-12-07T00:06:19.175454Z",
          "start_time": "2021-12-07T00:06:19.157466Z"
        },
        "id": "44a3a5ef"
      },
      "outputs": [],
      "source": [
        "# Nomeia-se cada coluna pelo número da amostra:\n",
        "\n"
      ]
    },
    {
      "cell_type": "code",
      "execution_count": 198,
      "id": "0caa2d13",
      "metadata": {
        "ExecuteTime": {
          "end_time": "2021-12-07T00:05:47.816444Z",
          "start_time": "2021-12-07T00:05:47.799489Z"
        },
        "scrolled": true,
        "id": "0caa2d13"
      },
      "outputs": [],
      "source": []
    },
    {
      "cell_type": "code",
      "execution_count": 199,
      "id": "f0b65461",
      "metadata": {
        "ExecuteTime": {
          "end_time": "2021-12-07T00:05:50.240491Z",
          "start_time": "2021-12-07T00:05:50.204548Z"
        },
        "scrolled": true,
        "id": "f0b65461"
      },
      "outputs": [],
      "source": [
        "# As médias das amostras são calculadas:\n",
        "\n"
      ]
    },
    {
      "cell_type": "code",
      "execution_count": 200,
      "id": "a8d47fcf",
      "metadata": {
        "ExecuteTime": {
          "end_time": "2021-12-07T00:06:23.749722Z",
          "start_time": "2021-12-07T00:06:23.720806Z"
        },
        "id": "a8d47fcf"
      },
      "outputs": [],
      "source": [
        "# Menor e maior médias amostrais:\n",
        "\n"
      ]
    },
    {
      "cell_type": "code",
      "execution_count": 201,
      "id": "8200099d",
      "metadata": {
        "ExecuteTime": {
          "end_time": "2021-12-07T00:06:26.294337Z",
          "start_time": "2021-12-07T00:06:26.106123Z"
        },
        "id": "8200099d"
      },
      "outputs": [],
      "source": [
        "# Histograma das médias amostrais:\n",
        "\n"
      ]
    },
    {
      "cell_type": "markdown",
      "id": "50b01f1a",
      "metadata": {
        "id": "50b01f1a"
      },
      "source": [
        "> O Teorema do Limite Central afirma que, com o aumento do tamanho da amostra, a distribuição das médias amostrais se aproxima de uma distribuição normal **com média igual à média da população** e desvio padrão igual ao desvio padrão da variável original dividido pela raiz quadrada do tamanho da amostra. Este fato é assegurado para n maior ou igual a 30."
      ]
    },
    {
      "cell_type": "code",
      "execution_count": 202,
      "id": "2e60b5fd",
      "metadata": {
        "ExecuteTime": {
          "end_time": "2021-12-07T00:06:52.463437Z",
          "start_time": "2021-12-07T00:06:52.453437Z"
        },
        "id": "2e60b5fd"
      },
      "outputs": [],
      "source": [
        "# Média e desvio padrão das médias amostrais:\n",
        "\n"
      ]
    },
    {
      "cell_type": "code",
      "source": [],
      "metadata": {
        "id": "7IKXruYw1jCJ"
      },
      "id": "7IKXruYw1jCJ",
      "execution_count": 202,
      "outputs": []
    },
    {
      "cell_type": "markdown",
      "id": "aee097a1",
      "metadata": {
        "id": "aee097a1"
      },
      "source": [
        "> O Teorema do Limite Central afirma que, com o aumento do tamanho da amostra, a distribuição das médias amostrais se aproxima de uma distribuição normal com média igual à média da população e **desvio padrão igual ao desvio padrão da variável original dividido pela raiz quadrada do tamanho da amostra**. Este fato é assegurado para n maior ou igual a 30.\n",
        "\n",
        "$$\\sigma_\\bar{x} = \\frac{\\sigma}{\\sqrt{n}}$$"
      ]
    },
    {
      "cell_type": "code",
      "execution_count": 203,
      "id": "e94bf94a",
      "metadata": {
        "ExecuteTime": {
          "end_time": "2021-12-07T00:11:33.831077Z",
          "start_time": "2021-12-07T00:11:33.812129Z"
        },
        "id": "e94bf94a"
      },
      "outputs": [],
      "source": [
        "# Sobre os devios padrão:\n",
        "\n"
      ]
    },
    {
      "cell_type": "markdown",
      "source": [
        "$$\\sigma = \\sigma_\\bar{x} * \\sqrt{n}$$"
      ],
      "metadata": {
        "id": "tUA3M0YM3GQx"
      },
      "id": "tUA3M0YM3GQx"
    },
    {
      "cell_type": "code",
      "source": [],
      "metadata": {
        "id": "XVHgsvVY3ZHY"
      },
      "id": "XVHgsvVY3ZHY",
      "execution_count": 203,
      "outputs": []
    },
    {
      "cell_type": "markdown",
      "id": "ab53871d",
      "metadata": {
        "id": "ab53871d"
      },
      "source": [
        "**Gráfico QQ**\n",
        "\n",
        "Um gráfico para visualizar quão próxima uma distribuição amostral está de uma distribuição\n",
        "normal.\n",
        "\n",
        "O gráfico QQ ordena os escores z de\n",
        "baixos a altos e registra cada valor do escore z no eixo y, e o eixo x é o\n",
        "quantil correspondente a uma distribuição normal para a posição daquele\n",
        "valor. Como os dados estão normalizados, as unidades correspondem a um\n",
        "número de desvios-padrão dos dados da média"
      ]
    },
    {
      "cell_type": "code",
      "execution_count": 204,
      "id": "892ce4e1",
      "metadata": {
        "ExecuteTime": {
          "end_time": "2021-12-07T00:12:46.593664Z",
          "start_time": "2021-12-07T00:12:46.440076Z"
        },
        "scrolled": true,
        "id": "892ce4e1"
      },
      "outputs": [],
      "source": [
        "# Import statsmodels.api:\n",
        "\n"
      ]
    },
    {
      "cell_type": "code",
      "source": [],
      "metadata": {
        "id": "tW_mdvAS7fNS"
      },
      "id": "tW_mdvAS7fNS",
      "execution_count": 204,
      "outputs": []
    },
    {
      "cell_type": "code",
      "source": [
        "# Para testar com distribuição normal:\n",
        "\n"
      ],
      "metadata": {
        "id": "LY-vu08h8EcJ"
      },
      "id": "LY-vu08h8EcJ",
      "execution_count": 205,
      "outputs": []
    },
    {
      "cell_type": "code",
      "execution_count": 205,
      "id": "6156c477",
      "metadata": {
        "ExecuteTime": {
          "end_time": "2021-12-07T00:12:05.070004Z",
          "start_time": "2021-12-07T00:12:04.754159Z"
        },
        "id": "6156c477"
      },
      "outputs": [],
      "source": []
    },
    {
      "cell_type": "code",
      "execution_count": 205,
      "id": "048d8611",
      "metadata": {
        "ExecuteTime": {
          "end_time": "2021-10-23T15:02:17.019682Z",
          "start_time": "2021-10-23T15:01:21.730Z"
        },
        "id": "048d8611"
      },
      "outputs": [],
      "source": []
    },
    {
      "cell_type": "markdown",
      "id": "5bd458f1",
      "metadata": {
        "id": "5bd458f1"
      },
      "source": [
        "Tabelas de frequência, histogramas, boxplots e erros-padrão são todos meios\n",
        "de entender o potencial erro de uma estimativa de amostra. **Intervalos de\n",
        "confiança** são outro.\n",
        "\n",
        "**Nível de confiança**:\n",
        "\n",
        "A porcentagem de intervalos de confiança, construída da mesma forma e de uma mesma\n",
        "população, em que se espera que haja a estatística de interesse.\n",
        "\n",
        "**Extremidades de intervalo**:  \n",
        "\n",
        "O topo e a base do intervalo de confiança"
      ]
    },
    {
      "cell_type": "markdown",
      "id": "68935cf6",
      "metadata": {
        "id": "68935cf6"
      },
      "source": [
        "## 5 Níveis de confiança e significância\n",
        "\n",
        "\n",
        "###  5.1 Definições\n",
        "O **nível de confiança** ($1 - \\alpha$) representa a probabilidade de acerto da estimativa. De forma complementar o **nível de significância** ($\\alpha$) expressa a probabilidade de erro da estimativa.\n",
        "\n",
        "O **nível de confiança** representa o grau de confiabilidade do resultado da estimativa estar dentro de determinado intervalo. Quando fixamos em uma pesquisa um **nível de confiança** de 95%, por exemplo, estamos assumindo que existe uma probabilidade de 95% dos resultados da pesquisa representarem bem a realidade, ou seja, estarem corretos.\n",
        "\n",
        "O **nível de confiança** de uma estimativa pode ser obtido a partir da área sob a curva normal como ilustrado na figura abaixo.\n",
        "\n",
        "![alt text](https://caelum-online-public.s3.amazonaws.com/1178-estatistica-parte2/01/img007.png)\n",
        "\n",
        "Para um cientista de dados, um intervalo de confiança é uma ferramenta para ter uma\n",
        "ideia de quão variável o resultado da amostra pode ser. Os cientistas de dados não\n",
        "utilizariam essa informação para publicar um artigo acadêmico ou submeter um resultado\n",
        "a uma agência regulatória (como um pesquisador poderia fazer), mas provavelmente para\n",
        "comunicar o potencial erro em uma estimativa e, talvez, entender se uma amostra maior é\n",
        "necessária.\n",
        "\n",
        "\n",
        "\n",
        "\n",
        "\n",
        "### 5.2  Erro inferencial\n",
        "***\n",
        "\n",
        "O **erro inferencial** é definido pelo **desvio padrão das médias amostrais** $\\sigma_\\bar{x}$ e pelo **nível de confiança** determinado para o processo.\n",
        "\n",
        "# $$e = z \\frac{\\sigma}{\\sqrt{n}}$$\n",
        "\n",
        "\n",
        "#### Tamanho da amostra:\n",
        "$$n = (\\frac{z \\sigma}{e})^2$$\n",
        "\n",
        "##  Intervalos de confiança\n",
        "***\n",
        "\n",
        "### Intervalo de confiança para a média da população\n",
        "\n",
        "#### Com desvio padrão populacional conhecido\n",
        "\n",
        "## $$\\mu = \\bar{x} \\pm z\\frac{\\sigma}{\\sqrt{n}}$$\n",
        "\n",
        "#### Com desvio padrão populacional desconhecido\n",
        "\n",
        "## $$\\mu = \\bar{x} \\pm z\\frac{s}{\\sqrt{n}}$$\n",
        "\n",
        "### Exemplo\n",
        "\n",
        "Suponha que os pesos dos sacos de arroz de uma indústria alimentícia se distribuem aproximadamente como uma normal de **desvio padrão populacional igual a 150 g**. Selecionada uma **amostra aleatória de 30 sacos** de um lote específico, obteve-se um **peso médio de 5.050 g**. Construa um intervalo de confiança para a **média populacional** assumindo um **nível de significância de 5%**."
      ]
    },
    {
      "cell_type": "code",
      "execution_count": 206,
      "id": "b411810f",
      "metadata": {
        "ExecuteTime": {
          "end_time": "2021-12-07T00:39:59.697215Z",
          "start_time": "2021-12-07T00:39:59.603459Z"
        },
        "id": "b411810f"
      },
      "outputs": [],
      "source": [
        "# Dados do enunciado\n",
        "\n"
      ]
    },
    {
      "cell_type": "markdown",
      "source": [
        "![image.png](data:image/png;base64,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)"
      ],
      "metadata": {
        "id": "kz4DhswmpPvZ"
      },
      "id": "kz4DhswmpPvZ"
    },
    {
      "cell_type": "code",
      "source": [
        "# Definindo o valor de Z:\n"
      ],
      "metadata": {
        "id": "4TBoi42bmGSR"
      },
      "id": "4TBoi42bmGSR",
      "execution_count": 207,
      "outputs": []
    },
    {
      "cell_type": "code",
      "execution_count": 208,
      "id": "7b931f26",
      "metadata": {
        "ExecuteTime": {
          "end_time": "2021-12-07T00:41:53.613048Z",
          "start_time": "2021-12-07T00:41:53.604071Z"
        },
        "id": "7b931f26"
      },
      "outputs": [],
      "source": [
        "#Solução\n"
      ]
    },
    {
      "cell_type": "code",
      "source": [
        "# Com a scipy:\n"
      ],
      "metadata": {
        "id": "mQJ5P735wlGW"
      },
      "id": "mQJ5P735wlGW",
      "execution_count": 209,
      "outputs": []
    },
    {
      "cell_type": "markdown",
      "source": [
        "Na tabela abaixo, segue uma relação de valores que normalmente são utilizados para nível de confiança, com a probabilidade e o Z-score:\n",
        "\n",
        "![image.png](data:image/png;base64,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)\n"
      ],
      "metadata": {
        "id": "Jw2PwcCBtP8X"
      },
      "id": "Jw2PwcCBtP8X"
    },
    {
      "cell_type": "code",
      "execution_count": 210,
      "id": "435abc75",
      "metadata": {
        "ExecuteTime": {
          "end_time": "2021-12-07T02:36:06.360849Z",
          "start_time": "2021-12-07T02:36:06.273191Z"
        },
        "id": "435abc75"
      },
      "outputs": [],
      "source": [
        "# Outra forma de construir a tabela normal padrão\n",
        "\n",
        "from scipy.stats import norm\n",
        "\n",
        "tabela_normal_padronizada = pd.DataFrame(\n",
        "    [],\n",
        "    index=[\"{0:0.2f}\".format(i / 100) for i in range(0, 400, 10)],\n",
        "    columns = [\"{0:0.2f}\".format(i / 100) for i in range(0, 10)])\n",
        "\n",
        "for index in tabela_normal_padronizada.index:\n",
        "    for column in tabela_normal_padronizada.columns:\n",
        "        Z = np.round(float(index) + float(column), 2)\n",
        "        tabela_normal_padronizada.loc[index, column] = \"{0:0.4f}\".format(norm.cdf(Z) - 0.5)\n",
        "\n",
        "tabela_normal_padronizada.rename_axis('Z', axis = 'columns', inplace = True)"
      ]
    },
    {
      "cell_type": "code",
      "execution_count": 211,
      "id": "0d99f20b",
      "metadata": {
        "ExecuteTime": {
          "end_time": "2021-12-07T02:33:14.843157Z",
          "start_time": "2021-12-07T02:33:14.825238Z"
        },
        "scrolled": true,
        "id": "0d99f20b",
        "outputId": "cacb1d63-f07a-4525-c086-916cea1f59a6",
        "colab": {
          "base_uri": "https://localhost:8080/",
          "height": 1000
        }
      },
      "outputs": [
        {
          "output_type": "execute_result",
          "data": {
            "text/plain": [
              "Z       0.00    0.01    0.02    0.03    0.04    0.05    0.06    0.07    0.08  \\\n",
              "0.00  0.0000  0.0040  0.0080  0.0120  0.0160  0.0199  0.0239  0.0279  0.0319   \n",
              "0.10  0.0398  0.0438  0.0478  0.0517  0.0557  0.0596  0.0636  0.0675  0.0714   \n",
              "0.20  0.0793  0.0832  0.0871  0.0910  0.0948  0.0987  0.1026  0.1064  0.1103   \n",
              "0.30  0.1179  0.1217  0.1255  0.1293  0.1331  0.1368  0.1406  0.1443  0.1480   \n",
              "0.40  0.1554  0.1591  0.1628  0.1664  0.1700  0.1736  0.1772  0.1808  0.1844   \n",
              "0.50  0.1915  0.1950  0.1985  0.2019  0.2054  0.2088  0.2123  0.2157  0.2190   \n",
              "0.60  0.2257  0.2291  0.2324  0.2357  0.2389  0.2422  0.2454  0.2486  0.2517   \n",
              "0.70  0.2580  0.2611  0.2642  0.2673  0.2704  0.2734  0.2764  0.2794  0.2823   \n",
              "0.80  0.2881  0.2910  0.2939  0.2967  0.2995  0.3023  0.3051  0.3078  0.3106   \n",
              "0.90  0.3159  0.3186  0.3212  0.3238  0.3264  0.3289  0.3315  0.3340  0.3365   \n",
              "1.00  0.3413  0.3438  0.3461  0.3485  0.3508  0.3531  0.3554  0.3577  0.3599   \n",
              "1.10  0.3643  0.3665  0.3686  0.3708  0.3729  0.3749  0.3770  0.3790  0.3810   \n",
              "1.20  0.3849  0.3869  0.3888  0.3907  0.3925  0.3944  0.3962  0.3980  0.3997   \n",
              "1.30  0.4032  0.4049  0.4066  0.4082  0.4099  0.4115  0.4131  0.4147  0.4162   \n",
              "1.40  0.4192  0.4207  0.4222  0.4236  0.4251  0.4265  0.4279  0.4292  0.4306   \n",
              "1.50  0.4332  0.4345  0.4357  0.4370  0.4382  0.4394  0.4406  0.4418  0.4429   \n",
              "1.60  0.4452  0.4463  0.4474  0.4484  0.4495  0.4505  0.4515  0.4525  0.4535   \n",
              "1.70  0.4554  0.4564  0.4573  0.4582  0.4591  0.4599  0.4608  0.4616  0.4625   \n",
              "1.80  0.4641  0.4649  0.4656  0.4664  0.4671  0.4678  0.4686  0.4693  0.4699   \n",
              "1.90  0.4713  0.4719  0.4726  0.4732  0.4738  0.4744  0.4750  0.4756  0.4761   \n",
              "2.00  0.4772  0.4778  0.4783  0.4788  0.4793  0.4798  0.4803  0.4808  0.4812   \n",
              "2.10  0.4821  0.4826  0.4830  0.4834  0.4838  0.4842  0.4846  0.4850  0.4854   \n",
              "2.20  0.4861  0.4864  0.4868  0.4871  0.4875  0.4878  0.4881  0.4884  0.4887   \n",
              "2.30  0.4893  0.4896  0.4898  0.4901  0.4904  0.4906  0.4909  0.4911  0.4913   \n",
              "2.40  0.4918  0.4920  0.4922  0.4925  0.4927  0.4929  0.4931  0.4932  0.4934   \n",
              "2.50  0.4938  0.4940  0.4941  0.4943  0.4945  0.4946  0.4948  0.4949  0.4951   \n",
              "2.60  0.4953  0.4955  0.4956  0.4957  0.4959  0.4960  0.4961  0.4962  0.4963   \n",
              "2.70  0.4965  0.4966  0.4967  0.4968  0.4969  0.4970  0.4971  0.4972  0.4973   \n",
              "2.80  0.4974  0.4975  0.4976  0.4977  0.4977  0.4978  0.4979  0.4979  0.4980   \n",
              "2.90  0.4981  0.4982  0.4982  0.4983  0.4984  0.4984  0.4985  0.4985  0.4986   \n",
              "3.00  0.4987  0.4987  0.4987  0.4988  0.4988  0.4989  0.4989  0.4989  0.4990   \n",
              "3.10  0.4990  0.4991  0.4991  0.4991  0.4992  0.4992  0.4992  0.4992  0.4993   \n",
              "3.20  0.4993  0.4993  0.4994  0.4994  0.4994  0.4994  0.4994  0.4995  0.4995   \n",
              "3.30  0.4995  0.4995  0.4995  0.4996  0.4996  0.4996  0.4996  0.4996  0.4996   \n",
              "3.40  0.4997  0.4997  0.4997  0.4997  0.4997  0.4997  0.4997  0.4997  0.4997   \n",
              "3.50  0.4998  0.4998  0.4998  0.4998  0.4998  0.4998  0.4998  0.4998  0.4998   \n",
              "3.60  0.4998  0.4998  0.4999  0.4999  0.4999  0.4999  0.4999  0.4999  0.4999   \n",
              "3.70  0.4999  0.4999  0.4999  0.4999  0.4999  0.4999  0.4999  0.4999  0.4999   \n",
              "3.80  0.4999  0.4999  0.4999  0.4999  0.4999  0.4999  0.4999  0.4999  0.4999   \n",
              "3.90  0.5000  0.5000  0.5000  0.5000  0.5000  0.5000  0.5000  0.5000  0.5000   \n",
              "\n",
              "Z       0.09  \n",
              "0.00  0.0359  \n",
              "0.10  0.0753  \n",
              "0.20  0.1141  \n",
              "0.30  0.1517  \n",
              "0.40  0.1879  \n",
              "0.50  0.2224  \n",
              "0.60  0.2549  \n",
              "0.70  0.2852  \n",
              "0.80  0.3133  \n",
              "0.90  0.3389  \n",
              "1.00  0.3621  \n",
              "1.10  0.3830  \n",
              "1.20  0.4015  \n",
              "1.30  0.4177  \n",
              "1.40  0.4319  \n",
              "1.50  0.4441  \n",
              "1.60  0.4545  \n",
              "1.70  0.4633  \n",
              "1.80  0.4706  \n",
              "1.90  0.4767  \n",
              "2.00  0.4817  \n",
              "2.10  0.4857  \n",
              "2.20  0.4890  \n",
              "2.30  0.4916  \n",
              "2.40  0.4936  \n",
              "2.50  0.4952  \n",
              "2.60  0.4964  \n",
              "2.70  0.4974  \n",
              "2.80  0.4981  \n",
              "2.90  0.4986  \n",
              "3.00  0.4990  \n",
              "3.10  0.4993  \n",
              "3.20  0.4995  \n",
              "3.30  0.4997  \n",
              "3.40  0.4998  \n",
              "3.50  0.4998  \n",
              "3.60  0.4999  \n",
              "3.70  0.4999  \n",
              "3.80  0.4999  \n",
              "3.90  0.5000  "
            ],
            "text/html": [
              "\n",
              "  <div id=\"df-d7615bc8-ffe2-4f65-8489-765dc3e32599\" class=\"colab-df-container\">\n",
              "    <div>\n",
              "<style scoped>\n",
              "    .dataframe tbody tr th:only-of-type {\n",
              "        vertical-align: middle;\n",
              "    }\n",
              "\n",
              "    .dataframe tbody tr th {\n",
              "        vertical-align: top;\n",
              "    }\n",
              "\n",
              "    .dataframe thead th {\n",
              "        text-align: right;\n",
              "    }\n",
              "</style>\n",
              "<table border=\"1\" class=\"dataframe\">\n",
              "  <thead>\n",
              "    <tr style=\"text-align: right;\">\n",
              "      <th>Z</th>\n",
              "      <th>0.00</th>\n",
              "      <th>0.01</th>\n",
              "      <th>0.02</th>\n",
              "      <th>0.03</th>\n",
              "      <th>0.04</th>\n",
              "      <th>0.05</th>\n",
              "      <th>0.06</th>\n",
              "      <th>0.07</th>\n",
              "      <th>0.08</th>\n",
              "      <th>0.09</th>\n",
              "    </tr>\n",
              "  </thead>\n",
              "  <tbody>\n",
              "    <tr>\n",
              "      <th>0.00</th>\n",
              "      <td>0.0000</td>\n",
              "      <td>0.0040</td>\n",
              "      <td>0.0080</td>\n",
              "      <td>0.0120</td>\n",
              "      <td>0.0160</td>\n",
              "      <td>0.0199</td>\n",
              "      <td>0.0239</td>\n",
              "      <td>0.0279</td>\n",
              "      <td>0.0319</td>\n",
              "      <td>0.0359</td>\n",
              "    </tr>\n",
              "    <tr>\n",
              "      <th>0.10</th>\n",
              "      <td>0.0398</td>\n",
              "      <td>0.0438</td>\n",
              "      <td>0.0478</td>\n",
              "      <td>0.0517</td>\n",
              "      <td>0.0557</td>\n",
              "      <td>0.0596</td>\n",
              "      <td>0.0636</td>\n",
              "      <td>0.0675</td>\n",
              "      <td>0.0714</td>\n",
              "      <td>0.0753</td>\n",
              "    </tr>\n",
              "    <tr>\n",
              "      <th>0.20</th>\n",
              "      <td>0.0793</td>\n",
              "      <td>0.0832</td>\n",
              "      <td>0.0871</td>\n",
              "      <td>0.0910</td>\n",
              "      <td>0.0948</td>\n",
              "      <td>0.0987</td>\n",
              "      <td>0.1026</td>\n",
              "      <td>0.1064</td>\n",
              "      <td>0.1103</td>\n",
              "      <td>0.1141</td>\n",
              "    </tr>\n",
              "    <tr>\n",
              "      <th>0.30</th>\n",
              "      <td>0.1179</td>\n",
              "      <td>0.1217</td>\n",
              "      <td>0.1255</td>\n",
              "      <td>0.1293</td>\n",
              "      <td>0.1331</td>\n",
              "      <td>0.1368</td>\n",
              "      <td>0.1406</td>\n",
              "      <td>0.1443</td>\n",
              "      <td>0.1480</td>\n",
              "      <td>0.1517</td>\n",
              "    </tr>\n",
              "    <tr>\n",
              "      <th>0.40</th>\n",
              "      <td>0.1554</td>\n",
              "      <td>0.1591</td>\n",
              "      <td>0.1628</td>\n",
              "      <td>0.1664</td>\n",
              "      <td>0.1700</td>\n",
              "      <td>0.1736</td>\n",
              "      <td>0.1772</td>\n",
              "      <td>0.1808</td>\n",
              "      <td>0.1844</td>\n",
              "      <td>0.1879</td>\n",
              "    </tr>\n",
              "    <tr>\n",
              "      <th>0.50</th>\n",
              "      <td>0.1915</td>\n",
              "      <td>0.1950</td>\n",
              "      <td>0.1985</td>\n",
              "      <td>0.2019</td>\n",
              "      <td>0.2054</td>\n",
              "      <td>0.2088</td>\n",
              "      <td>0.2123</td>\n",
              "      <td>0.2157</td>\n",
              "      <td>0.2190</td>\n",
              "      <td>0.2224</td>\n",
              "    </tr>\n",
              "    <tr>\n",
              "      <th>0.60</th>\n",
              "      <td>0.2257</td>\n",
              "      <td>0.2291</td>\n",
              "      <td>0.2324</td>\n",
              "      <td>0.2357</td>\n",
              "      <td>0.2389</td>\n",
              "      <td>0.2422</td>\n",
              "      <td>0.2454</td>\n",
              "      <td>0.2486</td>\n",
              "      <td>0.2517</td>\n",
              "      <td>0.2549</td>\n",
              "    </tr>\n",
              "    <tr>\n",
              "      <th>0.70</th>\n",
              "      <td>0.2580</td>\n",
              "      <td>0.2611</td>\n",
              "      <td>0.2642</td>\n",
              "      <td>0.2673</td>\n",
              "      <td>0.2704</td>\n",
              "      <td>0.2734</td>\n",
              "      <td>0.2764</td>\n",
              "      <td>0.2794</td>\n",
              "      <td>0.2823</td>\n",
              "      <td>0.2852</td>\n",
              "    </tr>\n",
              "    <tr>\n",
              "      <th>0.80</th>\n",
              "      <td>0.2881</td>\n",
              "      <td>0.2910</td>\n",
              "      <td>0.2939</td>\n",
              "      <td>0.2967</td>\n",
              "      <td>0.2995</td>\n",
              "      <td>0.3023</td>\n",
              "      <td>0.3051</td>\n",
              "      <td>0.3078</td>\n",
              "      <td>0.3106</td>\n",
              "      <td>0.3133</td>\n",
              "    </tr>\n",
              "    <tr>\n",
              "      <th>0.90</th>\n",
              "      <td>0.3159</td>\n",
              "      <td>0.3186</td>\n",
              "      <td>0.3212</td>\n",
              "      <td>0.3238</td>\n",
              "      <td>0.3264</td>\n",
              "      <td>0.3289</td>\n",
              "      <td>0.3315</td>\n",
              "      <td>0.3340</td>\n",
              "      <td>0.3365</td>\n",
              "      <td>0.3389</td>\n",
              "    </tr>\n",
              "    <tr>\n",
              "      <th>1.00</th>\n",
              "      <td>0.3413</td>\n",
              "      <td>0.3438</td>\n",
              "      <td>0.3461</td>\n",
              "      <td>0.3485</td>\n",
              "      <td>0.3508</td>\n",
              "      <td>0.3531</td>\n",
              "      <td>0.3554</td>\n",
              "      <td>0.3577</td>\n",
              "      <td>0.3599</td>\n",
              "      <td>0.3621</td>\n",
              "    </tr>\n",
              "    <tr>\n",
              "      <th>1.10</th>\n",
              "      <td>0.3643</td>\n",
              "      <td>0.3665</td>\n",
              "      <td>0.3686</td>\n",
              "      <td>0.3708</td>\n",
              "      <td>0.3729</td>\n",
              "      <td>0.3749</td>\n",
              "      <td>0.3770</td>\n",
              "      <td>0.3790</td>\n",
              "      <td>0.3810</td>\n",
              "      <td>0.3830</td>\n",
              "    </tr>\n",
              "    <tr>\n",
              "      <th>1.20</th>\n",
              "      <td>0.3849</td>\n",
              "      <td>0.3869</td>\n",
              "      <td>0.3888</td>\n",
              "      <td>0.3907</td>\n",
              "      <td>0.3925</td>\n",
              "      <td>0.3944</td>\n",
              "      <td>0.3962</td>\n",
              "      <td>0.3980</td>\n",
              "      <td>0.3997</td>\n",
              "      <td>0.4015</td>\n",
              "    </tr>\n",
              "    <tr>\n",
              "      <th>1.30</th>\n",
              "      <td>0.4032</td>\n",
              "      <td>0.4049</td>\n",
              "      <td>0.4066</td>\n",
              "      <td>0.4082</td>\n",
              "      <td>0.4099</td>\n",
              "      <td>0.4115</td>\n",
              "      <td>0.4131</td>\n",
              "      <td>0.4147</td>\n",
              "      <td>0.4162</td>\n",
              "      <td>0.4177</td>\n",
              "    </tr>\n",
              "    <tr>\n",
              "      <th>1.40</th>\n",
              "      <td>0.4192</td>\n",
              "      <td>0.4207</td>\n",
              "      <td>0.4222</td>\n",
              "      <td>0.4236</td>\n",
              "      <td>0.4251</td>\n",
              "      <td>0.4265</td>\n",
              "      <td>0.4279</td>\n",
              "      <td>0.4292</td>\n",
              "      <td>0.4306</td>\n",
              "      <td>0.4319</td>\n",
              "    </tr>\n",
              "    <tr>\n",
              "      <th>1.50</th>\n",
              "      <td>0.4332</td>\n",
              "      <td>0.4345</td>\n",
              "      <td>0.4357</td>\n",
              "      <td>0.4370</td>\n",
              "      <td>0.4382</td>\n",
              "      <td>0.4394</td>\n",
              "      <td>0.4406</td>\n",
              "      <td>0.4418</td>\n",
              "      <td>0.4429</td>\n",
              "      <td>0.4441</td>\n",
              "    </tr>\n",
              "    <tr>\n",
              "      <th>1.60</th>\n",
              "      <td>0.4452</td>\n",
              "      <td>0.4463</td>\n",
              "      <td>0.4474</td>\n",
              "      <td>0.4484</td>\n",
              "      <td>0.4495</td>\n",
              "      <td>0.4505</td>\n",
              "      <td>0.4515</td>\n",
              "      <td>0.4525</td>\n",
              "      <td>0.4535</td>\n",
              "      <td>0.4545</td>\n",
              "    </tr>\n",
              "    <tr>\n",
              "      <th>1.70</th>\n",
              "      <td>0.4554</td>\n",
              "      <td>0.4564</td>\n",
              "      <td>0.4573</td>\n",
              "      <td>0.4582</td>\n",
              "      <td>0.4591</td>\n",
              "      <td>0.4599</td>\n",
              "      <td>0.4608</td>\n",
              "      <td>0.4616</td>\n",
              "      <td>0.4625</td>\n",
              "      <td>0.4633</td>\n",
              "    </tr>\n",
              "    <tr>\n",
              "      <th>1.80</th>\n",
              "      <td>0.4641</td>\n",
              "      <td>0.4649</td>\n",
              "      <td>0.4656</td>\n",
              "      <td>0.4664</td>\n",
              "      <td>0.4671</td>\n",
              "      <td>0.4678</td>\n",
              "      <td>0.4686</td>\n",
              "      <td>0.4693</td>\n",
              "      <td>0.4699</td>\n",
              "      <td>0.4706</td>\n",
              "    </tr>\n",
              "    <tr>\n",
              "      <th>1.90</th>\n",
              "      <td>0.4713</td>\n",
              "      <td>0.4719</td>\n",
              "      <td>0.4726</td>\n",
              "      <td>0.4732</td>\n",
              "      <td>0.4738</td>\n",
              "      <td>0.4744</td>\n",
              "      <td>0.4750</td>\n",
              "      <td>0.4756</td>\n",
              "      <td>0.4761</td>\n",
              "      <td>0.4767</td>\n",
              "    </tr>\n",
              "    <tr>\n",
              "      <th>2.00</th>\n",
              "      <td>0.4772</td>\n",
              "      <td>0.4778</td>\n",
              "      <td>0.4783</td>\n",
              "      <td>0.4788</td>\n",
              "      <td>0.4793</td>\n",
              "      <td>0.4798</td>\n",
              "      <td>0.4803</td>\n",
              "      <td>0.4808</td>\n",
              "      <td>0.4812</td>\n",
              "      <td>0.4817</td>\n",
              "    </tr>\n",
              "    <tr>\n",
              "      <th>2.10</th>\n",
              "      <td>0.4821</td>\n",
              "      <td>0.4826</td>\n",
              "      <td>0.4830</td>\n",
              "      <td>0.4834</td>\n",
              "      <td>0.4838</td>\n",
              "      <td>0.4842</td>\n",
              "      <td>0.4846</td>\n",
              "      <td>0.4850</td>\n",
              "      <td>0.4854</td>\n",
              "      <td>0.4857</td>\n",
              "    </tr>\n",
              "    <tr>\n",
              "      <th>2.20</th>\n",
              "      <td>0.4861</td>\n",
              "      <td>0.4864</td>\n",
              "      <td>0.4868</td>\n",
              "      <td>0.4871</td>\n",
              "      <td>0.4875</td>\n",
              "      <td>0.4878</td>\n",
              "      <td>0.4881</td>\n",
              "      <td>0.4884</td>\n",
              "      <td>0.4887</td>\n",
              "      <td>0.4890</td>\n",
              "    </tr>\n",
              "    <tr>\n",
              "      <th>2.30</th>\n",
              "      <td>0.4893</td>\n",
              "      <td>0.4896</td>\n",
              "      <td>0.4898</td>\n",
              "      <td>0.4901</td>\n",
              "      <td>0.4904</td>\n",
              "      <td>0.4906</td>\n",
              "      <td>0.4909</td>\n",
              "      <td>0.4911</td>\n",
              "      <td>0.4913</td>\n",
              "      <td>0.4916</td>\n",
              "    </tr>\n",
              "    <tr>\n",
              "      <th>2.40</th>\n",
              "      <td>0.4918</td>\n",
              "      <td>0.4920</td>\n",
              "      <td>0.4922</td>\n",
              "      <td>0.4925</td>\n",
              "      <td>0.4927</td>\n",
              "      <td>0.4929</td>\n",
              "      <td>0.4931</td>\n",
              "      <td>0.4932</td>\n",
              "      <td>0.4934</td>\n",
              "      <td>0.4936</td>\n",
              "    </tr>\n",
              "    <tr>\n",
              "      <th>2.50</th>\n",
              "      <td>0.4938</td>\n",
              "      <td>0.4940</td>\n",
              "      <td>0.4941</td>\n",
              "      <td>0.4943</td>\n",
              "      <td>0.4945</td>\n",
              "      <td>0.4946</td>\n",
              "      <td>0.4948</td>\n",
              "      <td>0.4949</td>\n",
              "      <td>0.4951</td>\n",
              "      <td>0.4952</td>\n",
              "    </tr>\n",
              "    <tr>\n",
              "      <th>2.60</th>\n",
              "      <td>0.4953</td>\n",
              "      <td>0.4955</td>\n",
              "      <td>0.4956</td>\n",
              "      <td>0.4957</td>\n",
              "      <td>0.4959</td>\n",
              "      <td>0.4960</td>\n",
              "      <td>0.4961</td>\n",
              "      <td>0.4962</td>\n",
              "      <td>0.4963</td>\n",
              "      <td>0.4964</td>\n",
              "    </tr>\n",
              "    <tr>\n",
              "      <th>2.70</th>\n",
              "      <td>0.4965</td>\n",
              "      <td>0.4966</td>\n",
              "      <td>0.4967</td>\n",
              "      <td>0.4968</td>\n",
              "      <td>0.4969</td>\n",
              "      <td>0.4970</td>\n",
              "      <td>0.4971</td>\n",
              "      <td>0.4972</td>\n",
              "      <td>0.4973</td>\n",
              "      <td>0.4974</td>\n",
              "    </tr>\n",
              "    <tr>\n",
              "      <th>2.80</th>\n",
              "      <td>0.4974</td>\n",
              "      <td>0.4975</td>\n",
              "      <td>0.4976</td>\n",
              "      <td>0.4977</td>\n",
              "      <td>0.4977</td>\n",
              "      <td>0.4978</td>\n",
              "      <td>0.4979</td>\n",
              "      <td>0.4979</td>\n",
              "      <td>0.4980</td>\n",
              "      <td>0.4981</td>\n",
              "    </tr>\n",
              "    <tr>\n",
              "      <th>2.90</th>\n",
              "      <td>0.4981</td>\n",
              "      <td>0.4982</td>\n",
              "      <td>0.4982</td>\n",
              "      <td>0.4983</td>\n",
              "      <td>0.4984</td>\n",
              "      <td>0.4984</td>\n",
              "      <td>0.4985</td>\n",
              "      <td>0.4985</td>\n",
              "      <td>0.4986</td>\n",
              "      <td>0.4986</td>\n",
              "    </tr>\n",
              "    <tr>\n",
              "      <th>3.00</th>\n",
              "      <td>0.4987</td>\n",
              "      <td>0.4987</td>\n",
              "      <td>0.4987</td>\n",
              "      <td>0.4988</td>\n",
              "      <td>0.4988</td>\n",
              "      <td>0.4989</td>\n",
              "      <td>0.4989</td>\n",
              "      <td>0.4989</td>\n",
              "      <td>0.4990</td>\n",
              "      <td>0.4990</td>\n",
              "    </tr>\n",
              "    <tr>\n",
              "      <th>3.10</th>\n",
              "      <td>0.4990</td>\n",
              "      <td>0.4991</td>\n",
              "      <td>0.4991</td>\n",
              "      <td>0.4991</td>\n",
              "      <td>0.4992</td>\n",
              "      <td>0.4992</td>\n",
              "      <td>0.4992</td>\n",
              "      <td>0.4992</td>\n",
              "      <td>0.4993</td>\n",
              "      <td>0.4993</td>\n",
              "    </tr>\n",
              "    <tr>\n",
              "      <th>3.20</th>\n",
              "      <td>0.4993</td>\n",
              "      <td>0.4993</td>\n",
              "      <td>0.4994</td>\n",
              "      <td>0.4994</td>\n",
              "      <td>0.4994</td>\n",
              "      <td>0.4994</td>\n",
              "      <td>0.4994</td>\n",
              "      <td>0.4995</td>\n",
              "      <td>0.4995</td>\n",
              "      <td>0.4995</td>\n",
              "    </tr>\n",
              "    <tr>\n",
              "      <th>3.30</th>\n",
              "      <td>0.4995</td>\n",
              "      <td>0.4995</td>\n",
              "      <td>0.4995</td>\n",
              "      <td>0.4996</td>\n",
              "      <td>0.4996</td>\n",
              "      <td>0.4996</td>\n",
              "      <td>0.4996</td>\n",
              "      <td>0.4996</td>\n",
              "      <td>0.4996</td>\n",
              "      <td>0.4997</td>\n",
              "    </tr>\n",
              "    <tr>\n",
              "      <th>3.40</th>\n",
              "      <td>0.4997</td>\n",
              "      <td>0.4997</td>\n",
              "      <td>0.4997</td>\n",
              "      <td>0.4997</td>\n",
              "      <td>0.4997</td>\n",
              "      <td>0.4997</td>\n",
              "      <td>0.4997</td>\n",
              "      <td>0.4997</td>\n",
              "      <td>0.4997</td>\n",
              "      <td>0.4998</td>\n",
              "    </tr>\n",
              "    <tr>\n",
              "      <th>3.50</th>\n",
              "      <td>0.4998</td>\n",
              "      <td>0.4998</td>\n",
              "      <td>0.4998</td>\n",
              "      <td>0.4998</td>\n",
              "      <td>0.4998</td>\n",
              "      <td>0.4998</td>\n",
              "      <td>0.4998</td>\n",
              "      <td>0.4998</td>\n",
              "      <td>0.4998</td>\n",
              "      <td>0.4998</td>\n",
              "    </tr>\n",
              "    <tr>\n",
              "      <th>3.60</th>\n",
              "      <td>0.4998</td>\n",
              "      <td>0.4998</td>\n",
              "      <td>0.4999</td>\n",
              "      <td>0.4999</td>\n",
              "      <td>0.4999</td>\n",
              "      <td>0.4999</td>\n",
              "      <td>0.4999</td>\n",
              "      <td>0.4999</td>\n",
              "      <td>0.4999</td>\n",
              "      <td>0.4999</td>\n",
              "    </tr>\n",
              "    <tr>\n",
              "      <th>3.70</th>\n",
              "      <td>0.4999</td>\n",
              "      <td>0.4999</td>\n",
              "      <td>0.4999</td>\n",
              "      <td>0.4999</td>\n",
              "      <td>0.4999</td>\n",
              "      <td>0.4999</td>\n",
              "      <td>0.4999</td>\n",
              "      <td>0.4999</td>\n",
              "      <td>0.4999</td>\n",
              "      <td>0.4999</td>\n",
              "    </tr>\n",
              "    <tr>\n",
              "      <th>3.80</th>\n",
              "      <td>0.4999</td>\n",
              "      <td>0.4999</td>\n",
              "      <td>0.4999</td>\n",
              "      <td>0.4999</td>\n",
              "      <td>0.4999</td>\n",
              "      <td>0.4999</td>\n",
              "      <td>0.4999</td>\n",
              "      <td>0.4999</td>\n",
              "      <td>0.4999</td>\n",
              "      <td>0.4999</td>\n",
              "    </tr>\n",
              "    <tr>\n",
              "      <th>3.90</th>\n",
              "      <td>0.5000</td>\n",
              "      <td>0.5000</td>\n",
              "      <td>0.5000</td>\n",
              "      <td>0.5000</td>\n",
              "      <td>0.5000</td>\n",
              "      <td>0.5000</td>\n",
              "      <td>0.5000</td>\n",
              "      <td>0.5000</td>\n",
              "      <td>0.5000</td>\n",
              "      <td>0.5000</td>\n",
              "    </tr>\n",
              "  </tbody>\n",
              "</table>\n",
              "</div>\n",
              "    <div class=\"colab-df-buttons\">\n",
              "\n",
              "  <div class=\"colab-df-container\">\n",
              "    <button class=\"colab-df-convert\" onclick=\"convertToInteractive('df-d7615bc8-ffe2-4f65-8489-765dc3e32599')\"\n",
              "            title=\"Convert this dataframe to an interactive table.\"\n",
              "            style=\"display:none;\">\n",
              "\n",
              "  <svg xmlns=\"http://www.w3.org/2000/svg\" height=\"24px\" viewBox=\"0 -960 960 960\">\n",
              "    <path d=\"M120-120v-720h720v720H120Zm60-500h600v-160H180v160Zm220 220h160v-160H400v160Zm0 220h160v-160H400v160ZM180-400h160v-160H180v160Zm440 0h160v-160H620v160ZM180-180h160v-160H180v160Zm440 0h160v-160H620v160Z\"/>\n",
              "  </svg>\n",
              "    </button>\n",
              "\n",
              "  <style>\n",
              "    .colab-df-container {\n",
              "      display:flex;\n",
              "      gap: 12px;\n",
              "    }\n",
              "\n",
              "    .colab-df-convert {\n",
              "      background-color: #E8F0FE;\n",
              "      border: none;\n",
              "      border-radius: 50%;\n",
              "      cursor: pointer;\n",
              "      display: none;\n",
              "      fill: #1967D2;\n",
              "      height: 32px;\n",
              "      padding: 0 0 0 0;\n",
              "      width: 32px;\n",
              "    }\n",
              "\n",
              "    .colab-df-convert:hover {\n",
              "      background-color: #E2EBFA;\n",
              "      box-shadow: 0px 1px 2px rgba(60, 64, 67, 0.3), 0px 1px 3px 1px rgba(60, 64, 67, 0.15);\n",
              "      fill: #174EA6;\n",
              "    }\n",
              "\n",
              "    .colab-df-buttons div {\n",
              "      margin-bottom: 4px;\n",
              "    }\n",
              "\n",
              "    [theme=dark] .colab-df-convert {\n",
              "      background-color: #3B4455;\n",
              "      fill: #D2E3FC;\n",
              "    }\n",
              "\n",
              "    [theme=dark] .colab-df-convert:hover {\n",
              "      background-color: #434B5C;\n",
              "      box-shadow: 0px 1px 3px 1px rgba(0, 0, 0, 0.15);\n",
              "      filter: drop-shadow(0px 1px 2px rgba(0, 0, 0, 0.3));\n",
              "      fill: #FFFFFF;\n",
              "    }\n",
              "  </style>\n",
              "\n",
              "    <script>\n",
              "      const buttonEl =\n",
              "        document.querySelector('#df-d7615bc8-ffe2-4f65-8489-765dc3e32599 button.colab-df-convert');\n",
              "      buttonEl.style.display =\n",
              "        google.colab.kernel.accessAllowed ? 'block' : 'none';\n",
              "\n",
              "      async function convertToInteractive(key) {\n",
              "        const element = document.querySelector('#df-d7615bc8-ffe2-4f65-8489-765dc3e32599');\n",
              "        const dataTable =\n",
              "          await google.colab.kernel.invokeFunction('convertToInteractive',\n",
              "                                                    [key], {});\n",
              "        if (!dataTable) return;\n",
              "\n",
              "        const docLinkHtml = 'Like what you see? Visit the ' +\n",
              "          '<a target=\"_blank\" href=https://colab.research.google.com/notebooks/data_table.ipynb>data table notebook</a>'\n",
              "          + ' to learn more about interactive tables.';\n",
              "        element.innerHTML = '';\n",
              "        dataTable['output_type'] = 'display_data';\n",
              "        await google.colab.output.renderOutput(dataTable, element);\n",
              "        const docLink = document.createElement('div');\n",
              "        docLink.innerHTML = docLinkHtml;\n",
              "        element.appendChild(docLink);\n",
              "      }\n",
              "    </script>\n",
              "  </div>\n",
              "\n",
              "\n",
              "<div id=\"df-bc3a4a68-fcf4-439e-b600-f4192d524351\">\n",
              "  <button class=\"colab-df-quickchart\" onclick=\"quickchart('df-bc3a4a68-fcf4-439e-b600-f4192d524351')\"\n",
              "            title=\"Suggest charts\"\n",
              "            style=\"display:none;\">\n",
              "\n",
              "<svg xmlns=\"http://www.w3.org/2000/svg\" height=\"24px\"viewBox=\"0 0 24 24\"\n",
              "     width=\"24px\">\n",
              "    <g>\n",
              "        <path d=\"M19 3H5c-1.1 0-2 .9-2 2v14c0 1.1.9 2 2 2h14c1.1 0 2-.9 2-2V5c0-1.1-.9-2-2-2zM9 17H7v-7h2v7zm4 0h-2V7h2v10zm4 0h-2v-4h2v4z\"/>\n",
              "    </g>\n",
              "</svg>\n",
              "  </button>\n",
              "\n",
              "<style>\n",
              "  .colab-df-quickchart {\n",
              "      --bg-color: #E8F0FE;\n",
              "      --fill-color: #1967D2;\n",
              "      --hover-bg-color: #E2EBFA;\n",
              "      --hover-fill-color: #174EA6;\n",
              "      --disabled-fill-color: #AAA;\n",
              "      --disabled-bg-color: #DDD;\n",
              "  }\n",
              "\n",
              "  [theme=dark] .colab-df-quickchart {\n",
              "      --bg-color: #3B4455;\n",
              "      --fill-color: #D2E3FC;\n",
              "      --hover-bg-color: #434B5C;\n",
              "      --hover-fill-color: #FFFFFF;\n",
              "      --disabled-bg-color: #3B4455;\n",
              "      --disabled-fill-color: #666;\n",
              "  }\n",
              "\n",
              "  .colab-df-quickchart {\n",
              "    background-color: var(--bg-color);\n",
              "    border: none;\n",
              "    border-radius: 50%;\n",
              "    cursor: pointer;\n",
              "    display: none;\n",
              "    fill: var(--fill-color);\n",
              "    height: 32px;\n",
              "    padding: 0;\n",
              "    width: 32px;\n",
              "  }\n",
              "\n",
              "  .colab-df-quickchart:hover {\n",
              "    background-color: var(--hover-bg-color);\n",
              "    box-shadow: 0 1px 2px rgba(60, 64, 67, 0.3), 0 1px 3px 1px rgba(60, 64, 67, 0.15);\n",
              "    fill: var(--button-hover-fill-color);\n",
              "  }\n",
              "\n",
              "  .colab-df-quickchart-complete:disabled,\n",
              "  .colab-df-quickchart-complete:disabled:hover {\n",
              "    background-color: var(--disabled-bg-color);\n",
              "    fill: var(--disabled-fill-color);\n",
              "    box-shadow: none;\n",
              "  }\n",
              "\n",
              "  .colab-df-spinner {\n",
              "    border: 2px solid var(--fill-color);\n",
              "    border-color: transparent;\n",
              "    border-bottom-color: var(--fill-color);\n",
              "    animation:\n",
              "      spin 1s steps(1) infinite;\n",
              "  }\n",
              "\n",
              "  @keyframes spin {\n",
              "    0% {\n",
              "      border-color: transparent;\n",
              "      border-bottom-color: var(--fill-color);\n",
              "      border-left-color: var(--fill-color);\n",
              "    }\n",
              "    20% {\n",
              "      border-color: transparent;\n",
              "      border-left-color: var(--fill-color);\n",
              "      border-top-color: var(--fill-color);\n",
              "    }\n",
              "    30% {\n",
              "      border-color: transparent;\n",
              "      border-left-color: var(--fill-color);\n",
              "      border-top-color: var(--fill-color);\n",
              "      border-right-color: var(--fill-color);\n",
              "    }\n",
              "    40% {\n",
              "      border-color: transparent;\n",
              "      border-right-color: var(--fill-color);\n",
              "      border-top-color: var(--fill-color);\n",
              "    }\n",
              "    60% {\n",
              "      border-color: transparent;\n",
              "      border-right-color: var(--fill-color);\n",
              "    }\n",
              "    80% {\n",
              "      border-color: transparent;\n",
              "      border-right-color: var(--fill-color);\n",
              "      border-bottom-color: var(--fill-color);\n",
              "    }\n",
              "    90% {\n",
              "      border-color: transparent;\n",
              "      border-bottom-color: var(--fill-color);\n",
              "    }\n",
              "  }\n",
              "</style>\n",
              "\n",
              "  <script>\n",
              "    async function quickchart(key) {\n",
              "      const quickchartButtonEl =\n",
              "        document.querySelector('#' + key + ' button');\n",
              "      quickchartButtonEl.disabled = true;  // To prevent multiple clicks.\n",
              "      quickchartButtonEl.classList.add('colab-df-spinner');\n",
              "      try {\n",
              "        const charts = await google.colab.kernel.invokeFunction(\n",
              "            'suggestCharts', [key], {});\n",
              "      } catch (error) {\n",
              "        console.error('Error during call to suggestCharts:', error);\n",
              "      }\n",
              "      quickchartButtonEl.classList.remove('colab-df-spinner');\n",
              "      quickchartButtonEl.classList.add('colab-df-quickchart-complete');\n",
              "    }\n",
              "    (() => {\n",
              "      let quickchartButtonEl =\n",
              "        document.querySelector('#df-bc3a4a68-fcf4-439e-b600-f4192d524351 button');\n",
              "      quickchartButtonEl.style.display =\n",
              "        google.colab.kernel.accessAllowed ? 'block' : 'none';\n",
              "    })();\n",
              "  </script>\n",
              "</div>\n",
              "\n",
              "  <div id=\"id_41f23652-d235-4e6b-aa47-27d6e9b526e8\">\n",
              "    <style>\n",
              "      .colab-df-generate {\n",
              "        background-color: #E8F0FE;\n",
              "        border: none;\n",
              "        border-radius: 50%;\n",
              "        cursor: pointer;\n",
              "        display: none;\n",
              "        fill: #1967D2;\n",
              "        height: 32px;\n",
              "        padding: 0 0 0 0;\n",
              "        width: 32px;\n",
              "      }\n",
              "\n",
              "      .colab-df-generate:hover {\n",
              "        background-color: #E2EBFA;\n",
              "        box-shadow: 0px 1px 2px rgba(60, 64, 67, 0.3), 0px 1px 3px 1px rgba(60, 64, 67, 0.15);\n",
              "        fill: #174EA6;\n",
              "      }\n",
              "\n",
              "      [theme=dark] .colab-df-generate {\n",
              "        background-color: #3B4455;\n",
              "        fill: #D2E3FC;\n",
              "      }\n",
              "\n",
              "      [theme=dark] .colab-df-generate:hover {\n",
              "        background-color: #434B5C;\n",
              "        box-shadow: 0px 1px 3px 1px rgba(0, 0, 0, 0.15);\n",
              "        filter: drop-shadow(0px 1px 2px rgba(0, 0, 0, 0.3));\n",
              "        fill: #FFFFFF;\n",
              "      }\n",
              "    </style>\n",
              "    <button class=\"colab-df-generate\" onclick=\"generateWithVariable('tabela_normal_padronizada')\"\n",
              "            title=\"Generate code using this dataframe.\"\n",
              "            style=\"display:none;\">\n",
              "\n",
              "  <svg xmlns=\"http://www.w3.org/2000/svg\" height=\"24px\"viewBox=\"0 0 24 24\"\n",
              "       width=\"24px\">\n",
              "    <path d=\"M7,19H8.4L18.45,9,17,7.55,7,17.6ZM5,21V16.75L18.45,3.32a2,2,0,0,1,2.83,0l1.4,1.43a1.91,1.91,0,0,1,.58,1.4,1.91,1.91,0,0,1-.58,1.4L9.25,21ZM18.45,9,17,7.55Zm-12,3A5.31,5.31,0,0,0,4.9,8.1,5.31,5.31,0,0,0,1,6.5,5.31,5.31,0,0,0,4.9,4.9,5.31,5.31,0,0,0,6.5,1,5.31,5.31,0,0,0,8.1,4.9,5.31,5.31,0,0,0,12,6.5,5.46,5.46,0,0,0,6.5,12Z\"/>\n",
              "  </svg>\n",
              "    </button>\n",
              "    <script>\n",
              "      (() => {\n",
              "      const buttonEl =\n",
              "        document.querySelector('#id_41f23652-d235-4e6b-aa47-27d6e9b526e8 button.colab-df-generate');\n",
              "      buttonEl.style.display =\n",
              "        google.colab.kernel.accessAllowed ? 'block' : 'none';\n",
              "\n",
              "      buttonEl.onclick = () => {\n",
              "        google.colab.notebook.generateWithVariable('tabela_normal_padronizada');\n",
              "      }\n",
              "      })();\n",
              "    </script>\n",
              "  </div>\n",
              "\n",
              "    </div>\n",
              "  </div>\n"
            ],
            "application/vnd.google.colaboratory.intrinsic+json": {
              "type": "dataframe",
              "variable_name": "tabela_normal_padronizada",
              "summary": "{\n  \"name\": \"tabela_normal_padronizada\",\n  \"rows\": 40,\n  \"fields\": [\n    {\n      \"column\": \"0.00\",\n      \"properties\": {\n        \"dtype\": \"string\",\n        \"samples\": [\n          \"0.4995\",\n          \"0.4999\",\n          \"0.1554\"\n        ],\n        \"num_unique_values\": 38,\n        \"semantic_type\": \"\",\n        \"description\": \"\"\n      }\n    },\n    {\n      \"column\": \"0.01\",\n      \"properties\": {\n        \"dtype\": \"string\",\n        \"samples\": [\n          \"0.4995\",\n          \"0.4999\",\n          \"0.1591\"\n        ],\n        \"num_unique_values\": 38,\n        \"semantic_type\": \"\",\n        \"description\": \"\"\n      }\n    },\n    {\n      \"column\": \"0.02\",\n      \"properties\": {\n        \"dtype\": \"string\",\n        \"samples\": [\n          \"0.4995\",\n          \"0.4999\",\n          \"0.1628\"\n        ],\n        \"num_unique_values\": 38,\n        \"semantic_type\": \"\",\n        \"description\": \"\"\n      }\n    },\n    {\n      \"column\": \"0.03\",\n      \"properties\": {\n        \"dtype\": \"string\",\n        \"samples\": [\n          \"0.4996\",\n          \"0.4999\",\n          \"0.1664\"\n        ],\n        \"num_unique_values\": 38,\n        \"semantic_type\": \"\",\n        \"description\": \"\"\n      }\n    },\n    {\n      \"column\": \"0.04\",\n      \"properties\": {\n        \"dtype\": \"string\",\n        \"samples\": [\n          \"0.4996\",\n          \"0.4999\",\n          \"0.1700\"\n        ],\n        \"num_unique_values\": 38,\n        \"semantic_type\": \"\",\n        \"description\": \"\"\n      }\n    },\n    {\n      \"column\": \"0.05\",\n      \"properties\": {\n        \"dtype\": \"string\",\n        \"samples\": [\n          \"0.4996\",\n          \"0.4999\",\n          \"0.1736\"\n        ],\n        \"num_unique_values\": 38,\n        \"semantic_type\": \"\",\n        \"description\": \"\"\n      }\n    },\n    {\n      \"column\": \"0.06\",\n      \"properties\": {\n        \"dtype\": \"string\",\n        \"samples\": [\n          \"0.4996\",\n          \"0.4999\",\n          \"0.1772\"\n        ],\n        \"num_unique_values\": 38,\n        \"semantic_type\": \"\",\n        \"description\": \"\"\n      }\n    },\n    {\n      \"column\": \"0.07\",\n      \"properties\": {\n        \"dtype\": \"string\",\n        \"samples\": [\n          \"0.4996\",\n          \"0.4999\",\n          \"0.1808\"\n        ],\n        \"num_unique_values\": 38,\n        \"semantic_type\": \"\",\n        \"description\": \"\"\n      }\n    },\n    {\n      \"column\": \"0.08\",\n      \"properties\": {\n        \"dtype\": \"string\",\n        \"samples\": [\n          \"0.4996\",\n          \"0.4999\",\n          \"0.1844\"\n        ],\n        \"num_unique_values\": 38,\n        \"semantic_type\": \"\",\n        \"description\": \"\"\n      }\n    },\n    {\n      \"column\": \"0.09\",\n      \"properties\": {\n        \"dtype\": \"string\",\n        \"samples\": [\n          \"0.4633\",\n          \"0.4177\",\n          \"0.1879\"\n        ],\n        \"num_unique_values\": 37,\n        \"semantic_type\": \"\",\n        \"description\": \"\"\n      }\n    }\n  ]\n}"
            }
          },
          "metadata": {},
          "execution_count": 211
        }
      ],
      "source": [
        "tabela_normal_padronizada"
      ]
    },
    {
      "cell_type": "code",
      "execution_count": 212,
      "id": "2d6f7057",
      "metadata": {
        "ExecuteTime": {
          "end_time": "2021-12-07T02:35:08.369780Z",
          "start_time": "2021-12-07T02:35:08.353854Z"
        },
        "id": "2d6f7057",
        "outputId": "4f3905c3-5155-43a6-d527-e8c51c75a14a",
        "colab": {
          "base_uri": "https://localhost:8080/",
          "height": 269
        }
      },
      "outputs": [
        {
          "output_type": "execute_result",
          "data": {
            "text/plain": [
              "Z       0.00    0.01    0.02    0.03    0.04    0.05    0.06    0.07    0.08  \\\n",
              "1.50  0.4332  0.4345  0.4357  0.4370  0.4382  0.4394  0.4406  0.4418  0.4429   \n",
              "1.60  0.4452  0.4463  0.4474  0.4484  0.4495  0.4505  0.4515  0.4525  0.4535   \n",
              "1.70  0.4554  0.4564  0.4573  0.4582  0.4591  0.4599  0.4608  0.4616  0.4625   \n",
              "1.80  0.4641  0.4649  0.4656  0.4664  0.4671  0.4678  0.4686  0.4693  0.4699   \n",
              "1.90  0.4713  0.4719  0.4726  0.4732  0.4738  0.4744  0.4750  0.4756  0.4761   \n",
              "2.00  0.4772  0.4778  0.4783  0.4788  0.4793  0.4798  0.4803  0.4808  0.4812   \n",
              "2.10  0.4821  0.4826  0.4830  0.4834  0.4838  0.4842  0.4846  0.4850  0.4854   \n",
              "\n",
              "Z       0.09  \n",
              "1.50  0.4441  \n",
              "1.60  0.4545  \n",
              "1.70  0.4633  \n",
              "1.80  0.4706  \n",
              "1.90  0.4767  \n",
              "2.00  0.4817  \n",
              "2.10  0.4857  "
            ],
            "text/html": [
              "\n",
              "  <div id=\"df-f331497f-5d48-4894-a98c-016c950fbc0a\" class=\"colab-df-container\">\n",
              "    <div>\n",
              "<style scoped>\n",
              "    .dataframe tbody tr th:only-of-type {\n",
              "        vertical-align: middle;\n",
              "    }\n",
              "\n",
              "    .dataframe tbody tr th {\n",
              "        vertical-align: top;\n",
              "    }\n",
              "\n",
              "    .dataframe thead th {\n",
              "        text-align: right;\n",
              "    }\n",
              "</style>\n",
              "<table border=\"1\" class=\"dataframe\">\n",
              "  <thead>\n",
              "    <tr style=\"text-align: right;\">\n",
              "      <th>Z</th>\n",
              "      <th>0.00</th>\n",
              "      <th>0.01</th>\n",
              "      <th>0.02</th>\n",
              "      <th>0.03</th>\n",
              "      <th>0.04</th>\n",
              "      <th>0.05</th>\n",
              "      <th>0.06</th>\n",
              "      <th>0.07</th>\n",
              "      <th>0.08</th>\n",
              "      <th>0.09</th>\n",
              "    </tr>\n",
              "  </thead>\n",
              "  <tbody>\n",
              "    <tr>\n",
              "      <th>1.50</th>\n",
              "      <td>0.4332</td>\n",
              "      <td>0.4345</td>\n",
              "      <td>0.4357</td>\n",
              "      <td>0.4370</td>\n",
              "      <td>0.4382</td>\n",
              "      <td>0.4394</td>\n",
              "      <td>0.4406</td>\n",
              "      <td>0.4418</td>\n",
              "      <td>0.4429</td>\n",
              "      <td>0.4441</td>\n",
              "    </tr>\n",
              "    <tr>\n",
              "      <th>1.60</th>\n",
              "      <td>0.4452</td>\n",
              "      <td>0.4463</td>\n",
              "      <td>0.4474</td>\n",
              "      <td>0.4484</td>\n",
              "      <td>0.4495</td>\n",
              "      <td>0.4505</td>\n",
              "      <td>0.4515</td>\n",
              "      <td>0.4525</td>\n",
              "      <td>0.4535</td>\n",
              "      <td>0.4545</td>\n",
              "    </tr>\n",
              "    <tr>\n",
              "      <th>1.70</th>\n",
              "      <td>0.4554</td>\n",
              "      <td>0.4564</td>\n",
              "      <td>0.4573</td>\n",
              "      <td>0.4582</td>\n",
              "      <td>0.4591</td>\n",
              "      <td>0.4599</td>\n",
              "      <td>0.4608</td>\n",
              "      <td>0.4616</td>\n",
              "      <td>0.4625</td>\n",
              "      <td>0.4633</td>\n",
              "    </tr>\n",
              "    <tr>\n",
              "      <th>1.80</th>\n",
              "      <td>0.4641</td>\n",
              "      <td>0.4649</td>\n",
              "      <td>0.4656</td>\n",
              "      <td>0.4664</td>\n",
              "      <td>0.4671</td>\n",
              "      <td>0.4678</td>\n",
              "      <td>0.4686</td>\n",
              "      <td>0.4693</td>\n",
              "      <td>0.4699</td>\n",
              "      <td>0.4706</td>\n",
              "    </tr>\n",
              "    <tr>\n",
              "      <th>1.90</th>\n",
              "      <td>0.4713</td>\n",
              "      <td>0.4719</td>\n",
              "      <td>0.4726</td>\n",
              "      <td>0.4732</td>\n",
              "      <td>0.4738</td>\n",
              "      <td>0.4744</td>\n",
              "      <td>0.4750</td>\n",
              "      <td>0.4756</td>\n",
              "      <td>0.4761</td>\n",
              "      <td>0.4767</td>\n",
              "    </tr>\n",
              "    <tr>\n",
              "      <th>2.00</th>\n",
              "      <td>0.4772</td>\n",
              "      <td>0.4778</td>\n",
              "      <td>0.4783</td>\n",
              "      <td>0.4788</td>\n",
              "      <td>0.4793</td>\n",
              "      <td>0.4798</td>\n",
              "      <td>0.4803</td>\n",
              "      <td>0.4808</td>\n",
              "      <td>0.4812</td>\n",
              "      <td>0.4817</td>\n",
              "    </tr>\n",
              "    <tr>\n",
              "      <th>2.10</th>\n",
              "      <td>0.4821</td>\n",
              "      <td>0.4826</td>\n",
              "      <td>0.4830</td>\n",
              "      <td>0.4834</td>\n",
              "      <td>0.4838</td>\n",
              "      <td>0.4842</td>\n",
              "      <td>0.4846</td>\n",
              "      <td>0.4850</td>\n",
              "      <td>0.4854</td>\n",
              "      <td>0.4857</td>\n",
              "    </tr>\n",
              "  </tbody>\n",
              "</table>\n",
              "</div>\n",
              "    <div class=\"colab-df-buttons\">\n",
              "\n",
              "  <div class=\"colab-df-container\">\n",
              "    <button class=\"colab-df-convert\" onclick=\"convertToInteractive('df-f331497f-5d48-4894-a98c-016c950fbc0a')\"\n",
              "            title=\"Convert this dataframe to an interactive table.\"\n",
              "            style=\"display:none;\">\n",
              "\n",
              "  <svg xmlns=\"http://www.w3.org/2000/svg\" height=\"24px\" viewBox=\"0 -960 960 960\">\n",
              "    <path d=\"M120-120v-720h720v720H120Zm60-500h600v-160H180v160Zm220 220h160v-160H400v160Zm0 220h160v-160H400v160ZM180-400h160v-160H180v160Zm440 0h160v-160H620v160ZM180-180h160v-160H180v160Zm440 0h160v-160H620v160Z\"/>\n",
              "  </svg>\n",
              "    </button>\n",
              "\n",
              "  <style>\n",
              "    .colab-df-container {\n",
              "      display:flex;\n",
              "      gap: 12px;\n",
              "    }\n",
              "\n",
              "    .colab-df-convert {\n",
              "      background-color: #E8F0FE;\n",
              "      border: none;\n",
              "      border-radius: 50%;\n",
              "      cursor: pointer;\n",
              "      display: none;\n",
              "      fill: #1967D2;\n",
              "      height: 32px;\n",
              "      padding: 0 0 0 0;\n",
              "      width: 32px;\n",
              "    }\n",
              "\n",
              "    .colab-df-convert:hover {\n",
              "      background-color: #E2EBFA;\n",
              "      box-shadow: 0px 1px 2px rgba(60, 64, 67, 0.3), 0px 1px 3px 1px rgba(60, 64, 67, 0.15);\n",
              "      fill: #174EA6;\n",
              "    }\n",
              "\n",
              "    .colab-df-buttons div {\n",
              "      margin-bottom: 4px;\n",
              "    }\n",
              "\n",
              "    [theme=dark] .colab-df-convert {\n",
              "      background-color: #3B4455;\n",
              "      fill: #D2E3FC;\n",
              "    }\n",
              "\n",
              "    [theme=dark] .colab-df-convert:hover {\n",
              "      background-color: #434B5C;\n",
              "      box-shadow: 0px 1px 3px 1px rgba(0, 0, 0, 0.15);\n",
              "      filter: drop-shadow(0px 1px 2px rgba(0, 0, 0, 0.3));\n",
              "      fill: #FFFFFF;\n",
              "    }\n",
              "  </style>\n",
              "\n",
              "    <script>\n",
              "      const buttonEl =\n",
              "        document.querySelector('#df-f331497f-5d48-4894-a98c-016c950fbc0a button.colab-df-convert');\n",
              "      buttonEl.style.display =\n",
              "        google.colab.kernel.accessAllowed ? 'block' : 'none';\n",
              "\n",
              "      async function convertToInteractive(key) {\n",
              "        const element = document.querySelector('#df-f331497f-5d48-4894-a98c-016c950fbc0a');\n",
              "        const dataTable =\n",
              "          await google.colab.kernel.invokeFunction('convertToInteractive',\n",
              "                                                    [key], {});\n",
              "        if (!dataTable) return;\n",
              "\n",
              "        const docLinkHtml = 'Like what you see? Visit the ' +\n",
              "          '<a target=\"_blank\" href=https://colab.research.google.com/notebooks/data_table.ipynb>data table notebook</a>'\n",
              "          + ' to learn more about interactive tables.';\n",
              "        element.innerHTML = '';\n",
              "        dataTable['output_type'] = 'display_data';\n",
              "        await google.colab.output.renderOutput(dataTable, element);\n",
              "        const docLink = document.createElement('div');\n",
              "        docLink.innerHTML = docLinkHtml;\n",
              "        element.appendChild(docLink);\n",
              "      }\n",
              "    </script>\n",
              "  </div>\n",
              "\n",
              "\n",
              "<div id=\"df-f2917838-8dd0-4cd9-b4ac-9e32727e9b87\">\n",
              "  <button class=\"colab-df-quickchart\" onclick=\"quickchart('df-f2917838-8dd0-4cd9-b4ac-9e32727e9b87')\"\n",
              "            title=\"Suggest charts\"\n",
              "            style=\"display:none;\">\n",
              "\n",
              "<svg xmlns=\"http://www.w3.org/2000/svg\" height=\"24px\"viewBox=\"0 0 24 24\"\n",
              "     width=\"24px\">\n",
              "    <g>\n",
              "        <path d=\"M19 3H5c-1.1 0-2 .9-2 2v14c0 1.1.9 2 2 2h14c1.1 0 2-.9 2-2V5c0-1.1-.9-2-2-2zM9 17H7v-7h2v7zm4 0h-2V7h2v10zm4 0h-2v-4h2v4z\"/>\n",
              "    </g>\n",
              "</svg>\n",
              "  </button>\n",
              "\n",
              "<style>\n",
              "  .colab-df-quickchart {\n",
              "      --bg-color: #E8F0FE;\n",
              "      --fill-color: #1967D2;\n",
              "      --hover-bg-color: #E2EBFA;\n",
              "      --hover-fill-color: #174EA6;\n",
              "      --disabled-fill-color: #AAA;\n",
              "      --disabled-bg-color: #DDD;\n",
              "  }\n",
              "\n",
              "  [theme=dark] .colab-df-quickchart {\n",
              "      --bg-color: #3B4455;\n",
              "      --fill-color: #D2E3FC;\n",
              "      --hover-bg-color: #434B5C;\n",
              "      --hover-fill-color: #FFFFFF;\n",
              "      --disabled-bg-color: #3B4455;\n",
              "      --disabled-fill-color: #666;\n",
              "  }\n",
              "\n",
              "  .colab-df-quickchart {\n",
              "    background-color: var(--bg-color);\n",
              "    border: none;\n",
              "    border-radius: 50%;\n",
              "    cursor: pointer;\n",
              "    display: none;\n",
              "    fill: var(--fill-color);\n",
              "    height: 32px;\n",
              "    padding: 0;\n",
              "    width: 32px;\n",
              "  }\n",
              "\n",
              "  .colab-df-quickchart:hover {\n",
              "    background-color: var(--hover-bg-color);\n",
              "    box-shadow: 0 1px 2px rgba(60, 64, 67, 0.3), 0 1px 3px 1px rgba(60, 64, 67, 0.15);\n",
              "    fill: var(--button-hover-fill-color);\n",
              "  }\n",
              "\n",
              "  .colab-df-quickchart-complete:disabled,\n",
              "  .colab-df-quickchart-complete:disabled:hover {\n",
              "    background-color: var(--disabled-bg-color);\n",
              "    fill: var(--disabled-fill-color);\n",
              "    box-shadow: none;\n",
              "  }\n",
              "\n",
              "  .colab-df-spinner {\n",
              "    border: 2px solid var(--fill-color);\n",
              "    border-color: transparent;\n",
              "    border-bottom-color: var(--fill-color);\n",
              "    animation:\n",
              "      spin 1s steps(1) infinite;\n",
              "  }\n",
              "\n",
              "  @keyframes spin {\n",
              "    0% {\n",
              "      border-color: transparent;\n",
              "      border-bottom-color: var(--fill-color);\n",
              "      border-left-color: var(--fill-color);\n",
              "    }\n",
              "    20% {\n",
              "      border-color: transparent;\n",
              "      border-left-color: var(--fill-color);\n",
              "      border-top-color: var(--fill-color);\n",
              "    }\n",
              "    30% {\n",
              "      border-color: transparent;\n",
              "      border-left-color: var(--fill-color);\n",
              "      border-top-color: var(--fill-color);\n",
              "      border-right-color: var(--fill-color);\n",
              "    }\n",
              "    40% {\n",
              "      border-color: transparent;\n",
              "      border-right-color: var(--fill-color);\n",
              "      border-top-color: var(--fill-color);\n",
              "    }\n",
              "    60% {\n",
              "      border-color: transparent;\n",
              "      border-right-color: var(--fill-color);\n",
              "    }\n",
              "    80% {\n",
              "      border-color: transparent;\n",
              "      border-right-color: var(--fill-color);\n",
              "      border-bottom-color: var(--fill-color);\n",
              "    }\n",
              "    90% {\n",
              "      border-color: transparent;\n",
              "      border-bottom-color: var(--fill-color);\n",
              "    }\n",
              "  }\n",
              "</style>\n",
              "\n",
              "  <script>\n",
              "    async function quickchart(key) {\n",
              "      const quickchartButtonEl =\n",
              "        document.querySelector('#' + key + ' button');\n",
              "      quickchartButtonEl.disabled = true;  // To prevent multiple clicks.\n",
              "      quickchartButtonEl.classList.add('colab-df-spinner');\n",
              "      try {\n",
              "        const charts = await google.colab.kernel.invokeFunction(\n",
              "            'suggestCharts', [key], {});\n",
              "      } catch (error) {\n",
              "        console.error('Error during call to suggestCharts:', error);\n",
              "      }\n",
              "      quickchartButtonEl.classList.remove('colab-df-spinner');\n",
              "      quickchartButtonEl.classList.add('colab-df-quickchart-complete');\n",
              "    }\n",
              "    (() => {\n",
              "      let quickchartButtonEl =\n",
              "        document.querySelector('#df-f2917838-8dd0-4cd9-b4ac-9e32727e9b87 button');\n",
              "      quickchartButtonEl.style.display =\n",
              "        google.colab.kernel.accessAllowed ? 'block' : 'none';\n",
              "    })();\n",
              "  </script>\n",
              "</div>\n",
              "\n",
              "    </div>\n",
              "  </div>\n"
            ],
            "application/vnd.google.colaboratory.intrinsic+json": {
              "type": "dataframe",
              "summary": "{\n  \"name\": \"tabela_normal_padronizada\",\n  \"rows\": 7,\n  \"fields\": [\n    {\n      \"column\": \"0.00\",\n      \"properties\": {\n        \"dtype\": \"string\",\n        \"samples\": [\n          \"0.4332\",\n          \"0.4452\",\n          \"0.4772\"\n        ],\n        \"num_unique_values\": 7,\n        \"semantic_type\": \"\",\n        \"description\": \"\"\n      }\n    },\n    {\n      \"column\": \"0.01\",\n      \"properties\": {\n        \"dtype\": \"string\",\n        \"samples\": [\n          \"0.4345\",\n          \"0.4463\",\n          \"0.4778\"\n        ],\n        \"num_unique_values\": 7,\n        \"semantic_type\": \"\",\n        \"description\": \"\"\n      }\n    },\n    {\n      \"column\": \"0.02\",\n      \"properties\": {\n        \"dtype\": \"string\",\n        \"samples\": [\n          \"0.4357\",\n          \"0.4474\",\n          \"0.4783\"\n        ],\n        \"num_unique_values\": 7,\n        \"semantic_type\": \"\",\n        \"description\": \"\"\n      }\n    },\n    {\n      \"column\": \"0.03\",\n      \"properties\": {\n        \"dtype\": \"string\",\n        \"samples\": [\n          \"0.4370\",\n          \"0.4484\",\n          \"0.4788\"\n        ],\n        \"num_unique_values\": 7,\n        \"semantic_type\": \"\",\n        \"description\": \"\"\n      }\n    },\n    {\n      \"column\": \"0.04\",\n      \"properties\": {\n        \"dtype\": \"string\",\n        \"samples\": [\n          \"0.4382\",\n          \"0.4495\",\n          \"0.4793\"\n        ],\n        \"num_unique_values\": 7,\n        \"semantic_type\": \"\",\n        \"description\": \"\"\n      }\n    },\n    {\n      \"column\": \"0.05\",\n      \"properties\": {\n        \"dtype\": \"string\",\n        \"samples\": [\n          \"0.4394\",\n          \"0.4505\",\n          \"0.4798\"\n        ],\n        \"num_unique_values\": 7,\n        \"semantic_type\": \"\",\n        \"description\": \"\"\n      }\n    },\n    {\n      \"column\": \"0.06\",\n      \"properties\": {\n        \"dtype\": \"string\",\n        \"samples\": [\n          \"0.4406\",\n          \"0.4515\",\n          \"0.4803\"\n        ],\n        \"num_unique_values\": 7,\n        \"semantic_type\": \"\",\n        \"description\": \"\"\n      }\n    },\n    {\n      \"column\": \"0.07\",\n      \"properties\": {\n        \"dtype\": \"string\",\n        \"samples\": [\n          \"0.4418\",\n          \"0.4525\",\n          \"0.4808\"\n        ],\n        \"num_unique_values\": 7,\n        \"semantic_type\": \"\",\n        \"description\": \"\"\n      }\n    },\n    {\n      \"column\": \"0.08\",\n      \"properties\": {\n        \"dtype\": \"string\",\n        \"samples\": [\n          \"0.4429\",\n          \"0.4535\",\n          \"0.4812\"\n        ],\n        \"num_unique_values\": 7,\n        \"semantic_type\": \"\",\n        \"description\": \"\"\n      }\n    },\n    {\n      \"column\": \"0.09\",\n      \"properties\": {\n        \"dtype\": \"string\",\n        \"samples\": [\n          \"0.4441\",\n          \"0.4545\",\n          \"0.4817\"\n        ],\n        \"num_unique_values\": 7,\n        \"semantic_type\": \"\",\n        \"description\": \"\"\n      }\n    }\n  ]\n}"
            }
          },
          "metadata": {},
          "execution_count": 212
        }
      ],
      "source": [
        "tabela_normal_padronizada.iloc[15:22]"
      ]
    },
    {
      "cell_type": "markdown",
      "id": "913409a5",
      "metadata": {
        "id": "913409a5"
      },
      "source": [
        "![alt text](https://caelum-online-public.s3.amazonaws.com/1178-estatistica-parte2/01/img008.png)"
      ]
    }
  ],
  "metadata": {
    "kernelspec": {
      "display_name": "Python 3 (ipykernel)",
      "language": "python",
      "name": "python3"
    },
    "language_info": {
      "codemirror_mode": {
        "name": "ipython",
        "version": 3
      },
      "file_extension": ".py",
      "mimetype": "text/x-python",
      "name": "python",
      "nbconvert_exporter": "python",
      "pygments_lexer": "ipython3",
      "version": "3.9.13"
    },
    "varInspector": {
      "cols": {
        "lenName": 16,
        "lenType": 16,
        "lenVar": 40
      },
      "kernels_config": {
        "python": {
          "delete_cmd_postfix": "",
          "delete_cmd_prefix": "del ",
          "library": "var_list.py",
          "varRefreshCmd": "print(var_dic_list())"
        },
        "r": {
          "delete_cmd_postfix": ") ",
          "delete_cmd_prefix": "rm(",
          "library": "var_list.r",
          "varRefreshCmd": "cat(var_dic_list()) "
        }
      },
      "types_to_exclude": [
        "module",
        "function",
        "builtin_function_or_method",
        "instance",
        "_Feature"
      ],
      "window_display": false
    },
    "colab": {
      "provenance": []
    }
  },
  "nbformat": 4,
  "nbformat_minor": 5
}